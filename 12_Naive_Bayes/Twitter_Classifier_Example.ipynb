{
 "metadata": {
  "name": "",
  "signature": "sha256:e9f1d009bad3e9dec69a74a09fea365b26013036ff2c2526aa9b0df50a55ce15"
 },
 "nbformat": 3,
 "nbformat_minor": 0,
 "worksheets": [
  {
   "cells": [
    {
     "cell_type": "markdown",
     "metadata": {},
     "source": [
      "#Creating a Twitter Classifier"
     ]
    },
    {
     "cell_type": "markdown",
     "metadata": {},
     "source": [
      "## Prepare a Target (Y) and Feature (X) Training Set"
     ]
    },
    {
     "cell_type": "code",
     "collapsed": false,
     "input": [
      "# Import Libraries\n",
      "import pandas as pd\n",
      "%pylab inline"
     ],
     "language": "python",
     "metadata": {},
     "outputs": [
      {
       "output_type": "stream",
       "stream": "stdout",
       "text": [
        "Populating the interactive namespace from numpy and matplotlib\n"
       ]
      },
      {
       "output_type": "stream",
       "stream": "stderr",
       "text": [
        "WARNING: pylab import has clobbered these variables: ['random', 'clf']\n",
        "`%matplotlib` prevents importing * from pylab and numpy\n"
       ]
      }
     ],
     "prompt_number": 63
    },
    {
     "cell_type": "code",
     "collapsed": false,
     "input": [
      "# Load Tweets\n",
      "XY = pd.read_csv(\"twitter_training/sts_gold_tweet.csv\",sep=\";\")"
     ],
     "language": "python",
     "metadata": {},
     "outputs": [],
     "prompt_number": 64
    },
    {
     "cell_type": "code",
     "collapsed": false,
     "input": [
      "# View contents\n",
      "XY.head()"
     ],
     "language": "python",
     "metadata": {},
     "outputs": [
      {
       "html": [
        "<div style=\"max-height:1000px;max-width:1500px;overflow:auto;\">\n",
        "<table border=\"1\" class=\"dataframe\">\n",
        "  <thead>\n",
        "    <tr style=\"text-align: right;\">\n",
        "      <th></th>\n",
        "      <th>id</th>\n",
        "      <th>polarity</th>\n",
        "      <th>tweet</th>\n",
        "    </tr>\n",
        "  </thead>\n",
        "  <tbody>\n",
        "    <tr>\n",
        "      <th>0</th>\n",
        "      <td> 1467933112</td>\n",
        "      <td> 0</td>\n",
        "      <td>                                                                           the angel is going to miss the athlete this weekend </td>\n",
        "    </tr>\n",
        "    <tr>\n",
        "      <th>1</th>\n",
        "      <td> 2323395086</td>\n",
        "      <td> 0</td>\n",
        "      <td> It looks as though Shaq is getting traded to Cleveland to play w/ LeBron... Too bad for Suns' fans. The Big Cactus is no more </td>\n",
        "    </tr>\n",
        "    <tr>\n",
        "      <th>2</th>\n",
        "      <td> 1467968979</td>\n",
        "      <td> 0</td>\n",
        "      <td>                                                                                 @clarianne APRIL 9TH ISN'T COMING SOON ENOUGH </td>\n",
        "    </tr>\n",
        "    <tr>\n",
        "      <th>3</th>\n",
        "      <td> 1990283756</td>\n",
        "      <td> 0</td>\n",
        "      <td>                           drinking a McDonalds coffee and not understanding why someone would hurt me for no apparent reason. </td>\n",
        "    </tr>\n",
        "    <tr>\n",
        "      <th>4</th>\n",
        "      <td> 1988884918</td>\n",
        "      <td> 0</td>\n",
        "      <td>                                                                            So dissapointed Taylor Swift doesnt have a Twitter </td>\n",
        "    </tr>\n",
        "  </tbody>\n",
        "</table>\n",
        "</div>"
       ],
       "metadata": {},
       "output_type": "pyout",
       "prompt_number": 65,
       "text": [
        "           id  polarity  \\\n",
        "0  1467933112         0   \n",
        "1  2323395086         0   \n",
        "2  1467968979         0   \n",
        "3  1990283756         0   \n",
        "4  1988884918         0   \n",
        "\n",
        "                                                                                                                            tweet  \n",
        "0                                                                            the angel is going to miss the athlete this weekend   \n",
        "1  It looks as though Shaq is getting traded to Cleveland to play w/ LeBron... Too bad for Suns' fans. The Big Cactus is no more   \n",
        "2                                                                                  @clarianne APRIL 9TH ISN'T COMING SOON ENOUGH   \n",
        "3                            drinking a McDonalds coffee and not understanding why someone would hurt me for no apparent reason.   \n",
        "4                                                                             So dissapointed Taylor Swift doesnt have a Twitter   "
       ]
      }
     ],
     "prompt_number": 65
    },
    {
     "cell_type": "markdown",
     "metadata": {},
     "source": [
      "entity_sentiment: the sentiment of the entity in the tweet (agreed by the three annotators) (0: negative), (2: neutral) (4: positive) (6: mixed) (8: other)"
     ]
    },
    {
     "cell_type": "code",
     "collapsed": false,
     "input": [
      "# View contents\n",
      "XY.describe()"
     ],
     "language": "python",
     "metadata": {},
     "outputs": [
      {
       "html": [
        "<div style=\"max-height:1000px;max-width:1500px;overflow:auto;\">\n",
        "<table border=\"1\" class=\"dataframe\">\n",
        "  <thead>\n",
        "    <tr style=\"text-align: right;\">\n",
        "      <th></th>\n",
        "      <th>id</th>\n",
        "      <th>polarity</th>\n",
        "    </tr>\n",
        "  </thead>\n",
        "  <tbody>\n",
        "    <tr>\n",
        "      <th>count</th>\n",
        "      <td> 2.034000e+03</td>\n",
        "      <td> 2034.000000</td>\n",
        "    </tr>\n",
        "    <tr>\n",
        "      <th>mean</th>\n",
        "      <td> 1.897987e+09</td>\n",
        "      <td>    1.242871</td>\n",
        "    </tr>\n",
        "    <tr>\n",
        "      <th>std</th>\n",
        "      <td> 2.858502e+08</td>\n",
        "      <td>    1.851605</td>\n",
        "    </tr>\n",
        "    <tr>\n",
        "      <th>min</th>\n",
        "      <td> 1.467812e+09</td>\n",
        "      <td>    0.000000</td>\n",
        "    </tr>\n",
        "    <tr>\n",
        "      <th>25%</th>\n",
        "      <td> 1.557154e+09</td>\n",
        "      <td>    0.000000</td>\n",
        "    </tr>\n",
        "    <tr>\n",
        "      <th>50%</th>\n",
        "      <td> 1.978393e+09</td>\n",
        "      <td>    0.000000</td>\n",
        "    </tr>\n",
        "    <tr>\n",
        "      <th>75%</th>\n",
        "      <td> 2.174644e+09</td>\n",
        "      <td>    4.000000</td>\n",
        "    </tr>\n",
        "    <tr>\n",
        "      <th>max</th>\n",
        "      <td> 2.329028e+09</td>\n",
        "      <td>    4.000000</td>\n",
        "    </tr>\n",
        "  </tbody>\n",
        "</table>\n",
        "</div>"
       ],
       "metadata": {},
       "output_type": "pyout",
       "prompt_number": 66,
       "text": [
        "                 id     polarity\n",
        "count  2.034000e+03  2034.000000\n",
        "mean   1.897987e+09     1.242871\n",
        "std    2.858502e+08     1.851605\n",
        "min    1.467812e+09     0.000000\n",
        "25%    1.557154e+09     0.000000\n",
        "50%    1.978393e+09     0.000000\n",
        "75%    2.174644e+09     4.000000\n",
        "max    2.329028e+09     4.000000"
       ]
      }
     ],
     "prompt_number": 66
    },
    {
     "cell_type": "code",
     "collapsed": false,
     "input": [
      "# View histogram of polarity\n",
      "XY.polarity.hist()\n",
      "plt.title(\"Polarity of Tweets in Training Set\\n\")"
     ],
     "language": "python",
     "metadata": {},
     "outputs": [
      {
       "metadata": {},
       "output_type": "pyout",
       "prompt_number": 67,
       "text": [
        "<matplotlib.text.Text at 0x10eaef8d0>"
       ]
      },
      {
       "metadata": {},
       "output_type": "display_data",
       "png": "[encoded data removed]",
       "text": [
        "<matplotlib.figure.Figure at 0x10edacc90>"
       ]
      }
     ],
     "prompt_number": 67
    },
    {
     "cell_type": "code",
     "collapsed": false,
     "input": [
      "# Convert target to boolean\n",
      "# XY is the dataframe\n",
      "Y = (XY.polarity == 4.0)"
     ],
     "language": "python",
     "metadata": {},
     "outputs": [],
     "prompt_number": 68
    },
    {
     "cell_type": "code",
     "collapsed": false,
     "input": [
      "# View target\n",
      "Y.describe()"
     ],
     "language": "python",
     "metadata": {},
     "outputs": [
      {
       "metadata": {},
       "output_type": "pyout",
       "prompt_number": 69,
       "text": [
        "count         2034\n",
        "mean     0.3107178\n",
        "std      0.4629013\n",
        "min          False\n",
        "25%              0\n",
        "50%              0\n",
        "75%              1\n",
        "max           True\n",
        "dtype: object"
       ]
      }
     ],
     "prompt_number": 69
    },
    {
     "cell_type": "code",
     "collapsed": false,
     "input": [
      "# Create the feature set\n",
      "X_raw = XY.tweet"
     ],
     "language": "python",
     "metadata": {},
     "outputs": [],
     "prompt_number": 70
    },
    {
     "cell_type": "code",
     "collapsed": false,
     "input": [
      "# Describe X_raw\n",
      "X_raw.describe()"
     ],
     "language": "python",
     "metadata": {},
     "outputs": [
      {
       "metadata": {},
       "output_type": "pyout",
       "prompt_number": 71,
       "text": [
        "count                                                                  2034\n",
        "unique                                                                 2026\n",
        "top       Jogging, isnt REALLY that cool, especially if you've got a fever \n",
        "freq                                                                      4\n",
        "dtype: object"
       ]
      }
     ],
     "prompt_number": 71
    },
    {
     "cell_type": "code",
     "collapsed": false,
     "input": [
      "# Vectorize X\n",
      "#\n",
      "#\n",
      "\n",
      "## Load moddule\n",
      "from sklearn.feature_extraction.text import CountVectorizer\n",
      "\n",
      "##  Define ngrams\n",
      "vectorizer = CountVectorizer(ngram_range=(1,2))\n",
      "\n",
      "\n",
      "## Create a vector where each row is bag-of-words for a single tweet\n",
      "X = vectorizer.fit_transform(X_raw) "
     ],
     "language": "python",
     "metadata": {},
     "outputs": [],
     "prompt_number": 72
    },
    {
     "cell_type": "code",
     "collapsed": false,
     "input": [
      "# View X dimensions\n",
      "X"
     ],
     "language": "python",
     "metadata": {},
     "outputs": [
      {
       "metadata": {},
       "output_type": "pyout",
       "prompt_number": 73,
       "text": [
        "<2034x24410 sparse matrix of type '<type 'numpy.int64'>'\n",
        "\twith 52233 stored elements in Compressed Sparse Row format>"
       ]
      }
     ],
     "prompt_number": 73
    },
    {
     "cell_type": "markdown",
     "metadata": {},
     "source": [
      "## Create Classifier"
     ]
    },
    {
     "cell_type": "code",
     "collapsed": false,
     "input": [
      "# Import Libraries\n",
      "from sklearn.cross_validation import train_test_split\n",
      "from sklearn.naive_bayes import MultinomialNB"
     ],
     "language": "python",
     "metadata": {},
     "outputs": [],
     "prompt_number": 74
    },
    {
     "cell_type": "code",
     "collapsed": false,
     "input": [
      "# Train/Test Split\n",
      "xtrain, xtest, ytrain, ytest = train_test_split(X, Y)"
     ],
     "language": "python",
     "metadata": {},
     "outputs": [],
     "prompt_number": 75
    },
    {
     "cell_type": "code",
     "collapsed": false,
     "input": [
      "# Create an accuracy report function\n",
      "def accuracy_report(_clf):\n",
      "    print \"Accuracy: %0.2f%%\" % (100 * _clf.score(xtest, ytest))\n",
      "\n",
      "    #Print the accuracy on the test and training dataset\n",
      "    training_accuracy = _clf.score(xtrain, ytrain)\n",
      "    test_accuracy = _clf.score(xtest, ytest)\n",
      "\n",
      "    print \"Accuracy on training data: %0.2f\" % (training_accuracy)\n",
      "    print \"Accuracy on test data:     %0.2f\" % (test_accuracy)"
     ],
     "language": "python",
     "metadata": {},
     "outputs": [],
     "prompt_number": 76
    },
    {
     "cell_type": "code",
     "collapsed": false,
     "input": [
      "# Run classifier\n",
      "\n",
      "clf = MultinomialNB().fit(xtrain, ytrain)\n"
     ],
     "language": "python",
     "metadata": {},
     "outputs": [],
     "prompt_number": 77
    },
    {
     "cell_type": "code",
     "collapsed": false,
     "input": [
      "# Check Accuracy\n",
      "print \"MultinomialNB:\"\n",
      "accuracy_report(clf)"
     ],
     "language": "python",
     "metadata": {},
     "outputs": [
      {
       "output_type": "stream",
       "stream": "stdout",
       "text": [
        "MultinomialNB:\n",
        "Accuracy: 81.53%\n",
        "Accuracy on training data: 0.99\n",
        "Accuracy on test data:     0.82\n"
       ]
      }
     ],
     "prompt_number": 78
    },
    {
     "cell_type": "code",
     "collapsed": false,
     "input": [
      "# Generate probability outputs\n",
      "prob = clf.predict_proba(X)[:, 0]\n"
     ],
     "language": "python",
     "metadata": {},
     "outputs": [],
     "prompt_number": 79
    },
    {
     "cell_type": "code",
     "collapsed": false,
     "input": [
      "# Generate prediction outputs\n",
      "predict = clf.predict(X)"
     ],
     "language": "python",
     "metadata": {},
     "outputs": [],
     "prompt_number": 80
    },
    {
     "cell_type": "code",
     "collapsed": false,
     "input": [
      "# Create a results dataframe\n",
      "results = pd.DataFrame(zip(X_raw,predict),columns=[\"tweets\",\"sentiment\"])"
     ],
     "language": "python",
     "metadata": {},
     "outputs": [],
     "prompt_number": 81
    },
    {
     "cell_type": "code",
     "collapsed": false,
     "input": [
      "# View overall distribution\n",
      "results.sentiment.describe()"
     ],
     "language": "python",
     "metadata": {},
     "outputs": [
      {
       "metadata": {},
       "output_type": "pyout",
       "prompt_number": 82,
       "text": [
        "count         2034\n",
        "mean     0.2969518\n",
        "std      0.4570275\n",
        "min          False\n",
        "25%              0\n",
        "50%              0\n",
        "75%              1\n",
        "max           True\n",
        "dtype: object"
       ]
      }
     ],
     "prompt_number": 82
    },
    {
     "cell_type": "code",
     "collapsed": false,
     "input": [
      "# Examine some random positive and negative tweets\n",
      "#\n",
      "#\n",
      "import random\n",
      "# random.sample Chooses k unique random elements from a population sequence.\n"
     ],
     "language": "python",
     "metadata": {},
     "outputs": [],
     "prompt_number": 83
    },
    {
     "cell_type": "code",
     "collapsed": false,
     "input": [
      "# Isolate positive and negative tweets\n",
      "neg_tweets = results[results.sentiment==False]\n",
      "pos_tweets = results[results.sentiment==True]"
     ],
     "language": "python",
     "metadata": {},
     "outputs": [],
     "prompt_number": 84
    },
    {
     "cell_type": "code",
     "collapsed": false,
     "input": [
      "# Widen pandas columns\n",
      "pd.set_option('display.max_colwidth',200)"
     ],
     "language": "python",
     "metadata": {},
     "outputs": [],
     "prompt_number": 85
    },
    {
     "cell_type": "code",
     "collapsed": true,
     "input": [
      "pos_tweets"
     ],
     "language": "python",
     "metadata": {},
     "outputs": [
      {
       "html": [
        "<div style=\"max-height:1000px;max-width:1500px;overflow:auto;\">\n",
        "<table border=\"1\" class=\"dataframe\">\n",
        "  <thead>\n",
        "    <tr style=\"text-align: right;\">\n",
        "      <th></th>\n",
        "      <th>tweets</th>\n",
        "      <th>sentiment</th>\n",
        "    </tr>\n",
        "  </thead>\n",
        "  <tbody>\n",
        "    <tr>\n",
        "      <th>17  </th>\n",
        "      <td>                                                                                     I hate the fact that I'm genuinely excited about my last tweet </td>\n",
        "      <td> True</td>\n",
        "    </tr>\n",
        "    <tr>\n",
        "      <th>50  </th>\n",
        "      <td>                                           @Lowjacker twitter top trends pisses me off. Oprah and the other tv celebs totally ruined twitters vibe. </td>\n",
        "      <td> True</td>\n",
        "    </tr>\n",
        "    <tr>\n",
        "      <th>77  </th>\n",
        "      <td>                                                                                             @ mcdonalds with my litto sis aka cuzin lol cristyyyyy </td>\n",
        "      <td> True</td>\n",
        "    </tr>\n",
        "    <tr>\n",
        "      <th>78  </th>\n",
        "      <td>                                                                                 @AnnaSaccone Love your new cards!   I would definitely hire you ;).</td>\n",
        "      <td> True</td>\n",
        "    </tr>\n",
        "    <tr>\n",
        "      <th>79  </th>\n",
        "      <td>                                     @supricky06 that was one of the most enjoyable experiences I've had on YouTube. Well done  http://bit.ly/1a7zPw</td>\n",
        "      <td> True</td>\n",
        "    </tr>\n",
        "    <tr>\n",
        "      <th>80  </th>\n",
        "      <td>                                                                         Dallas vegas goodness  http://twitpic.com/3lzt1 On my way to to the SusCon </td>\n",
        "      <td> True</td>\n",
        "    </tr>\n",
        "    <tr>\n",
        "      <th>81  </th>\n",
        "      <td>                                                         @JBsFanArgentina Hey I luv this pic!!! was amazing of the last CHAT of The JB in FACEBOOK! </td>\n",
        "      <td> True</td>\n",
        "    </tr>\n",
        "    <tr>\n",
        "      <th>82  </th>\n",
        "      <td>                                                                                    @llmatticusll yuuuup! 9 miles  it's for cancer! for a good deed!</td>\n",
        "      <td> True</td>\n",
        "    </tr>\n",
        "    <tr>\n",
        "      <th>83  </th>\n",
        "      <td> @seanmurphymusic I'am in love with Taylor Swift's &amp;quot;Crazier&amp;quot; and I think you should definitely do a cover of it, it'll be beautiful  &amp;lt;3</td>\n",
        "      <td> True</td>\n",
        "    </tr>\n",
        "    <tr>\n",
        "      <th>84  </th>\n",
        "      <td>                                                                                     Had a piece of fried chicken, some PSP luv and now off to bed. </td>\n",
        "      <td> True</td>\n",
        "    </tr>\n",
        "    <tr>\n",
        "      <th>85  </th>\n",
        "      <td>                                           @mileycyrus BRAZIL LOVES U SO MUCH!! YOU ARE AWESOME, MILEY! COME TO BRAZIL.. WE CAN'T FOR THIS DAY COME </td>\n",
        "      <td> True</td>\n",
        "    </tr>\n",
        "    <tr>\n",
        "      <th>86  </th>\n",
        "      <td>                         @SilMuri yeah that'd be awesome... You're gonna be the new Oprah! Freakin' yeah  *ninja-rolls over to Sil to eat chocolate*</td>\n",
        "      <td> True</td>\n",
        "    </tr>\n",
        "    <tr>\n",
        "      <th>87  </th>\n",
        "      <td>                   @DanniAsheOnline Awwww she called me sexy  nice! you rock Danni! you just made my night gurl! muah! I'll give you props anytime! </td>\n",
        "      <td> True</td>\n",
        "    </tr>\n",
        "    <tr>\n",
        "      <th>88  </th>\n",
        "      <td>                           @McChelsea get a glass of wine, a nice book, and just chillax out there.  oh wait, it's seattle, i'll probably rain. hah </td>\n",
        "      <td> True</td>\n",
        "    </tr>\n",
        "    <tr>\n",
        "      <th>89  </th>\n",
        "      <td>                       Had to happen, @Oprah is on twitter, and only after 24 hours, she's got 260,371 followers and counting...  You go girlfriend!</td>\n",
        "      <td> True</td>\n",
        "    </tr>\n",
        "    <tr>\n",
        "      <th>90  </th>\n",
        "      <td>                                                                                           THE LAKERS ARE SO GOING TO WIN AND ADVANCE TO THE FINALS </td>\n",
        "      <td> True</td>\n",
        "    </tr>\n",
        "    <tr>\n",
        "      <th>91  </th>\n",
        "      <td>                                                                                                                         @lightinthesky wow. enjoy! </td>\n",
        "      <td> True</td>\n",
        "    </tr>\n",
        "    <tr>\n",
        "      <th>92  </th>\n",
        "      <td>                                                                                          i drew a cute baby zebra i think he is my favorite so far </td>\n",
        "      <td> True</td>\n",
        "    </tr>\n",
        "    <tr>\n",
        "      <th>93  </th>\n",
        "      <td>           Went to Calgary with some of the lads (Gaspar had to sit in the boot  ) to watch the Flames versus LA Kings. Calgary won 4-1. Nice night.</td>\n",
        "      <td> True</td>\n",
        "    </tr>\n",
        "    <tr>\n",
        "      <th>94  </th>\n",
        "      <td>                                                                                    @batistini21 lols you go for the cavs. orlando owned them today </td>\n",
        "      <td> True</td>\n",
        "    </tr>\n",
        "    <tr>\n",
        "      <th>96  </th>\n",
        "      <td>                                                  I L&amp;lt;3VE Taylor Swift.She is just so amazing and her music is wonderfull and makes me so happy. </td>\n",
        "      <td> True</td>\n",
        "    </tr>\n",
        "    <tr>\n",
        "      <th>97  </th>\n",
        "      <td>                                                            Fine-tuning part of a song Maddy and I r making.  Sounding good. I feel pro. Not. Hahaha</td>\n",
        "      <td> True</td>\n",
        "    </tr>\n",
        "    <tr>\n",
        "      <th>98  </th>\n",
        "      <td>                                                     Gran Turismo on PSP! FF13 to be on PC! What more can I ask for?! Gran Turismo 5 on PC perhaps? </td>\n",
        "      <td> True</td>\n",
        "    </tr>\n",
        "    <tr>\n",
        "      <th>99  </th>\n",
        "      <td>                                                                    @dornx give me time and ill come with you sa london! haha. good luck with that! </td>\n",
        "      <td> True</td>\n",
        "    </tr>\n",
        "    <tr>\n",
        "      <th>100 </th>\n",
        "      <td>                                                                                                             hanging out with biology til 4am woo  !</td>\n",
        "      <td> True</td>\n",
        "    </tr>\n",
        "    <tr>\n",
        "      <th>101 </th>\n",
        "      <td>                                                                                                                    Happy Morning, la toat? lumea!  </td>\n",
        "      <td> True</td>\n",
        "    </tr>\n",
        "    <tr>\n",
        "      <th>102 </th>\n",
        "      <td>                                                                        Watching Oprah that I had taped from earlier! It's was about Twitter today! </td>\n",
        "      <td> True</td>\n",
        "    </tr>\n",
        "    <tr>\n",
        "      <th>103 </th>\n",
        "      <td>                                                                                         Chrisette Michelle just came on the ipod . she's so mellow </td>\n",
        "      <td> True</td>\n",
        "    </tr>\n",
        "    <tr>\n",
        "      <th>104 </th>\n",
        "      <td>                                                                                                                Lakers! Going to the finals!! Weee! </td>\n",
        "      <td> True</td>\n",
        "    </tr>\n",
        "    <tr>\n",
        "      <th>106 </th>\n",
        "      <td>                                                            @ILUVNKOTB he wants u to follow who he follows on twitter. some very nice organizations </td>\n",
        "      <td> True</td>\n",
        "    </tr>\n",
        "    <tr>\n",
        "      <th>...</th>\n",
        "      <td>...</td>\n",
        "      <td>...</td>\n",
        "    </tr>\n",
        "    <tr>\n",
        "      <th>1572</th>\n",
        "      <td>                                                             @Larissa_Ione I LOVED Taming the Fire! I emailed sydney croft with all the reasons why </td>\n",
        "      <td> True</td>\n",
        "    </tr>\n",
        "    <tr>\n",
        "      <th>1574</th>\n",
        "      <td>                                                         @mdietrich that`s why you should go for holiday as soon ! (whithout iPhone &amp;amp; notebook) </td>\n",
        "      <td> True</td>\n",
        "    </tr>\n",
        "    <tr>\n",
        "      <th>1576</th>\n",
        "      <td>                 @lhawthorn What a coincidence! I was just stalking your Twitter feed and the GSoC news. ;) I'm doing great, thanks. How about you? </td>\n",
        "      <td> True</td>\n",
        "    </tr>\n",
        "    <tr>\n",
        "      <th>1577</th>\n",
        "      <td>                                                                   @ColinCancer HAHA  very funny! So what or who encouraged you to create a Twitter?</td>\n",
        "      <td> True</td>\n",
        "    </tr>\n",
        "    <tr>\n",
        "      <th>1579</th>\n",
        "      <td>                                                                              road trip with the boy.  so far we have discovered an Obama cafe. haha</td>\n",
        "      <td> True</td>\n",
        "    </tr>\n",
        "    <tr>\n",
        "      <th>1584</th>\n",
        "      <td>                                                                                                    follow @skate4cancer ! you know you all want to </td>\n",
        "      <td> True</td>\n",
        "    </tr>\n",
        "    <tr>\n",
        "      <th>1602</th>\n",
        "      <td>                                                               @nick_carter I will wait for you at fanclub chat.. even tough you're not my favorite </td>\n",
        "      <td> True</td>\n",
        "    </tr>\n",
        "    <tr>\n",
        "      <th>1605</th>\n",
        "      <td>                                                                         I miss him.  Can't wait to celebrate the Tar Heel win this weekend though!!</td>\n",
        "      <td> True</td>\n",
        "    </tr>\n",
        "    <tr>\n",
        "      <th>1611</th>\n",
        "      <td>                                     Twitter sucks, I'm only on here to follow Ellen, Oprah and Shane  so I dont follow me because i'm never on here</td>\n",
        "      <td> True</td>\n",
        "    </tr>\n",
        "    <tr>\n",
        "      <th>1619</th>\n",
        "      <td>            us govt secrets - obama's non-transparency - eff drop charges   -national security excuse - http://www.eff.org/press/archives/2009/06/17</td>\n",
        "      <td> True</td>\n",
        "    </tr>\n",
        "    <tr>\n",
        "      <th>1661</th>\n",
        "      <td>                                                                                                Good Morning peoples, I missed McDonalds breakfast! </td>\n",
        "      <td> True</td>\n",
        "    </tr>\n",
        "    <tr>\n",
        "      <th>1692</th>\n",
        "      <td>              i'm crying so much! i can't watch the mcfly videos in Brazil! they're so perfect! i wanted to go back in time! love ya!  i want them! </td>\n",
        "      <td> True</td>\n",
        "    </tr>\n",
        "    <tr>\n",
        "      <th>1701</th>\n",
        "      <td>                                                                                                     @mrsaintnick hey! i'm leavin in the morning... </td>\n",
        "      <td> True</td>\n",
        "    </tr>\n",
        "    <tr>\n",
        "      <th>1718</th>\n",
        "      <td>                                         I'm always in school everytime Tom tweets  @TomFelton Please tweet in the afternoon (in England time) (((((</td>\n",
        "      <td> True</td>\n",
        "    </tr>\n",
        "    <tr>\n",
        "      <th>1766</th>\n",
        "      <td>           @leilaanasazi: I'm sure lots of that studio equipment was collected analog stuff that can't be bought anymore.    seriously, condolences.</td>\n",
        "      <td> True</td>\n",
        "    </tr>\n",
        "    <tr>\n",
        "      <th>1776</th>\n",
        "      <td>            @RealKidPoker You're in Wolverine?! Now I know I'm never gonna receive a Twitter reply or get to meet u during my Vegas trip this year. </td>\n",
        "      <td> True</td>\n",
        "    </tr>\n",
        "    <tr>\n",
        "      <th>1786</th>\n",
        "      <td>                                                          OMG!! I am SOOO sleepy driving 2 my clinical externship site  StarBucks...here she comes!!</td>\n",
        "      <td> True</td>\n",
        "    </tr>\n",
        "    <tr>\n",
        "      <th>1797</th>\n",
        "      <td>                                                                      @TVreeland Aww Denver Nuggets.. you tried  Better luck next time. Darn Lakers.</td>\n",
        "      <td> True</td>\n",
        "    </tr>\n",
        "    <tr>\n",
        "      <th>1804</th>\n",
        "      <td>                                                              i think im slowwly gettin addicted to facebook  im such a book face !  lol wtf  much ?</td>\n",
        "      <td> True</td>\n",
        "    </tr>\n",
        "    <tr>\n",
        "      <th>1811</th>\n",
        "      <td>                                                                                                  @kiki_huggles i wana go back to london tooooooooo </td>\n",
        "      <td> True</td>\n",
        "    </tr>\n",
        "    <tr>\n",
        "      <th>1813</th>\n",
        "      <td>                            waaa disconnected ako sa gmail. dad's chatting with me pa naman. nasa canada kasi siya ngayon.  http://plurk.com/p/xbwaf</td>\n",
        "      <td> True</td>\n",
        "    </tr>\n",
        "    <tr>\n",
        "      <th>1861</th>\n",
        "      <td>          @baneen it was a &amp;quot;wish I had someone to bring me Starbucks&amp;quot;  however, I do have something for you here if that makes you better!</td>\n",
        "      <td> True</td>\n",
        "    </tr>\n",
        "    <tr>\n",
        "      <th>1883</th>\n",
        "      <td>                   @Butterflyshoes I confess I didn't know that about nasal sprays, thanks. I know the science bit but sometimes forget to apply it </td>\n",
        "      <td> True</td>\n",
        "    </tr>\n",
        "    <tr>\n",
        "      <th>1884</th>\n",
        "      <td>                   Broadband plan 'a massive broken promise' http://tinyurl.com/dcuc33 via www.diigo.com/~tautao Still waiting for broadband we are </td>\n",
        "      <td> True</td>\n",
        "    </tr>\n",
        "    <tr>\n",
        "      <th>1886</th>\n",
        "      <td>                                                             is watching a sobering #Oprah covering staggering new homelessness in Sacramento. wow. </td>\n",
        "      <td> True</td>\n",
        "    </tr>\n",
        "    <tr>\n",
        "      <th>1890</th>\n",
        "      <td>                                     @Polkadotperla sigh..... broken dreams    there's alot of obama look alikes!!!!!!!! it's still possible!!!! lol</td>\n",
        "      <td> True</td>\n",
        "    </tr>\n",
        "    <tr>\n",
        "      <th>1936</th>\n",
        "      <td>                                                                        @rorschach_xxx Poor Mavs. And Yao's out  Makes the Lakers' job easier. #Pity</td>\n",
        "      <td> True</td>\n",
        "    </tr>\n",
        "    <tr>\n",
        "      <th>1986</th>\n",
        "      <td>                  Still mulling over the #lionhead demo from #xboxe3, smells like skynet &amp;gt;.&amp;lt; not long before our consoles start fighting back </td>\n",
        "      <td> True</td>\n",
        "    </tr>\n",
        "    <tr>\n",
        "      <th>2032</th>\n",
        "      <td>                                                                           Good morning everyone!  It is such a beautiful day here in New England!  </td>\n",
        "      <td> True</td>\n",
        "    </tr>\n",
        "    <tr>\n",
        "      <th>2033</th>\n",
        "      <td>                                                         hey guess was @magicmanil the Lakers won and KOBE is mvp  just thought I would tell ya haha</td>\n",
        "      <td> True</td>\n",
        "    </tr>\n",
        "  </tbody>\n",
        "</table>\n",
        "<p>604 rows \u00d7 2 columns</p>\n",
        "</div>"
       ],
       "metadata": {},
       "output_type": "pyout",
       "prompt_number": 86,
       "text": [
        "                                                                                                                                                   tweets  \\\n",
        "17                                                                                        I hate the fact that I'm genuinely excited about my last tweet    \n",
        "50                                              @Lowjacker twitter top trends pisses me off. Oprah and the other tv celebs totally ruined twitters vibe.    \n",
        "77                                                                                                @ mcdonalds with my litto sis aka cuzin lol cristyyyyy    \n",
        "78                                                                                    @AnnaSaccone Love your new cards!   I would definitely hire you ;).   \n",
        "79                                        @supricky06 that was one of the most enjoyable experiences I've had on YouTube. Well done  http://bit.ly/1a7zPw   \n",
        "80                                                                            Dallas vegas goodness  http://twitpic.com/3lzt1 On my way to to the SusCon    \n",
        "81                                                            @JBsFanArgentina Hey I luv this pic!!! was amazing of the last CHAT of The JB in FACEBOOK!    \n",
        "82                                                                                       @llmatticusll yuuuup! 9 miles  it's for cancer! for a good deed!   \n",
        "83    @seanmurphymusic I'am in love with Taylor Swift's &quot;Crazier&quot; and I think you should definitely do a cover of it, it'll be beautiful  &lt;3   \n",
        "84                                                                                        Had a piece of fried chicken, some PSP luv and now off to bed.    \n",
        "85                                              @mileycyrus BRAZIL LOVES U SO MUCH!! YOU ARE AWESOME, MILEY! COME TO BRAZIL.. WE CAN'T FOR THIS DAY COME    \n",
        "86                            @SilMuri yeah that'd be awesome... You're gonna be the new Oprah! Freakin' yeah  *ninja-rolls over to Sil to eat chocolate*   \n",
        "87                      @DanniAsheOnline Awwww she called me sexy  nice! you rock Danni! you just made my night gurl! muah! I'll give you props anytime!    \n",
        "88                              @McChelsea get a glass of wine, a nice book, and just chillax out there.  oh wait, it's seattle, i'll probably rain. hah    \n",
        "89                          Had to happen, @Oprah is on twitter, and only after 24 hours, she's got 260,371 followers and counting...  You go girlfriend!   \n",
        "90                                                                                              THE LAKERS ARE SO GOING TO WIN AND ADVANCE TO THE FINALS    \n",
        "91                                                                                                                            @lightinthesky wow. enjoy!    \n",
        "92                                                                                             i drew a cute baby zebra i think he is my favorite so far    \n",
        "93              Went to Calgary with some of the lads (Gaspar had to sit in the boot  ) to watch the Flames versus LA Kings. Calgary won 4-1. Nice night.   \n",
        "94                                                                                       @batistini21 lols you go for the cavs. orlando owned them today    \n",
        "96                                                     I L&lt;3VE Taylor Swift.She is just so amazing and her music is wonderfull and makes me so happy.    \n",
        "97                                                               Fine-tuning part of a song Maddy and I r making.  Sounding good. I feel pro. Not. Hahaha   \n",
        "98                                                        Gran Turismo on PSP! FF13 to be on PC! What more can I ask for?! Gran Turismo 5 on PC perhaps?    \n",
        "99                                                                       @dornx give me time and ill come with you sa london! haha. good luck with that!    \n",
        "100                                                                                                               hanging out with biology til 4am woo  !   \n",
        "101                                                                                                                      Happy Morning, la toat? lumea!     \n",
        "102                                                                          Watching Oprah that I had taped from earlier! It's was about Twitter today!    \n",
        "103                                                                                           Chrisette Michelle just came on the ipod . she's so mellow    \n",
        "104                                                                                                                  Lakers! Going to the finals!! Weee!    \n",
        "106                                                              @ILUVNKOTB he wants u to follow who he follows on twitter. some very nice organizations    \n",
        "...                                                                                                                                                   ...   \n",
        "1572                                                              @Larissa_Ione I LOVED Taming the Fire! I emailed sydney croft with all the reasons why    \n",
        "1574                                                          @mdietrich that`s why you should go for holiday as soon ! (whithout iPhone &amp; notebook)    \n",
        "1576                  @lhawthorn What a coincidence! I was just stalking your Twitter feed and the GSoC news. ;) I'm doing great, thanks. How about you?    \n",
        "1577                                                                    @ColinCancer HAHA  very funny! So what or who encouraged you to create a Twitter?   \n",
        "1579                                                                               road trip with the boy.  so far we have discovered an Obama cafe. haha   \n",
        "1584                                                                                                     follow @skate4cancer ! you know you all want to    \n",
        "1602                                                                @nick_carter I will wait for you at fanclub chat.. even tough you're not my favorite    \n",
        "1605                                                                          I miss him.  Can't wait to celebrate the Tar Heel win this weekend though!!   \n",
        "1611                                      Twitter sucks, I'm only on here to follow Ellen, Oprah and Shane  so I dont follow me because i'm never on here   \n",
        "1619             us govt secrets - obama's non-transparency - eff drop charges   -national security excuse - http://www.eff.org/press/archives/2009/06/17   \n",
        "1661                                                                                                 Good Morning peoples, I missed McDonalds breakfast!    \n",
        "1692               i'm crying so much! i can't watch the mcfly videos in Brazil! they're so perfect! i wanted to go back in time! love ya!  i want them!    \n",
        "1701                                                                                                      @mrsaintnick hey! i'm leavin in the morning...    \n",
        "1718                                          I'm always in school everytime Tom tweets  @TomFelton Please tweet in the afternoon (in England time) (((((   \n",
        "1766            @leilaanasazi: I'm sure lots of that studio equipment was collected analog stuff that can't be bought anymore.    seriously, condolences.   \n",
        "1776             @RealKidPoker You're in Wolverine?! Now I know I'm never gonna receive a Twitter reply or get to meet u during my Vegas trip this year.    \n",
        "1786                                                           OMG!! I am SOOO sleepy driving 2 my clinical externship site  StarBucks...here she comes!!   \n",
        "1797                                                                       @TVreeland Aww Denver Nuggets.. you tried  Better luck next time. Darn Lakers.   \n",
        "1804                                                               i think im slowwly gettin addicted to facebook  im such a book face !  lol wtf  much ?   \n",
        "1811                                                                                                   @kiki_huggles i wana go back to london tooooooooo    \n",
        "1813                             waaa disconnected ako sa gmail. dad's chatting with me pa naman. nasa canada kasi siya ngayon.  http://plurk.com/p/xbwaf   \n",
        "1861           @baneen it was a &quot;wish I had someone to bring me Starbucks&quot;  however, I do have something for you here if that makes you better!   \n",
        "1883                    @Butterflyshoes I confess I didn't know that about nasal sprays, thanks. I know the science bit but sometimes forget to apply it    \n",
        "1884                    Broadband plan 'a massive broken promise' http://tinyurl.com/dcuc33 via www.diigo.com/~tautao Still waiting for broadband we are    \n",
        "1886                                                              is watching a sobering #Oprah covering staggering new homelessness in Sacramento. wow.    \n",
        "1890                                      @Polkadotperla sigh..... broken dreams    there's alot of obama look alikes!!!!!!!! it's still possible!!!! lol   \n",
        "1936                                                                         @rorschach_xxx Poor Mavs. And Yao's out  Makes the Lakers' job easier. #Pity   \n",
        "1986                   Still mulling over the #lionhead demo from #xboxe3, smells like skynet &gt;.&lt; not long before our consoles start fighting back    \n",
        "2032                                                                            Good morning everyone!  It is such a beautiful day here in New England!     \n",
        "2033                                                          hey guess was @magicmanil the Lakers won and KOBE is mvp  just thought I would tell ya haha   \n",
        "\n",
        "     sentiment  \n",
        "17        True  \n",
        "50        True  \n",
        "77        True  \n",
        "78        True  \n",
        "79        True  \n",
        "80        True  \n",
        "81        True  \n",
        "82        True  \n",
        "83        True  \n",
        "84        True  \n",
        "85        True  \n",
        "86        True  \n",
        "87        True  \n",
        "88        True  \n",
        "89        True  \n",
        "90        True  \n",
        "91        True  \n",
        "92        True  \n",
        "93        True  \n",
        "94        True  \n",
        "96        True  \n",
        "97        True  \n",
        "98        True  \n",
        "99        True  \n",
        "100       True  \n",
        "101       True  \n",
        "102       True  \n",
        "103       True  \n",
        "104       True  \n",
        "106       True  \n",
        "...        ...  \n",
        "1572      True  \n",
        "1574      True  \n",
        "1576      True  \n",
        "1577      True  \n",
        "1579      True  \n",
        "1584      True  \n",
        "1602      True  \n",
        "1605      True  \n",
        "1611      True  \n",
        "1619      True  \n",
        "1661      True  \n",
        "1692      True  \n",
        "1701      True  \n",
        "1718      True  \n",
        "1766      True  \n",
        "1776      True  \n",
        "1786      True  \n",
        "1797      True  \n",
        "1804      True  \n",
        "1811      True  \n",
        "1813      True  \n",
        "1861      True  \n",
        "1883      True  \n",
        "1884      True  \n",
        "1886      True  \n",
        "1890      True  \n",
        "1936      True  \n",
        "1986      True  \n",
        "2032      True  \n",
        "2033      True  \n",
        "\n",
        "[604 rows x 2 columns]"
       ]
      }
     ],
     "prompt_number": 86
    },
    {
     "cell_type": "code",
     "collapsed": false,
     "input": [
      "# Take 5 random positive tweets:\n",
      "pos_tweets.ix[random.sample(pos_tweets.index,5)]"
     ],
     "language": "python",
     "metadata": {},
     "outputs": [
      {
       "html": [
        "<div style=\"max-height:1000px;max-width:1500px;overflow:auto;\">\n",
        "<table border=\"1\" class=\"dataframe\">\n",
        "  <thead>\n",
        "    <tr style=\"text-align: right;\">\n",
        "      <th></th>\n",
        "      <th>tweets</th>\n",
        "      <th>sentiment</th>\n",
        "    </tr>\n",
        "  </thead>\n",
        "  <tbody>\n",
        "    <tr>\n",
        "      <th>118</th>\n",
        "      <td>                                                                                Still up. Playin cards with the girls. </td>\n",
        "      <td> True</td>\n",
        "    </tr>\n",
        "    <tr>\n",
        "      <th>247</th>\n",
        "      <td>                                                              What you know about them Lakers! Haha. . .yeaaaaah baby. </td>\n",
        "      <td> True</td>\n",
        "    </tr>\n",
        "    <tr>\n",
        "      <th>775</th>\n",
        "      <td>                                                                                                 @fourzoas Good night! </td>\n",
        "      <td> True</td>\n",
        "    </tr>\n",
        "    <tr>\n",
        "      <th>173</th>\n",
        "      <td> eating mcdonalds and watching b work out!  yum! I need to start working out. flabs do not look good on the beach! lols</td>\n",
        "      <td> True</td>\n",
        "    </tr>\n",
        "    <tr>\n",
        "      <th>216</th>\n",
        "      <td>            @taylorswift13 you're soooo talented and I wish I could go to one of your concerts! Ily miss taylor swift! </td>\n",
        "      <td> True</td>\n",
        "    </tr>\n",
        "  </tbody>\n",
        "</table>\n",
        "</div>"
       ],
       "metadata": {},
       "output_type": "pyout",
       "prompt_number": 87,
       "text": [
        "                                                                                                                     tweets  \\\n",
        "118                                                                                 Still up. Playin cards with the girls.    \n",
        "247                                                               What you know about them Lakers! Haha. . .yeaaaaah baby.    \n",
        "775                                                                                                  @fourzoas Good night!    \n",
        "173  eating mcdonalds and watching b work out!  yum! I need to start working out. flabs do not look good on the beach! lols   \n",
        "216             @taylorswift13 you're soooo talented and I wish I could go to one of your concerts! Ily miss taylor swift!    \n",
        "\n",
        "    sentiment  \n",
        "118      True  \n",
        "247      True  \n",
        "775      True  \n",
        "173      True  \n",
        "216      True  "
       ]
      }
     ],
     "prompt_number": 87
    },
    {
     "cell_type": "code",
     "collapsed": false,
     "input": [
      "# Take 5 random negative tweets:\n",
      "neg_tweets.ix[random.sample(neg_tweets.index,5)]"
     ],
     "language": "python",
     "metadata": {},
     "outputs": [
      {
       "html": [
        "<div style=\"max-height:1000px;max-width:1500px;overflow:auto;\">\n",
        "<table border=\"1\" class=\"dataframe\">\n",
        "  <thead>\n",
        "    <tr style=\"text-align: right;\">\n",
        "      <th></th>\n",
        "      <th>tweets</th>\n",
        "      <th>sentiment</th>\n",
        "    </tr>\n",
        "  </thead>\n",
        "  <tbody>\n",
        "    <tr>\n",
        "      <th>1451</th>\n",
        "      <td> Cavs lose, and everyone witnessed. Nike will probably need a new ad campaign. Pens lost though  so sports score today is 1-1.</td>\n",
        "      <td> False</td>\n",
        "    </tr>\n",
        "    <tr>\n",
        "      <th>1336</th>\n",
        "      <td>                                                                                              More songs on my iPod. Love it! </td>\n",
        "      <td> False</td>\n",
        "    </tr>\n",
        "    <tr>\n",
        "      <th>1126</th>\n",
        "      <td>                                                                                     I had to bury my iPod and buy a new one. </td>\n",
        "      <td> False</td>\n",
        "    </tr>\n",
        "    <tr>\n",
        "      <th>167 </th>\n",
        "      <td>                                       I wish Fallout 3 was on the PSP...but only because that's all I have with me right now </td>\n",
        "      <td> False</td>\n",
        "    </tr>\n",
        "    <tr>\n",
        "      <th>1118</th>\n",
        "      <td>                                                                   @TJ_Sopher damn right - the grill is always open down here </td>\n",
        "      <td> False</td>\n",
        "    </tr>\n",
        "  </tbody>\n",
        "</table>\n",
        "</div>"
       ],
       "metadata": {},
       "output_type": "pyout",
       "prompt_number": 88,
       "text": [
        "                                                                                                                             tweets  \\\n",
        "1451  Cavs lose, and everyone witnessed. Nike will probably need a new ad campaign. Pens lost though  so sports score today is 1-1.   \n",
        "1336                                                                                               More songs on my iPod. Love it!    \n",
        "1126                                                                                      I had to bury my iPod and buy a new one.    \n",
        "167                                         I wish Fallout 3 was on the PSP...but only because that's all I have with me right now    \n",
        "1118                                                                    @TJ_Sopher damn right - the grill is always open down here    \n",
        "\n",
        "     sentiment  \n",
        "1451     False  \n",
        "1336     False  \n",
        "1126     False  \n",
        "167      False  \n",
        "1118     False  "
       ]
      }
     ],
     "prompt_number": 88
    },
    {
     "cell_type": "markdown",
     "metadata": {},
     "source": [
      "\n",
      "<!--\n",
      "# Create an informative features function\n",
      "#\n",
      "#\n",
      "## Ref: http://stackoverflow.com/questions/11116697/how-to-get-most-informative-features-for-scikit-learn-classifiers\n",
      "def show_most_informative_features(vectorizer, clf, n=20):\n",
      "    feature_names = vectorizer.get_feature_names()\n",
      "    coefs_with_fns = sorted(zip(clf.coef_[0], feature_names))\n",
      "    top = zip(coefs_with_fns[:n], coefs_with_fns[:-(n + 1):-1])\n",
      "    for (coef_1, fn_1), (coef_2, fn_2) in top:\n",
      "        print \"\\t%.4f\\t%-15s\\t\\t%.4f\\t%-15s\" % (coef_1, fn_1, coef_2, fn_2)\n",
      "# show_most_informative_features(vectorizer,clf,10)\n",
      "-->"
     ]
    },
    {
     "cell_type": "code",
     "collapsed": false,
     "input": [],
     "language": "python",
     "metadata": {},
     "outputs": [],
     "prompt_number": 88
    },
    {
     "cell_type": "code",
     "collapsed": false,
     "input": [
      "# Try out some probabilities\n",
      "def check(tweet):\n",
      "    return(clf.predict_proba(vectorizer.transform([tweet])).item(1))\n"
     ],
     "language": "python",
     "metadata": {},
     "outputs": [],
     "prompt_number": 89
    },
    {
     "cell_type": "code",
     "collapsed": false,
     "input": [
      "check(\"I love Saturdays\")"
     ],
     "language": "python",
     "metadata": {},
     "outputs": [
      {
       "metadata": {},
       "output_type": "pyout",
       "prompt_number": 90,
       "text": [
        "0.731185291850675"
       ]
      }
     ],
     "prompt_number": 90
    },
    {
     "cell_type": "code",
     "collapsed": false,
     "input": [
      "check(\"I hate Saturdays\" )"
     ],
     "language": "python",
     "metadata": {},
     "outputs": [
      {
       "metadata": {},
       "output_type": "pyout",
       "prompt_number": 91,
       "text": [
        "0.02672019485318094"
       ]
      }
     ],
     "prompt_number": 91
    },
    {
     "cell_type": "markdown",
     "metadata": {},
     "source": [
      "## Get some custom tweets"
     ]
    },
    {
     "cell_type": "code",
     "collapsed": false,
     "input": [
      "# Import twitter\n",
      "import twitter\n",
      "import os\n",
      "\n",
      "\n",
      "# Get my codes\n",
      "# X = pd.read_csv('twiscaletwit')\n"
     ],
     "language": "python",
     "metadata": {},
     "outputs": [],
     "prompt_number": 2
    },
    {
     "cell_type": "code",
     "collapsed": false,
     "input": [
      "# Setup oauth\n",
      "auth = twitter.oauth.OAuth(str(X.A[0]),str(X.B[0]),str(X.C[0]),str(X.D[0]))\n",
      "twitter_api = twitter.Twitter(auth=auth)"
     ],
     "language": "python",
     "metadata": {},
     "outputs": []
    },
    {
     "cell_type": "code",
     "collapsed": false,
     "input": [
      "hashtag = q = '#ebola'\n",
      "count=20\n",
      "search_results = twitter_api.search.tweets(q=q, count=count)"
     ],
     "language": "python",
     "metadata": {},
     "outputs": []
    },
    {
     "cell_type": "code",
     "collapsed": false,
     "input": [
      "# View keys per tweet:\n",
      "search_results['statuses'][0].keys()"
     ],
     "language": "python",
     "metadata": {},
     "outputs": []
    },
    {
     "cell_type": "markdown",
     "metadata": {},
     "source": [
      "### Write a Tweet Check Function"
     ]
    },
    {
     "cell_type": "code",
     "collapsed": false,
     "input": [
      "# Write a little tweet sentiment checker\n",
      "def checktag(hashtag,count=20):\n",
      "    q = hashtag\n",
      "    count=20\n",
      "    search_results = twitter_api.search.tweets(q=q, count=count)\n",
      "\n",
      "    # Get a list of tweets\n",
      "    new_tweets = []\n",
      "    for i in range(count):\n",
      "        new_tweets.append(search_results['statuses'][i]['text'])\n",
      "\n",
      "        # Rate the new tweets\n",
      "    for i in range(count):\n",
      "        print new_tweets[i]\n",
      "        print check(new_tweets[i])\n",
      "        print \"\\n\""
     ],
     "language": "python",
     "metadata": {},
     "outputs": []
    },
    {
     "cell_type": "markdown",
     "metadata": {},
     "source": [
      "## Play Around"
     ]
    },
    {
     "cell_type": "code",
     "collapsed": false,
     "input": [
      "checktag(\"#fun\")"
     ],
     "language": "python",
     "metadata": {},
     "outputs": []
    },
    {
     "cell_type": "code",
     "collapsed": false,
     "input": [
      "checktag(\"#lame\",5)"
     ],
     "language": "python",
     "metadata": {},
     "outputs": []
    },
    {
     "cell_type": "code",
     "collapsed": false,
     "input": [],
     "language": "python",
     "metadata": {},
     "outputs": []
    }
   ],
   "metadata": {}
  }
 ]
}