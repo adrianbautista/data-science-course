{
 "metadata": {
  "name": "",
  "signature": "sha256:50c29572a92adc308c7ff6a0600b6400cd3cea6b872a6ba0032f5d0c8a875f7f"
 },
 "nbformat": 3,
 "nbformat_minor": 0,
 "worksheets": [
  {
   "cells": [
    {
     "cell_type": "markdown",
     "metadata": {},
     "source": [
      "#Creating a Twitter Classifier"
     ]
    },
    {
     "cell_type": "markdown",
     "metadata": {},
     "source": [
      "## Prepare a Target (Y) and Feature (X) Training Set"
     ]
    },
    {
     "cell_type": "code",
     "collapsed": false,
     "input": [
      "# Import Libraries\n",
      "import pandas as pd\n",
      "%pylab inline"
     ],
     "language": "python",
     "metadata": {},
     "outputs": [
      {
       "output_type": "stream",
       "stream": "stdout",
       "text": [
        "Populating the interactive namespace from numpy and matplotlib\n"
       ]
      }
     ],
     "prompt_number": 2
    },
    {
     "cell_type": "code",
     "collapsed": false,
     "input": [
      "# Load Tweets\n",
      "XY = pd.read_csv(\"sts_gold_tweet.csv\",sep=\";\")"
     ],
     "language": "python",
     "metadata": {},
     "outputs": [],
     "prompt_number": 4
    },
    {
     "cell_type": "code",
     "collapsed": false,
     "input": [
      "# View contents\n",
      "XY.head()"
     ],
     "language": "python",
     "metadata": {},
     "outputs": [
      {
       "html": [
        "<div style=\"max-height:1000px;max-width:1500px;overflow:auto;\">\n",
        "<table border=\"1\" class=\"dataframe\">\n",
        "  <thead>\n",
        "    <tr style=\"text-align: right;\">\n",
        "      <th></th>\n",
        "      <th>id</th>\n",
        "      <th>polarity</th>\n",
        "      <th>tweet</th>\n",
        "    </tr>\n",
        "  </thead>\n",
        "  <tbody>\n",
        "    <tr>\n",
        "      <th>0</th>\n",
        "      <td> 1467933112</td>\n",
        "      <td> 0</td>\n",
        "      <td> the angel is going to miss the athlete this we...</td>\n",
        "    </tr>\n",
        "    <tr>\n",
        "      <th>1</th>\n",
        "      <td> 2323395086</td>\n",
        "      <td> 0</td>\n",
        "      <td> It looks as though Shaq is getting traded to C...</td>\n",
        "    </tr>\n",
        "    <tr>\n",
        "      <th>2</th>\n",
        "      <td> 1467968979</td>\n",
        "      <td> 0</td>\n",
        "      <td>    @clarianne APRIL 9TH ISN'T COMING SOON ENOUGH </td>\n",
        "    </tr>\n",
        "    <tr>\n",
        "      <th>3</th>\n",
        "      <td> 1990283756</td>\n",
        "      <td> 0</td>\n",
        "      <td> drinking a McDonalds coffee and not understand...</td>\n",
        "    </tr>\n",
        "    <tr>\n",
        "      <th>4</th>\n",
        "      <td> 1988884918</td>\n",
        "      <td> 0</td>\n",
        "      <td> So dissapointed Taylor Swift doesnt have a Twi...</td>\n",
        "    </tr>\n",
        "  </tbody>\n",
        "</table>\n",
        "</div>"
       ],
       "metadata": {},
       "output_type": "pyout",
       "prompt_number": 6,
       "text": [
        "           id  polarity                                              tweet\n",
        "0  1467933112         0  the angel is going to miss the athlete this we...\n",
        "1  2323395086         0  It looks as though Shaq is getting traded to C...\n",
        "2  1467968979         0     @clarianne APRIL 9TH ISN'T COMING SOON ENOUGH \n",
        "3  1990283756         0  drinking a McDonalds coffee and not understand...\n",
        "4  1988884918         0  So dissapointed Taylor Swift doesnt have a Twi..."
       ]
      }
     ],
     "prompt_number": 6
    },
    {
     "cell_type": "markdown",
     "metadata": {},
     "source": [
      "entity_sentiment: the sentiment of the entity in the tweet (agreed by the three annotators) (0: negative), (2: neutral) (4: positive) (6: mixed) (8: other)"
     ]
    },
    {
     "cell_type": "code",
     "collapsed": false,
     "input": [
      "# View contents\n",
      "XY.describe()"
     ],
     "language": "python",
     "metadata": {},
     "outputs": [
      {
       "html": [
        "<div style=\"max-height:1000px;max-width:1500px;overflow:auto;\">\n",
        "<table border=\"1\" class=\"dataframe\">\n",
        "  <thead>\n",
        "    <tr style=\"text-align: right;\">\n",
        "      <th></th>\n",
        "      <th>id</th>\n",
        "      <th>polarity</th>\n",
        "    </tr>\n",
        "  </thead>\n",
        "  <tbody>\n",
        "    <tr>\n",
        "      <th>count</th>\n",
        "      <td> 2.034000e+03</td>\n",
        "      <td> 2034.000000</td>\n",
        "    </tr>\n",
        "    <tr>\n",
        "      <th>mean</th>\n",
        "      <td> 1.897987e+09</td>\n",
        "      <td>    1.242871</td>\n",
        "    </tr>\n",
        "    <tr>\n",
        "      <th>std</th>\n",
        "      <td> 2.858502e+08</td>\n",
        "      <td>    1.851605</td>\n",
        "    </tr>\n",
        "    <tr>\n",
        "      <th>min</th>\n",
        "      <td> 1.467812e+09</td>\n",
        "      <td>    0.000000</td>\n",
        "    </tr>\n",
        "    <tr>\n",
        "      <th>25%</th>\n",
        "      <td> 1.557154e+09</td>\n",
        "      <td>    0.000000</td>\n",
        "    </tr>\n",
        "    <tr>\n",
        "      <th>50%</th>\n",
        "      <td> 1.978393e+09</td>\n",
        "      <td>    0.000000</td>\n",
        "    </tr>\n",
        "    <tr>\n",
        "      <th>75%</th>\n",
        "      <td> 2.174644e+09</td>\n",
        "      <td>    4.000000</td>\n",
        "    </tr>\n",
        "    <tr>\n",
        "      <th>max</th>\n",
        "      <td> 2.329028e+09</td>\n",
        "      <td>    4.000000</td>\n",
        "    </tr>\n",
        "  </tbody>\n",
        "</table>\n",
        "</div>"
       ],
       "metadata": {},
       "output_type": "pyout",
       "prompt_number": 41,
       "text": [
        "                 id     polarity\n",
        "count  2.034000e+03  2034.000000\n",
        "mean   1.897987e+09     1.242871\n",
        "std    2.858502e+08     1.851605\n",
        "min    1.467812e+09     0.000000\n",
        "25%    1.557154e+09     0.000000\n",
        "50%    1.978393e+09     0.000000\n",
        "75%    2.174644e+09     4.000000\n",
        "max    2.329028e+09     4.000000"
       ]
      }
     ],
     "prompt_number": 41
    },
    {
     "cell_type": "code",
     "collapsed": false,
     "input": [
      "# View histogram of polarity\n",
      "XY.polarity.hist()\n",
      "plt.title(\"Polarity of Tweets in Training Set\\n\")"
     ],
     "language": "python",
     "metadata": {},
     "outputs": [
      {
       "metadata": {},
       "output_type": "pyout",
       "prompt_number": 10,
       "text": [
        "<matplotlib.text.Text at 0x107c4ab10>"
       ]
      },
      {
       "metadata": {},
       "output_type": "display_data",
       "png": "[encoded data removed]",
       "text": [
        "<matplotlib.figure.Figure at 0x104f75ad0>"
       ]
      }
     ],
     "prompt_number": 10
    },
    {
     "cell_type": "code",
     "collapsed": false,
     "input": [
      "# Convert target to boolean\n",
      "Y = (XY.polarity == 4.0)"
     ],
     "language": "python",
     "metadata": {},
     "outputs": [],
     "prompt_number": 13
    },
    {
     "cell_type": "code",
     "collapsed": false,
     "input": [
      "# View target\n",
      "Y.describe()"
     ],
     "language": "python",
     "metadata": {},
     "outputs": [
      {
       "metadata": {},
       "output_type": "pyout",
       "prompt_number": 14,
       "text": [
        "count         2034\n",
        "mean     0.3107178\n",
        "std      0.4629013\n",
        "min          False\n",
        "25%              0\n",
        "50%              0\n",
        "75%              1\n",
        "max           True\n",
        "dtype: object"
       ]
      }
     ],
     "prompt_number": 14
    },
    {
     "cell_type": "code",
     "collapsed": false,
     "input": [
      "# Create the feature set\n",
      "X_raw = XY.tweet"
     ],
     "language": "python",
     "metadata": {},
     "outputs": [],
     "prompt_number": 18
    },
    {
     "cell_type": "code",
     "collapsed": false,
     "input": [
      "# Describe X_raw\n",
      "X_raw.describe()"
     ],
     "language": "python",
     "metadata": {},
     "outputs": [
      {
       "metadata": {},
       "output_type": "pyout",
       "prompt_number": 20,
       "text": [
        "count                                                  2034\n",
        "unique                                                 2026\n",
        "top       Jogging, isnt REALLY that cool, especially if ...\n",
        "freq                                                      4\n",
        "dtype: object"
       ]
      }
     ],
     "prompt_number": 20
    },
    {
     "cell_type": "code",
     "collapsed": false,
     "input": [
      "# Vectorize X\n",
      "#\n",
      "#\n",
      "\n",
      "## Load moddule\n",
      "from sklearn.feature_extraction.text import CountVectorizer\n",
      "\n",
      "##  Define ngrams\n",
      "vectorizer = CountVectorizer(ngram_range=(1,2))\n",
      "\n",
      "\n",
      "## Create a vector where each row is bag-of-words for a single tweet\n",
      "X = vectorizer.fit_transform(X_raw) "
     ],
     "language": "python",
     "metadata": {},
     "outputs": [],
     "prompt_number": 22
    },
    {
     "cell_type": "code",
     "collapsed": false,
     "input": [
      "# View X dimensions\n",
      "X"
     ],
     "language": "python",
     "metadata": {},
     "outputs": [
      {
       "metadata": {},
       "output_type": "pyout",
       "prompt_number": 24,
       "text": [
        "<2034x24410 sparse matrix of type '<type 'numpy.int64'>'\n",
        "\twith 52233 stored elements in Compressed Sparse Row format>"
       ]
      }
     ],
     "prompt_number": 24
    },
    {
     "cell_type": "markdown",
     "metadata": {},
     "source": [
      "## Create Classifier"
     ]
    },
    {
     "cell_type": "code",
     "collapsed": false,
     "input": [
      "# Import Libraries\n",
      "from sklearn.cross_validation import train_test_split\n",
      "from sklearn.naive_bayes import MultinomialNB"
     ],
     "language": "python",
     "metadata": {},
     "outputs": [],
     "prompt_number": 25
    },
    {
     "cell_type": "code",
     "collapsed": false,
     "input": [
      "# Train/Test Split\n",
      "xtrain, xtest, ytrain, ytest = train_test_split(X, Y)"
     ],
     "language": "python",
     "metadata": {},
     "outputs": [],
     "prompt_number": 26
    },
    {
     "cell_type": "code",
     "collapsed": false,
     "input": [
      "# Create an accuracy report function\n",
      "def accuracy_report(_clf):\n",
      "    print \"Accuracy: %0.2f%%\" % (100 * _clf.score(xtest, ytest))\n",
      "\n",
      "    #Print the accuracy on the test and training dataset\n",
      "    training_accuracy = _clf.score(xtrain, ytrain)\n",
      "    test_accuracy = _clf.score(xtest, ytest)\n",
      "\n",
      "    print \"Accuracy on training data: %0.2f\" % (training_accuracy)\n",
      "    print \"Accuracy on test data:     %0.2f\" % (test_accuracy)"
     ],
     "language": "python",
     "metadata": {},
     "outputs": [],
     "prompt_number": 27
    },
    {
     "cell_type": "code",
     "collapsed": false,
     "input": [
      "# Run classifier\n",
      "\n",
      "clf = MultinomialNB().fit(xtrain, ytrain)\n"
     ],
     "language": "python",
     "metadata": {},
     "outputs": [],
     "prompt_number": 29
    },
    {
     "cell_type": "code",
     "collapsed": false,
     "input": [
      "# Check Accuracy\n",
      "print \"MultinomialNB:\"\n",
      "accuracy_report(clf)"
     ],
     "language": "python",
     "metadata": {},
     "outputs": [
      {
       "output_type": "stream",
       "stream": "stdout",
       "text": [
        "MultinomialNB:\n",
        "Accuracy: 83.69%\n",
        "Accuracy on training data: 0.99\n",
        "Accuracy on test data:     0.84\n"
       ]
      }
     ],
     "prompt_number": 30
    },
    {
     "cell_type": "code",
     "collapsed": false,
     "input": [
      "# Generate probability outputs\n",
      "prob = clf.predict_proba(X)[:, 0]\n"
     ],
     "language": "python",
     "metadata": {},
     "outputs": [],
     "prompt_number": 32
    },
    {
     "cell_type": "code",
     "collapsed": false,
     "input": [
      "# Generate prediction outputs\n",
      "predict = clf.predict(X)"
     ],
     "language": "python",
     "metadata": {},
     "outputs": [],
     "prompt_number": 37
    },
    {
     "cell_type": "code",
     "collapsed": false,
     "input": [
      "# Create a results dataframe\n",
      "results = pd.DataFrame(zip(X_raw,predict),columns=[\"tweets\",\"sentiment\"])"
     ],
     "language": "python",
     "metadata": {},
     "outputs": [],
     "prompt_number": 46
    },
    {
     "cell_type": "code",
     "collapsed": false,
     "input": [
      "# View overall distribution\n",
      "results.sentiment.describe()"
     ],
     "language": "python",
     "metadata": {},
     "outputs": [
      {
       "metadata": {},
       "output_type": "pyout",
       "prompt_number": 104,
       "text": [
        "count         2034\n",
        "mean     0.3072763\n",
        "std      0.4614784\n",
        "min          False\n",
        "25%              0\n",
        "50%              0\n",
        "75%              1\n",
        "max           True\n",
        "dtype: object"
       ]
      }
     ],
     "prompt_number": 104
    },
    {
     "cell_type": "code",
     "collapsed": false,
     "input": [
      "# Examine some random positive and negative tweets\n",
      "#\n",
      "#\n",
      "import random\n",
      "# random.sample Chooses k unique random elements from a population sequence.\n"
     ],
     "language": "python",
     "metadata": {},
     "outputs": [],
     "prompt_number": 61
    },
    {
     "cell_type": "code",
     "collapsed": false,
     "input": [
      "# Isolate positive and negative tweets\n",
      "neg_tweets = results[results.sentiment==False]\n",
      "pos_tweets = results[results.sentiment==True]"
     ],
     "language": "python",
     "metadata": {},
     "outputs": [],
     "prompt_number": 67
    },
    {
     "cell_type": "code",
     "collapsed": false,
     "input": [
      "# Widen pandas columns\n",
      "pd.set_option('display.max_colwidth',200)"
     ],
     "language": "python",
     "metadata": {},
     "outputs": [],
     "prompt_number": 142
    },
    {
     "cell_type": "code",
     "collapsed": true,
     "input": [
      "pos_tweets"
     ],
     "language": "python",
     "metadata": {},
     "outputs": [
      {
       "html": [
        "<div style=\"max-height:1000px;max-width:1500px;overflow:auto;\">\n",
        "<table border=\"1\" class=\"dataframe\">\n",
        "  <thead>\n",
        "    <tr style=\"text-align: right;\">\n",
        "      <th></th>\n",
        "      <th>tweets</th>\n",
        "      <th>sentiment</th>\n",
        "    </tr>\n",
        "  </thead>\n",
        "  <tbody>\n",
        "    <tr>\n",
        "      <th>4   </th>\n",
        "      <td> So dissapointed Taylor Swift doesnt have a Twi...</td>\n",
        "      <td> True</td>\n",
        "    </tr>\n",
        "    <tr>\n",
        "      <th>10  </th>\n",
        "      <td> Allergies sucks sometimes. Theres a super ador...</td>\n",
        "      <td> True</td>\n",
        "    </tr>\n",
        "    <tr>\n",
        "      <th>50  </th>\n",
        "      <td> @Lowjacker twitter top trends pisses me off. O...</td>\n",
        "      <td> True</td>\n",
        "    </tr>\n",
        "    <tr>\n",
        "      <th>71  </th>\n",
        "      <td> Wrote exactly three lines of dialogue tonight,...</td>\n",
        "      <td> True</td>\n",
        "    </tr>\n",
        "    <tr>\n",
        "      <th>72  </th>\n",
        "      <td> Maybe eating McDonalds, downing a sherbet foun...</td>\n",
        "      <td> True</td>\n",
        "    </tr>\n",
        "    <tr>\n",
        "      <th>77  </th>\n",
        "      <td> @ mcdonalds with my litto sis aka cuzin lol cr...</td>\n",
        "      <td> True</td>\n",
        "    </tr>\n",
        "    <tr>\n",
        "      <th>78  </th>\n",
        "      <td> @AnnaSaccone Love your new cards!   I would de...</td>\n",
        "      <td> True</td>\n",
        "    </tr>\n",
        "    <tr>\n",
        "      <th>80  </th>\n",
        "      <td> Dallas vegas goodness  http://twitpic.com/3lzt...</td>\n",
        "      <td> True</td>\n",
        "    </tr>\n",
        "    <tr>\n",
        "      <th>81  </th>\n",
        "      <td> @JBsFanArgentina Hey I luv this pic!!! was ama...</td>\n",
        "      <td> True</td>\n",
        "    </tr>\n",
        "    <tr>\n",
        "      <th>82  </th>\n",
        "      <td> @llmatticusll yuuuup! 9 miles  it's for cancer...</td>\n",
        "      <td> True</td>\n",
        "    </tr>\n",
        "    <tr>\n",
        "      <th>83  </th>\n",
        "      <td> @seanmurphymusic I'am in love with Taylor Swif...</td>\n",
        "      <td> True</td>\n",
        "    </tr>\n",
        "    <tr>\n",
        "      <th>85  </th>\n",
        "      <td> @mileycyrus BRAZIL LOVES U SO MUCH!! YOU ARE A...</td>\n",
        "      <td> True</td>\n",
        "    </tr>\n",
        "    <tr>\n",
        "      <th>86  </th>\n",
        "      <td> @SilMuri yeah that'd be awesome... You're gonn...</td>\n",
        "      <td> True</td>\n",
        "    </tr>\n",
        "    <tr>\n",
        "      <th>87  </th>\n",
        "      <td> @DanniAsheOnline Awwww she called me sexy  nic...</td>\n",
        "      <td> True</td>\n",
        "    </tr>\n",
        "    <tr>\n",
        "      <th>88  </th>\n",
        "      <td> @McChelsea get a glass of wine, a nice book, a...</td>\n",
        "      <td> True</td>\n",
        "    </tr>\n",
        "    <tr>\n",
        "      <th>89  </th>\n",
        "      <td> Had to happen, @Oprah is on twitter, and only ...</td>\n",
        "      <td> True</td>\n",
        "    </tr>\n",
        "    <tr>\n",
        "      <th>90  </th>\n",
        "      <td> THE LAKERS ARE SO GOING TO WIN AND ADVANCE TO ...</td>\n",
        "      <td> True</td>\n",
        "    </tr>\n",
        "    <tr>\n",
        "      <th>91  </th>\n",
        "      <td>                       @lightinthesky wow. enjoy! </td>\n",
        "      <td> True</td>\n",
        "    </tr>\n",
        "    <tr>\n",
        "      <th>93  </th>\n",
        "      <td> Went to Calgary with some of the lads (Gaspar ...</td>\n",
        "      <td> True</td>\n",
        "    </tr>\n",
        "    <tr>\n",
        "      <th>94  </th>\n",
        "      <td> @batistini21 lols you go for the cavs. orlando...</td>\n",
        "      <td> True</td>\n",
        "    </tr>\n",
        "    <tr>\n",
        "      <th>95  </th>\n",
        "      <td> @CCArquette ps. please try to see if you get C...</td>\n",
        "      <td> True</td>\n",
        "    </tr>\n",
        "    <tr>\n",
        "      <th>96  </th>\n",
        "      <td> I L&amp;lt;3VE Taylor Swift.She is just so amazing...</td>\n",
        "      <td> True</td>\n",
        "    </tr>\n",
        "    <tr>\n",
        "      <th>97  </th>\n",
        "      <td> Fine-tuning part of a song Maddy and I r makin...</td>\n",
        "      <td> True</td>\n",
        "    </tr>\n",
        "    <tr>\n",
        "      <th>98  </th>\n",
        "      <td> Gran Turismo on PSP! FF13 to be on PC! What mo...</td>\n",
        "      <td> True</td>\n",
        "    </tr>\n",
        "    <tr>\n",
        "      <th>99  </th>\n",
        "      <td> @dornx give me time and ill come with you sa l...</td>\n",
        "      <td> True</td>\n",
        "    </tr>\n",
        "    <tr>\n",
        "      <th>100 </th>\n",
        "      <td>           hanging out with biology til 4am woo  !</td>\n",
        "      <td> True</td>\n",
        "    </tr>\n",
        "    <tr>\n",
        "      <th>101 </th>\n",
        "      <td>                  Happy Morning, la toat? lumea!  </td>\n",
        "      <td> True</td>\n",
        "    </tr>\n",
        "    <tr>\n",
        "      <th>102 </th>\n",
        "      <td> Watching Oprah that I had taped from earlier! ...</td>\n",
        "      <td> True</td>\n",
        "    </tr>\n",
        "    <tr>\n",
        "      <th>104 </th>\n",
        "      <td>              Lakers! Going to the finals!! Weee! </td>\n",
        "      <td> True</td>\n",
        "    </tr>\n",
        "    <tr>\n",
        "      <th>105 </th>\n",
        "      <td> Getting my hair cut while texting with my brot...</td>\n",
        "      <td> True</td>\n",
        "    </tr>\n",
        "    <tr>\n",
        "      <th>...</th>\n",
        "      <td>...</td>\n",
        "      <td>...</td>\n",
        "    </tr>\n",
        "    <tr>\n",
        "      <th>1553</th>\n",
        "      <td> @RobKardashian Rob, Your my fav Kardashian, Pl...</td>\n",
        "      <td> True</td>\n",
        "    </tr>\n",
        "    <tr>\n",
        "      <th>1555</th>\n",
        "      <td> That's the Birthday Boy's iPod Touch and DSi s...</td>\n",
        "      <td> True</td>\n",
        "    </tr>\n",
        "    <tr>\n",
        "      <th>1556</th>\n",
        "      <td> @bbrannan I'm and good and glad you are too!  ...</td>\n",
        "      <td> True</td>\n",
        "    </tr>\n",
        "    <tr>\n",
        "      <th>1559</th>\n",
        "      <td>               watchin the cavs game with friends </td>\n",
        "      <td> True</td>\n",
        "    </tr>\n",
        "    <tr>\n",
        "      <th>1565</th>\n",
        "      <td> had a great ending to a great day!  Being brav...</td>\n",
        "      <td> True</td>\n",
        "    </tr>\n",
        "    <tr>\n",
        "      <th>1567</th>\n",
        "      <td> even though i should be in bed im watching vid...</td>\n",
        "      <td> True</td>\n",
        "    </tr>\n",
        "    <tr>\n",
        "      <th>1568</th>\n",
        "      <td> @DonnieWahlberg YOU give me joy....and you hav...</td>\n",
        "      <td> True</td>\n",
        "    </tr>\n",
        "    <tr>\n",
        "      <th>1569</th>\n",
        "      <td> skateboarder snowboarder breakdancer surfer NA...</td>\n",
        "      <td> True</td>\n",
        "    </tr>\n",
        "    <tr>\n",
        "      <th>1571</th>\n",
        "      <td>             @DrSecret Nice to meet you too buddy </td>\n",
        "      <td> True</td>\n",
        "    </tr>\n",
        "    <tr>\n",
        "      <th>1572</th>\n",
        "      <td> @Larissa_Ione I LOVED Taming the Fire! I email...</td>\n",
        "      <td> True</td>\n",
        "    </tr>\n",
        "    <tr>\n",
        "      <th>1574</th>\n",
        "      <td> @mdietrich that`s why you should go for holida...</td>\n",
        "      <td> True</td>\n",
        "    </tr>\n",
        "    <tr>\n",
        "      <th>1576</th>\n",
        "      <td> @lhawthorn What a coincidence! I was just stal...</td>\n",
        "      <td> True</td>\n",
        "    </tr>\n",
        "    <tr>\n",
        "      <th>1577</th>\n",
        "      <td> @ColinCancer HAHA  very funny! So what or who ...</td>\n",
        "      <td> True</td>\n",
        "    </tr>\n",
        "    <tr>\n",
        "      <th>1579</th>\n",
        "      <td> road trip with the boy.  so far we have discov...</td>\n",
        "      <td> True</td>\n",
        "    </tr>\n",
        "    <tr>\n",
        "      <th>1584</th>\n",
        "      <td>  follow @skate4cancer ! you know you all want to </td>\n",
        "      <td> True</td>\n",
        "    </tr>\n",
        "    <tr>\n",
        "      <th>1586</th>\n",
        "      <td> @MissyatWSU Why?  Seeing sad for you, Obama fr...</td>\n",
        "      <td> True</td>\n",
        "    </tr>\n",
        "    <tr>\n",
        "      <th>1629</th>\n",
        "      <td> @SeattleRoll meep yeah.  hope she can tolerate...</td>\n",
        "      <td> True</td>\n",
        "    </tr>\n",
        "    <tr>\n",
        "      <th>1646</th>\n",
        "      <td> @McFlyingGirl aww...you fell off your bed??  i...</td>\n",
        "      <td> True</td>\n",
        "    </tr>\n",
        "    <tr>\n",
        "      <th>1717</th>\n",
        "      <td> @Hail_Mary_Jane Did you know Obama id signing ...</td>\n",
        "      <td> True</td>\n",
        "    </tr>\n",
        "    <tr>\n",
        "      <th>1739</th>\n",
        "      <td> The new PSP looks crap!  Such a disappointment...</td>\n",
        "      <td> True</td>\n",
        "    </tr>\n",
        "    <tr>\n",
        "      <th>1758</th>\n",
        "      <td> @TikkaMadsen @gogomago what are you two up to?...</td>\n",
        "      <td> True</td>\n",
        "    </tr>\n",
        "    <tr>\n",
        "      <th>1797</th>\n",
        "      <td> @TVreeland Aww Denver Nuggets.. you tried  Bet...</td>\n",
        "      <td> True</td>\n",
        "    </tr>\n",
        "    <tr>\n",
        "      <th>1802</th>\n",
        "      <td> And then an overlay of a pic of her face bleed...</td>\n",
        "      <td> True</td>\n",
        "    </tr>\n",
        "    <tr>\n",
        "      <th>1804</th>\n",
        "      <td> i think im slowwly gettin addicted to facebook...</td>\n",
        "      <td> True</td>\n",
        "    </tr>\n",
        "    <tr>\n",
        "      <th>1853</th>\n",
        "      <td> @sjtryon hey. Quick Q.  What was the iphone ge...</td>\n",
        "      <td> True</td>\n",
        "    </tr>\n",
        "    <tr>\n",
        "      <th>1883</th>\n",
        "      <td> @Butterflyshoes I confess I didn't know that a...</td>\n",
        "      <td> True</td>\n",
        "    </tr>\n",
        "    <tr>\n",
        "      <th>1906</th>\n",
        "      <td> @FollowSavvy I never found her. everytime I cl...</td>\n",
        "      <td> True</td>\n",
        "    </tr>\n",
        "    <tr>\n",
        "      <th>1949</th>\n",
        "      <td> Happy to have my solar drawing on http://www.s...</td>\n",
        "      <td> True</td>\n",
        "    </tr>\n",
        "    <tr>\n",
        "      <th>2032</th>\n",
        "      <td> Good morning everyone!  It is such a beautiful...</td>\n",
        "      <td> True</td>\n",
        "    </tr>\n",
        "    <tr>\n",
        "      <th>2033</th>\n",
        "      <td> hey guess was @magicmanil the Lakers won and K...</td>\n",
        "      <td> True</td>\n",
        "    </tr>\n",
        "  </tbody>\n",
        "</table>\n",
        "<p>625 rows \u00d7 2 columns</p>\n",
        "</div>"
       ],
       "metadata": {},
       "output_type": "pyout",
       "prompt_number": 107,
       "text": [
        "                                                 tweets sentiment\n",
        "4     So dissapointed Taylor Swift doesnt have a Twi...      True\n",
        "10    Allergies sucks sometimes. Theres a super ador...      True\n",
        "50    @Lowjacker twitter top trends pisses me off. O...      True\n",
        "71    Wrote exactly three lines of dialogue tonight,...      True\n",
        "72    Maybe eating McDonalds, downing a sherbet foun...      True\n",
        "77    @ mcdonalds with my litto sis aka cuzin lol cr...      True\n",
        "78    @AnnaSaccone Love your new cards!   I would de...      True\n",
        "80    Dallas vegas goodness  http://twitpic.com/3lzt...      True\n",
        "81    @JBsFanArgentina Hey I luv this pic!!! was ama...      True\n",
        "82    @llmatticusll yuuuup! 9 miles  it's for cancer...      True\n",
        "83    @seanmurphymusic I'am in love with Taylor Swif...      True\n",
        "85    @mileycyrus BRAZIL LOVES U SO MUCH!! YOU ARE A...      True\n",
        "86    @SilMuri yeah that'd be awesome... You're gonn...      True\n",
        "87    @DanniAsheOnline Awwww she called me sexy  nic...      True\n",
        "88    @McChelsea get a glass of wine, a nice book, a...      True\n",
        "89    Had to happen, @Oprah is on twitter, and only ...      True\n",
        "90    THE LAKERS ARE SO GOING TO WIN AND ADVANCE TO ...      True\n",
        "91                          @lightinthesky wow. enjoy!       True\n",
        "93    Went to Calgary with some of the lads (Gaspar ...      True\n",
        "94    @batistini21 lols you go for the cavs. orlando...      True\n",
        "95    @CCArquette ps. please try to see if you get C...      True\n",
        "96    I L&lt;3VE Taylor Swift.She is just so amazing...      True\n",
        "97    Fine-tuning part of a song Maddy and I r makin...      True\n",
        "98    Gran Turismo on PSP! FF13 to be on PC! What mo...      True\n",
        "99    @dornx give me time and ill come with you sa l...      True\n",
        "100             hanging out with biology til 4am woo  !      True\n",
        "101                    Happy Morning, la toat? lumea!        True\n",
        "102   Watching Oprah that I had taped from earlier! ...      True\n",
        "104                Lakers! Going to the finals!! Weee!       True\n",
        "105   Getting my hair cut while texting with my brot...      True\n",
        "...                                                 ...       ...\n",
        "1553  @RobKardashian Rob, Your my fav Kardashian, Pl...      True\n",
        "1555  That's the Birthday Boy's iPod Touch and DSi s...      True\n",
        "1556  @bbrannan I'm and good and glad you are too!  ...      True\n",
        "1559                watchin the cavs game with friends       True\n",
        "1565  had a great ending to a great day!  Being brav...      True\n",
        "1567  even though i should be in bed im watching vid...      True\n",
        "1568  @DonnieWahlberg YOU give me joy....and you hav...      True\n",
        "1569  skateboarder snowboarder breakdancer surfer NA...      True\n",
        "1571              @DrSecret Nice to meet you too buddy       True\n",
        "1572  @Larissa_Ione I LOVED Taming the Fire! I email...      True\n",
        "1574  @mdietrich that`s why you should go for holida...      True\n",
        "1576  @lhawthorn What a coincidence! I was just stal...      True\n",
        "1577  @ColinCancer HAHA  very funny! So what or who ...      True\n",
        "1579  road trip with the boy.  so far we have discov...      True\n",
        "1584   follow @skate4cancer ! you know you all want to       True\n",
        "1586  @MissyatWSU Why?  Seeing sad for you, Obama fr...      True\n",
        "1629  @SeattleRoll meep yeah.  hope she can tolerate...      True\n",
        "1646  @McFlyingGirl aww...you fell off your bed??  i...      True\n",
        "1717  @Hail_Mary_Jane Did you know Obama id signing ...      True\n",
        "1739  The new PSP looks crap!  Such a disappointment...      True\n",
        "1758  @TikkaMadsen @gogomago what are you two up to?...      True\n",
        "1797  @TVreeland Aww Denver Nuggets.. you tried  Bet...      True\n",
        "1802  And then an overlay of a pic of her face bleed...      True\n",
        "1804  i think im slowwly gettin addicted to facebook...      True\n",
        "1853  @sjtryon hey. Quick Q.  What was the iphone ge...      True\n",
        "1883  @Butterflyshoes I confess I didn't know that a...      True\n",
        "1906  @FollowSavvy I never found her. everytime I cl...      True\n",
        "1949  Happy to have my solar drawing on http://www.s...      True\n",
        "2032  Good morning everyone!  It is such a beautiful...      True\n",
        "2033  hey guess was @magicmanil the Lakers won and K...      True\n",
        "\n",
        "[625 rows x 2 columns]"
       ]
      }
     ],
     "prompt_number": 107
    },
    {
     "cell_type": "code",
     "collapsed": false,
     "input": [
      "# Take 5 random positive tweets:\n",
      "pos_tweets.ix[random.sample(pos_tweets.index,5)]"
     ],
     "language": "python",
     "metadata": {},
     "outputs": [
      {
       "html": [
        "<div style=\"max-height:1000px;max-width:1500px;overflow:auto;\">\n",
        "<table border=\"1\" class=\"dataframe\">\n",
        "  <thead>\n",
        "    <tr style=\"text-align: right;\">\n",
        "      <th></th>\n",
        "      <th>tweets</th>\n",
        "      <th>sentiment</th>\n",
        "    </tr>\n",
        "  </thead>\n",
        "  <tbody>\n",
        "    <tr>\n",
        "      <th>1471</th>\n",
        "      <td>                                                                       cant wait till 3am, mcdonalds breakfast </td>\n",
        "      <td> True</td>\n",
        "    </tr>\n",
        "    <tr>\n",
        "      <th>445 </th>\n",
        "      <td>            Those who picked the Cavs are so awwwwfully quiet now!  Nananana....nananana....hey hey....goodbye!</td>\n",
        "      <td> True</td>\n",
        "    </tr>\n",
        "    <tr>\n",
        "      <th>261 </th>\n",
        "      <td> @feliciaday Hey can you tell me if we can use Xbox 360 to use Twitter as Tickers/popups? That would be Sweet! </td>\n",
        "      <td> True</td>\n",
        "    </tr>\n",
        "    <tr>\n",
        "      <th>229 </th>\n",
        "      <td>                               you know twitter is going places when oprah starts tweeting. oh and larry king! </td>\n",
        "      <td> True</td>\n",
        "    </tr>\n",
        "    <tr>\n",
        "      <th>470 </th>\n",
        "      <td>                             @wendy_bowser Thank you for the kind words!  I appreciate it.  Have a great night </td>\n",
        "      <td> True</td>\n",
        "    </tr>\n",
        "  </tbody>\n",
        "</table>\n",
        "</div>"
       ],
       "metadata": {},
       "output_type": "pyout",
       "prompt_number": 143,
       "text": [
        "                                                                                                              tweets sentiment\n",
        "1471                                                                        cant wait till 3am, mcdonalds breakfast       True\n",
        "445              Those who picked the Cavs are so awwwwfully quiet now!  Nananana....nananana....hey hey....goodbye!      True\n",
        "261   @feliciaday Hey can you tell me if we can use Xbox 360 to use Twitter as Tickers/popups? That would be Sweet!       True\n",
        "229                                 you know twitter is going places when oprah starts tweeting. oh and larry king!       True\n",
        "470                               @wendy_bowser Thank you for the kind words!  I appreciate it.  Have a great night       True"
       ]
      }
     ],
     "prompt_number": 143
    },
    {
     "cell_type": "code",
     "collapsed": false,
     "input": [
      "# Take 5 random negative tweets:\n",
      "neg_tweets.ix[random.sample(neg_tweets.index,5)]"
     ],
     "language": "python",
     "metadata": {},
     "outputs": [
      {
       "html": [
        "<div style=\"max-height:1000px;max-width:1500px;overflow:auto;\">\n",
        "<table border=\"1\" class=\"dataframe\">\n",
        "  <thead>\n",
        "    <tr style=\"text-align: right;\">\n",
        "      <th></th>\n",
        "      <th>tweets</th>\n",
        "      <th>sentiment</th>\n",
        "    </tr>\n",
        "  </thead>\n",
        "  <tbody>\n",
        "    <tr>\n",
        "      <th>825 </th>\n",
        "      <td>                                                                                                    why is it always the fat ones?! </td>\n",
        "      <td> False</td>\n",
        "    </tr>\n",
        "    <tr>\n",
        "      <th>1909</th>\n",
        "      <td> I really wanna listen to some taylor swift right now. But all my cds are in my car at my parents house, since i borrowed moms car. </td>\n",
        "      <td> False</td>\n",
        "    </tr>\n",
        "    <tr>\n",
        "      <th>1689</th>\n",
        "      <td>        i am very disappointed at president Obama for not wanting to help Iran.this may be the only chance for iran to have freedom </td>\n",
        "      <td> False</td>\n",
        "    </tr>\n",
        "    <tr>\n",
        "      <th>480 </th>\n",
        "      <td>                                                                                    Oh nooo Demi in Seattle two days after we leave </td>\n",
        "      <td> False</td>\n",
        "    </tr>\n",
        "    <tr>\n",
        "      <th>575 </th>\n",
        "      <td>                      My sticker is about to fall off.  my Breast Cancer sticker I got from Danny's party - I stuck it on my phone. </td>\n",
        "      <td> False</td>\n",
        "    </tr>\n",
        "  </tbody>\n",
        "</table>\n",
        "</div>"
       ],
       "metadata": {},
       "output_type": "pyout",
       "prompt_number": 145,
       "text": [
        "                                                                                                                                   tweets sentiment\n",
        "825                                                                                                      why is it always the fat ones?!      False\n",
        "1909  I really wanna listen to some taylor swift right now. But all my cds are in my car at my parents house, since i borrowed moms car.      False\n",
        "1689         i am very disappointed at president Obama for not wanting to help Iran.this may be the only chance for iran to have freedom      False\n",
        "480                                                                                      Oh nooo Demi in Seattle two days after we leave      False\n",
        "575                        My sticker is about to fall off.  my Breast Cancer sticker I got from Danny's party - I stuck it on my phone.      False"
       ]
      }
     ],
     "prompt_number": 145
    },
    {
     "cell_type": "markdown",
     "metadata": {},
     "source": [
      "\n",
      "<!--\n",
      "# Create an informative features function\n",
      "#\n",
      "#\n",
      "## Ref: http://stackoverflow.com/questions/11116697/how-to-get-most-informative-features-for-scikit-learn-classifiers\n",
      "def show_most_informative_features(vectorizer, clf, n=20):\n",
      "    feature_names = vectorizer.get_feature_names()\n",
      "    coefs_with_fns = sorted(zip(clf.coef_[0], feature_names))\n",
      "    top = zip(coefs_with_fns[:n], coefs_with_fns[:-(n + 1):-1])\n",
      "    for (coef_1, fn_1), (coef_2, fn_2) in top:\n",
      "        print \"\\t%.4f\\t%-15s\\t\\t%.4f\\t%-15s\" % (coef_1, fn_1, coef_2, fn_2)\n",
      "# show_most_informative_features(vectorizer,clf,10)\n",
      "-->"
     ]
    },
    {
     "cell_type": "code",
     "collapsed": false,
     "input": [],
     "language": "python",
     "metadata": {},
     "outputs": [],
     "prompt_number": 157
    },
    {
     "cell_type": "code",
     "collapsed": false,
     "input": [
      "# Try out some probabilities\n",
      "def check(tweet):\n",
      "    return(clf.predict_proba(vectorizer.transform([tweet])).item(1))\n"
     ],
     "language": "python",
     "metadata": {},
     "outputs": [],
     "prompt_number": 188
    },
    {
     "cell_type": "code",
     "collapsed": false,
     "input": [
      "check(\"I love Saturdays\")"
     ],
     "language": "python",
     "metadata": {},
     "outputs": [
      {
       "metadata": {},
       "output_type": "pyout",
       "prompt_number": 192,
       "text": [
        "0.7840553088176232"
       ]
      }
     ],
     "prompt_number": 192
    },
    {
     "cell_type": "code",
     "collapsed": false,
     "input": [
      "check(\"I hate Saturdays\" )"
     ],
     "language": "python",
     "metadata": {},
     "outputs": [
      {
       "metadata": {},
       "output_type": "pyout",
       "prompt_number": 193,
       "text": [
        "0.023302445442714766"
       ]
      }
     ],
     "prompt_number": 193
    },
    {
     "cell_type": "markdown",
     "metadata": {},
     "source": [
      "## Get some custom tweets"
     ]
    },
    {
     "cell_type": "code",
     "collapsed": false,
     "input": [
      "# Import twitter\n",
      "import twitter\n",
      "\n",
      "# Get my codes\n",
      "X = pd.read_csv('scaletwit')\n"
     ],
     "language": "python",
     "metadata": {},
     "outputs": [],
     "prompt_number": 196
    },
    {
     "cell_type": "code",
     "collapsed": false,
     "input": [
      "# Setup oauth\n",
      "auth = twitter.oauth.OAuth(str(X.A[0]),str(X.B[0]),str(X.C[0]),str(X.D[0]))\n",
      "twitter_api = twitter.Twitter(auth=auth)"
     ],
     "language": "python",
     "metadata": {},
     "outputs": [],
     "prompt_number": 197
    },
    {
     "cell_type": "code",
     "collapsed": false,
     "input": [
      "hashtag = q = '#ebola'\n",
      "count=20\n",
      "search_results = twitter_api.search.tweets(q=q, count=count)"
     ],
     "language": "python",
     "metadata": {},
     "outputs": [],
     "prompt_number": 240
    },
    {
     "cell_type": "code",
     "collapsed": false,
     "input": [
      "# View keys per tweet:\n",
      "search_results['statuses'][0].keys()"
     ],
     "language": "python",
     "metadata": {},
     "outputs": [
      {
       "metadata": {},
       "output_type": "pyout",
       "prompt_number": 241,
       "text": [
        "[u'contributors',\n",
        " u'truncated',\n",
        " u'text',\n",
        " u'in_reply_to_status_id',\n",
        " u'id',\n",
        " u'favorite_count',\n",
        " u'source',\n",
        " u'retweeted',\n",
        " u'coordinates',\n",
        " u'entities',\n",
        " u'in_reply_to_screen_name',\n",
        " u'in_reply_to_user_id',\n",
        " u'retweet_count',\n",
        " u'id_str',\n",
        " u'favorited',\n",
        " u'user',\n",
        " u'geo',\n",
        " u'in_reply_to_user_id_str',\n",
        " u'possibly_sensitive',\n",
        " u'lang',\n",
        " u'created_at',\n",
        " u'in_reply_to_status_id_str',\n",
        " u'place',\n",
        " u'metadata']"
       ]
      }
     ],
     "prompt_number": 241
    },
    {
     "cell_type": "markdown",
     "metadata": {},
     "source": [
      "### Write a Tweet Check Function"
     ]
    },
    {
     "cell_type": "code",
     "collapsed": false,
     "input": [
      "# Write a little tweet sentiment checker\n",
      "def checktag(hashtag,count=20):\n",
      "    q = hashtag\n",
      "    count=20\n",
      "    search_results = twitter_api.search.tweets(q=q, count=count)\n",
      "\n",
      "    # Get a list of tweets\n",
      "    new_tweets = []\n",
      "    for i in range(count):\n",
      "        new_tweets.append(search_results['statuses'][i]['text'])\n",
      "\n",
      "        # Rate the new tweets\n",
      "    for i in range(count):\n",
      "        print new_tweets[i]\n",
      "        print check(new_tweets[i])\n",
      "        print \"\\n\""
     ],
     "language": "python",
     "metadata": {},
     "outputs": [],
     "prompt_number": 247
    },
    {
     "cell_type": "markdown",
     "metadata": {},
     "source": [
      "## Play Around"
     ]
    },
    {
     "cell_type": "code",
     "collapsed": false,
     "input": [
      "checktag(\"#fun\")"
     ],
     "language": "python",
     "metadata": {},
     "outputs": [
      {
       "output_type": "stream",
       "stream": "stdout",
       "text": [
        "#courage #drive #technical #brothers #obstacles #wondertwins #support #fun http://t.co/SxXn75W81a\n",
        "0.0394024647631\n",
        "\n",
        "\n",
        "Pink POP!  #cards #games #love #fun #life http://t.co/vWOvmukR41\n",
        "0.55021108949\n",
        "\n",
        "\n",
        "RT @dereckjohnlamab: At the movies with @HungerSmith  seeing Ouija @OuijaTheMovie #fun #movienight #amazing\n",
        "0.561316999402\n",
        "\n",
        "\n",
        "De viaje #yolo #antea #fun #guapas #selfie #queretaro http://t.co/7XDLg5rtld\n",
        "0.25180147254\n",
        "\n",
        "\n",
        "Text me know to secure your spot....\n",
        "\n",
        "Moni 623-688-1181 \n",
        "\n",
        "#hair #model #colorist #color #fun #beauty\u2026 http://t.co/AlhxmurbMh\n",
        "0.210040135165\n",
        "\n",
        "\n",
        "Happy a Halloween Twitter followers! #twitter #followers #mua #makeupartist #fun #harley #myBro #kisses http://t.co/s5Kge4dsCF\n",
        "0.997217670374\n",
        "\n",
        "\n",
        "#fun #instagramers #TagsForLikes #food #smile #pretty #followme #nature #lol #dog #hair #onedirection #sunset #sw... http://t.co/o17hEAe0ie\n",
        "0.91462585729\n",
        "\n",
        "\n",
        "RT @KapilAddicted: After getting A lot of reviews Going for #HNY 2mrw..\n",
        "\n",
        "#Friends #Party #Fun #enjoyment #memorable #Day #GN :))\n",
        "0.0396231621586\n",
        "\n",
        "\n",
        "Pre back workout. \ud83d\udcaa\ud83d\ude01. #herewego #trainpastthepain #loveworkingout #weights #lifting #passion #fit #fun http://t.co/DSH6duoxMW\n",
        "0.0457040937134\n",
        "\n",
        "\n",
        "RT @EdWestwick: Vibing in Madrid #europe #sangria #citybreak #fun http://t.co/ghOb4KfLGZ\n",
        "0.178922842898\n",
        "\n",
        "\n",
        "Sometimes you just gotta line em up and give it... Speedy box hops\n",
        "\n",
        "#quickfeet #fun #gym #fitness\u2026 http://t.co/fTuvMjyC5e\n",
        "0.0230108875712\n",
        "\n",
        "\n",
        "It's almost HALLOWEEN \ud83c\udf83\ud83d\ude1d\ud83c\udf6b Guess what jimmy_izy and I are \ud83d\ude48 #trickortreat #candy #fun\u2026 http://t.co/ZaQZNzOYVT\n",
        "0.0560659179013\n",
        "\n",
        "\n",
        "RT @EtsyLovely: Must Have COFFEE http://t.co/eTSBaMB7Jw @Etsy  #etsymntt #coffee #fun #funny  #lol http://t.co/9YCIeOIVqU\n",
        "0.175938708945\n",
        "\n",
        "\n",
        "Life drawing #relaxing #fun #newexperience http://t.co/SC2O9Fpbag\n",
        "0.643991892179\n",
        "\n",
        "\n",
        "RT @MeghanMBiro: Are we there yet? @timothymoran #ibminsight lines can be #fun !!! #bigdata http://t.co/rFr163YZ9y\n",
        "0.0102844998817\n",
        "\n",
        "\n",
        "#wowGB ya disitu, dmana lgi emang? http://t.co/MVR3bfDFgY | #1cak #Meme #Fun\n",
        "0.472976825061\n",
        "\n",
        "\n",
        "#wowGB Train - Hey, Soul Sister http://t.co/JEsyp1zDzR | #1cak #Meme #Fun\n",
        "0.747540897177\n",
        "\n",
        "\n",
        "#wowGB ooh perminyakan :v http://t.co/2iGTIxpDLr | #1cak #Meme #Fun\n",
        "0.25180147254\n",
        "\n",
        "\n",
        "#wowGB seribunya kemana?? http://t.co/rd4ePgxRY2 | #1cak #Meme #Fun\n",
        "0.326963613673\n",
        "\n",
        "\n",
        "Okay~we r ready to go!!!!!\n",
        "#chorusartcomplex #dancer #enjoy #fun #friend #family #goodtime #im\u2026 http://t.co/BU8O9NaoF2\n",
        "0.115930161681\n",
        "\n",
        "\n"
       ]
      }
     ],
     "prompt_number": 249
    },
    {
     "cell_type": "code",
     "collapsed": false,
     "input": [
      "checktag(\"#lame\",5)"
     ],
     "language": "python",
     "metadata": {},
     "outputs": [
      {
       "output_type": "stream",
       "stream": "stdout",
       "text": [
        "@cmpriest Destination America is showing a special on Lizzie Borden. No Cthulhu, though. #lame\n",
        "0.00194449539484\n",
        "\n",
        "\n",
        "@_BrittBuckley_ @JingerDuggar12 Yep I thought so lol thanks (: #lame #fakeaccount #notcool\n",
        "0.412397564898\n",
        "\n",
        "\n",
        "something about a guy with his hat on backwards. #lame #buthot\n",
        "0.00945056475814\n",
        "\n",
        "\n",
        "\ud83d\ude0f\ud83d\ude0f\ud83d\ude0f my humour #ghostbuster #lame #halloween http://t.co/7j8vAWa6Tj\n",
        "0.0473441079981\n",
        "\n",
        "\n",
        "If you're not gonna thicken the plot then you're just wasting my time! #supernatural #lame\n",
        "0.00895175658621\n",
        "\n",
        "\n",
        "\u201c@dnaiella: @kcrnj cat? Cause y'know, Kat\u00bf? #lame #basiccat #or #basicKat ?\u00bf\u201d Kat was dressed as a cat last year for irony \ud83d\ude02\ud83d\udc81\n",
        "0.00972962256849\n",
        "\n",
        "\n",
        "@kcrnj cat? Cause y'know, Kat\u00bf? #lame #basiccat #or #basicKat ?\u00bf\n",
        "0.0155630796778\n",
        "\n",
        "\n",
        "@BananaRepublic so what's the deal with these \"BR Picks\"? You pick the cutest items and make sure we can't get them discounted?? #lame\n",
        "0.00553317485435\n",
        "\n",
        "\n",
        "@johnny_lelek #lame\n",
        "0.176768839144\n",
        "\n",
        "\n",
        "@TheArtOfReese @jen4988 @ATCCPV @ArtofClint @HighNoonTattoos haha. No I was talking about all the people tagged! Lol #lame??\n",
        "0.0357245952491\n",
        "\n",
        "\n",
        "@MatiTradito si pero adem\u00e1s de eso ya sabes que soy #lame\n",
        "0.215562051528\n",
        "\n",
        "\n",
        "RT @stphil: @DrTomMartinPhD  the press is at fault... they are letting them get away with their slimeball antics   #lame                   \u2026\n",
        "0.000115208342485\n",
        "\n",
        "\n",
        "that was super boring! so sad I was up for a lot of fun but it just made me sleepy! lol #lame\n",
        "2.45431600365e-07\n",
        "\n",
        "\n",
        "@yelyahwilliams I guess you rot your teeth down to their core if you're really happy, huh? #Lam\u00e8\n",
        "0.394271446525\n",
        "\n",
        "\n",
        "Dont think the #Blackhawks even attempted a single shot on their PP. #Lame\n",
        "0.000963413458775\n",
        "\n",
        "\n",
        "Wish I could play #destiny but I keep getting DC'd. #lame\n",
        "2.73642425035e-05\n",
        "\n",
        "\n",
        "This #Godzilla movie needs something.  oH YEAH it is more godzilla.  #lame #godzilla2014\n",
        "0.00929419100894\n",
        "\n",
        "\n",
        "HA HA Utah rushing the field #lame\n",
        "0.0319262578109\n",
        "\n",
        "\n",
        "@DrTomMartinPhD  the press is at fault... they are letting them get away with their slimeball antics   #lame                       #maddow\n",
        "0.000166295770025\n",
        "\n",
        "\n",
        "@globeandmail you just tweeted this kk story five tweets ago. #lame\n",
        "0.113707997697\n",
        "\n",
        "\n"
       ]
      }
     ],
     "prompt_number": 250
    },
    {
     "cell_type": "code",
     "collapsed": false,
     "input": [],
     "language": "python",
     "metadata": {},
     "outputs": []
    }
   ],
   "metadata": {}
  }
 ]
}
