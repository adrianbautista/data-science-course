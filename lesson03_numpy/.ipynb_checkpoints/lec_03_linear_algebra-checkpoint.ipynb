{
 "metadata": {
  "name": "",
  "signature": "sha256:1bbda5d9ad74a6b984c11cdb9be21612a1dd79eec9c76297f49fef82225cecc5"
 },
 "nbformat": 3,
 "nbformat_minor": 0,
 "worksheets": [
  {
   "cells": [
    {
     "cell_type": "markdown",
     "metadata": {},
     "source": [
      "# Linear Algebra"
     ]
    },
    {
     "cell_type": "markdown",
     "metadata": {},
     "source": [
      "> If people do not believe that mathematics is simple, it is only because they do not realize how complicated life is\n",
      "\n",
      "<footer>~ John von Neumann, 1947 ACM keynote</footer>"
     ]
    },
    {
     "cell_type": "markdown",
     "metadata": {},
     "source": [
      "1. Linear Algebra Review\n",
      "1. The Python Control Flow\n",
      "\n",
      "**Labs** :\n",
      "1. Matrix Multiplication In Python\n",
      "1. Adding Control Flow Into Clicks Aggregation"
     ]
    },
    {
     "cell_type": "heading",
     "level": 2,
     "metadata": {},
     "source": [
      "Linear Algebra Review"
     ]
    },
    {
     "cell_type": "markdown",
     "metadata": {},
     "source": [
      "In order to best understand most machine learning algorithms, we need some basis of linear algebra.\n",
      "\n",
      "> Linear algebra is best defined as mathematics in the multidimensional space and the mapping between said spaces."
     ]
    },
    {
     "cell_type": "markdown",
     "metadata": {},
     "source": [
      "### For Example"
     ]
    },
    {
     "cell_type": "markdown",
     "metadata": {},
     "source": [
      "$$y = mx + b$$"
     ]
    },
    {
     "cell_type": "markdown",
     "metadata": {},
     "source": [
      "$$y = m_{1}x_{1} + m_{2}x_{2} + b$$"
     ]
    },
    {
     "cell_type": "markdown",
     "metadata": {},
     "source": [
      "$$y = m_{1}x_{1} + m_{2}x_{2} + m_{3}x_{3} + m_{4}x_{4} + b$$"
     ]
    },
    {
     "cell_type": "markdown",
     "metadata": {},
     "source": [
      "$$y = m_{1}x_{1} + m_{2}x_{2} + m_{3}x_{3} + m_{4}x_{4} + m_{5}x_{5} + m_{6}x_{6} + m_{7}x_{7} + m_{8}x_{8} + m_{9}x_{9} + m_{10}x_{10} + b$$"
     ]
    },
    {
     "cell_type": "heading",
     "level": 3,
     "metadata": {},
     "source": [
      "Matrices"
     ]
    },
    {
     "cell_type": "markdown",
     "metadata": {},
     "source": [
      "> Matrices are an array of real numbers with m rows and n columns\n",
      "\n",
      "Each value in a matrix is called an entry."
     ]
    },
    {
     "cell_type": "markdown",
     "metadata": {},
     "source": [
      "$$\\begin{bmatrix}1 & 5 & 8 & 7\\\\2 & 1 & 3 & 6\\\\3 & 5 & 1 & 0\\\\4 & 6 & 0 & 1\\end{bmatrix}$$"
     ]
    },
    {
     "cell_type": "markdown",
     "metadata": {},
     "source": [
      "$A_{21}$ in the given matrix, refers to the entry on the 2nd row, in the 1st column. The value is 2. "
     ]
    },
    {
     "cell_type": "heading",
     "level": 3,
     "metadata": {},
     "source": [
      "Vectors"
     ]
    },
    {
     "cell_type": "markdown",
     "metadata": {},
     "source": [
      "> Vectors are a special kind of matrix, as they only consist of one dimension of real numbers.\n",
      "\n",
      "These look most like a numeric array (or **list**) in Python.\n",
      "\n",
      "$$\\begin{bmatrix}1 & 3 & 9 & 2\\end{bmatrix}$$\n",
      "\n",
      "Likewise, you can refer to each index or value similarly (`a[0]` in Python is the same entity as 0 in vector a)"
     ]
    },
    {
     "cell_type": "heading",
     "level": 3,
     "metadata": {},
     "source": [
      "Handling"
     ]
    },
    {
     "cell_type": "markdown",
     "metadata": {},
     "source": [
      "**Rule 1!**\n",
      "\n",
      "Matrices can be added together only when they are the same size. If they are not the same size, their sum is **undefined**.\n",
      "\n",
      "$$\\begin{bmatrix}1 & 3 & 9 & 2\\end{bmatrix} + \\begin{bmatrix}2 & 5 & 9 & 4\\end{bmatrix} = \n",
      "\\begin{bmatrix}3 & 8 & 18 & 6\\end{bmatrix} $$\n",
      "\n"
     ]
    },
    {
     "cell_type": "markdown",
     "metadata": {},
     "source": [
      "$$\\begin{bmatrix}8 & 72 & 3 & 1\\end{bmatrix} + \\begin{bmatrix}17 & 55 & 3 & 10\\end{bmatrix} = \n",
      " \\ ? $$"
     ]
    },
    {
     "cell_type": "markdown",
     "metadata": {},
     "source": [
      "**Rule 2!**\n",
      "\n",
      "Matrices can be multiplied by a scalar (single entity) value.\n",
      "\n",
      "> Each value in the matrix is multiplied by the scalar value.\n"
     ]
    },
    {
     "cell_type": "markdown",
     "metadata": {},
     "source": [
      "$$\\begin{bmatrix}1 & 3 & 9 & 2\\end{bmatrix} * 3 =\n",
      "\\begin{bmatrix}3 & 9 & 27 & 6\\end{bmatrix} $$\n"
     ]
    },
    {
     "cell_type": "markdown",
     "metadata": {},
     "source": [
      "$$\\begin{bmatrix}8 & 72 & 3 & 1\\end{bmatrix} * 2 = \\ ? $$\n"
     ]
    },
    {
     "cell_type": "markdown",
     "metadata": {},
     "source": [
      "**Rule 3!**\n",
      "\n",
      "Matrices and vectors can be multiplied together given that the matrix columns are as wide as the vector is long. \n",
      "\n",
      "> The result will always be a vector."
     ]
    },
    {
     "cell_type": "markdown",
     "metadata": {},
     "source": [
      "$$\\begin{bmatrix}1 & 3 & 9 & 2\\\\2 & 4 & 6 & 8\\end{bmatrix} * \\begin{bmatrix}2 \\\\ 3 \\\\ 6 \\\\ 5  \\end{bmatrix} = \\begin{matrix} 2 + 9 + 54 + 10 \\\\ 4 + 12 + 36 + 40 \\end{matrix} = \\begin{bmatrix} 75 \\\\ 92 \\end{bmatrix}$$"
     ]
    },
    {
     "cell_type": "markdown",
     "metadata": {},
     "source": [
      "**Rule 4!**\n",
      "\n",
      "Matrices can be multiplied together using the same rules that we have from matrix-vector multiplication.\n",
      "\n",
      "> The result will always be a matrix."
     ]
    },
    {
     "cell_type": "markdown",
     "metadata": {},
     "source": [
      "$$\\begin{bmatrix}1 & 3 & 9 & 2\\\\2 & 4 & 6 & 8\\end{bmatrix} * \\begin{bmatrix}2 & 1 \\\\ 3 & 2 \\\\ 6 & 0 \\\\ 5 & 4 \\end{bmatrix} = \\begin{matrix} 2 + 9 + 54 + 10 \\\\ 4 + 12 + 36 + 40 \\\\ 1 + 6 + 0 + 8 \\\\ 2 + 8 + 0 + 32\\end{matrix} = \\begin{bmatrix} 75 & 15 \\\\ 92 & 42 \\end{bmatrix}$$\n"
     ]
    },
    {
     "cell_type": "heading",
     "level": 3,
     "metadata": {},
     "source": [
      "That Was Fast... Why Does This Matter?"
     ]
    },
    {
     "cell_type": "markdown",
     "metadata": {},
     "source": [
      "Matrices represent the multiple dimensions in our data! If we had a vector that suggested how important each dimension of our data was, we could use that to find our best **linear model**."
     ]
    },
    {
     "cell_type": "markdown",
     "metadata": {},
     "source": [
      "We will see matrices quite often in **all** of our data, so pay careful attention to how data is structured and how different algorithms interact with them."
     ]
    },
    {
     "cell_type": "heading",
     "level": 2,
     "metadata": {},
     "source": [
      "Python Control Flow"
     ]
    },
    {
     "cell_type": "heading",
     "level": 3,
     "metadata": {},
     "source": [
      "Control Flow"
     ]
    },
    {
     "cell_type": "markdown",
     "metadata": {},
     "source": [
      "Python has a number of control flow tools that will be familiar from other languages. \n",
      "\n",
      "> The first is the if-else statement, whose compound syntax looks like this:"
     ]
    },
    {
     "cell_type": "code",
     "collapsed": false,
     "input": [
      "x, y = False, True"
     ],
     "language": "python",
     "metadata": {},
     "outputs": [],
     "prompt_number": 65
    },
    {
     "cell_type": "code",
     "collapsed": false,
     "input": [
      "if x:\n",
      "    print 'apollo'\n",
      "elif y:\n",
      "    print 'starbuck'\n",
      "else:\n",
      "    print 'adama'"
     ],
     "language": "python",
     "metadata": {},
     "outputs": [
      {
       "output_type": "stream",
       "stream": "stdout",
       "text": [
        "starbuck\n"
       ]
      }
     ],
     "prompt_number": 66
    },
    {
     "cell_type": "markdown",
     "metadata": {},
     "source": [
      "Next is the while loop. \n",
      "\n",
      "> This executes while a given condition evaluates to True.\n"
     ]
    },
    {
     "cell_type": "code",
     "collapsed": false,
     "input": [
      "x = 0"
     ],
     "language": "python",
     "metadata": {},
     "outputs": [],
     "prompt_number": 5
    },
    {
     "cell_type": "code",
     "collapsed": false,
     "input": [
      "while True:\n",
      "    x += 1\n",
      "    if x > 3:\n",
      "        break\n",
      "    print 'Galactica'"
     ],
     "language": "python",
     "metadata": {},
     "outputs": [],
     "prompt_number": 7
    },
    {
     "cell_type": "markdown",
     "metadata": {},
     "source": [
      "Another familiar (and useful) construct is the for loop.\n",
      "\n",
      "> This executes a block of code for a range of values."
     ]
    },
    {
     "cell_type": "code",
     "collapsed": false,
     "input": [
      "for k in range(4):\n",
      "    print k**2"
     ],
     "language": "python",
     "metadata": {},
     "outputs": [
      {
       "output_type": "stream",
       "stream": "stdout",
       "text": [
        "0\n",
        "1\n",
        "4\n",
        "9\n"
       ]
      }
     ],
     "prompt_number": 12
    },
    {
     "cell_type": "markdown",
     "metadata": {},
     "source": [
      "The object that a for loop iterates over is called\n",
      "(appropriately) an iterable."
     ]
    },
    {
     "cell_type": "markdown",
     "metadata": {},
     "source": [
      "A useful but possibly unfamiliar construct is the try-\n",
      "except block:"
     ]
    },
    {
     "cell_type": "code",
     "collapsed": false,
     "input": [
      "try:\n",
      "    print undef\n",
      "except:\n",
      "    print 'nice try, mr undefined!'        "
     ],
     "language": "python",
     "metadata": {},
     "outputs": [
      {
       "output_type": "stream",
       "stream": "stdout",
       "text": [
        "I'm mr undefined\n"
       ]
      }
     ],
     "prompt_number": 12
    },
    {
     "cell_type": "markdown",
     "metadata": {},
     "source": [
      "This is useful for catching and dealing with errors, also called exception handling."
     ]
    },
    {
     "cell_type": "heading",
     "level": 3,
     "metadata": {},
     "source": [
      "Functions"
     ]
    },
    {
     "cell_type": "markdown",
     "metadata": {},
     "source": [
      "Python allows you to define custom functions as you\n",
      "would expect:\n"
     ]
    },
    {
     "cell_type": "code",
     "collapsed": false,
     "input": [
      "def x_minus_3(x):\n",
      "    return x -3"
     ],
     "language": "python",
     "metadata": {},
     "outputs": [],
     "prompt_number": 18
    },
    {
     "cell_type": "code",
     "collapsed": false,
     "input": [
      "x_minus_3(12)"
     ],
     "language": "python",
     "metadata": {},
     "outputs": [
      {
       "metadata": {},
       "output_type": "pyout",
       "prompt_number": 19,
       "text": [
        "9"
       ]
      }
     ],
     "prompt_number": 19
    },
    {
     "cell_type": "markdown",
     "metadata": {},
     "source": [
      "Functions can optionally return a value with a return statement (as this example does)."
     ]
    },
    {
     "cell_type": "markdown",
     "metadata": {},
     "source": [
      "Functions can take a number of arguments as inputs,\n",
      "and these arguments can be specified in two ways:\n"
     ]
    },
    {
     "cell_type": "heading",
     "level": 4,
     "metadata": {},
     "source": [
      "As positional arguments"
     ]
    },
    {
     "cell_type": "code",
     "collapsed": false,
     "input": [
      "def f(x,y):\n",
      "    return x - y"
     ],
     "language": "python",
     "metadata": {},
     "outputs": [],
     "prompt_number": 21
    },
    {
     "cell_type": "code",
     "collapsed": false,
     "input": [
      "f(4,2)"
     ],
     "language": "python",
     "metadata": {},
     "outputs": [
      {
       "metadata": {},
       "output_type": "pyout",
       "prompt_number": 22,
       "text": [
        "2"
       ]
      }
     ],
     "prompt_number": 22
    },
    {
     "cell_type": "code",
     "collapsed": false,
     "input": [
      "f(2,4)"
     ],
     "language": "python",
     "metadata": {},
     "outputs": [
      {
       "metadata": {},
       "output_type": "pyout",
       "prompt_number": 23,
       "text": [
        "-2"
       ]
      }
     ],
     "prompt_number": 23
    },
    {
     "cell_type": "heading",
     "level": 4,
     "metadata": {},
     "source": [
      "Or as keyword arguments"
     ]
    },
    {
     "cell_type": "code",
     "collapsed": false,
     "input": [
      "def g(arg1=1, arg2=1):\n",
      "    return arg1 / float(arg2)"
     ],
     "language": "python",
     "metadata": {},
     "outputs": [],
     "prompt_number": 40
    },
    {
     "cell_type": "code",
     "collapsed": false,
     "input": [
      "g(arg1=10, arg2=5)"
     ],
     "language": "python",
     "metadata": {},
     "outputs": [
      {
       "metadata": {},
       "output_type": "pyout",
       "prompt_number": 25,
       "text": [
        "2.0"
       ]
      }
     ],
     "prompt_number": 25
    },
    {
     "cell_type": "markdown",
     "metadata": {},
     "source": [
      "g(arg2=100, arg1=10)"
     ]
    },
    {
     "cell_type": "markdown",
     "metadata": {},
     "source": [
      "# Classes and Subclasses"
     ]
    },
    {
     "cell_type": "markdown",
     "metadata": {},
     "source": [
      "Classes allow us to create new python object types, while subclassing allows us to borrow functionality from parent classes."
     ]
    },
    {
     "cell_type": "code",
     "collapsed": false,
     "input": [
      "class Dog(object):\n",
      "    def bark(self):\n",
      "        print 'woof!'\n",
      "    \n",
      "rex = Dog()\n",
      "rex.bark()"
     ],
     "language": "python",
     "metadata": {},
     "outputs": [
      {
       "output_type": "stream",
       "stream": "stdout",
       "text": [
        "woof!\n"
       ]
      }
     ],
     "prompt_number": 3
    },
    {
     "cell_type": "markdown",
     "metadata": {},
     "source": [
      "subclassing allows you to create new data structures.\n",
      "\n",
      "This allows for \"monkeypatching\" of python data structures too, but it's generally frowned upon"
     ]
    },
    {
     "cell_type": "code",
     "collapsed": false,
     "input": [
      "class MyList(list):\n",
      "    def first(self):\n",
      "        return self[0]\n",
      "    \n",
      "    def apply(self, func):\n",
      "        return [func(i) for i in self]\n",
      "\n",
      "a = MyList([1, 2, 3])\n",
      "print a.first()\n",
      "\n",
      "def add_one(x):\n",
      "    return x + 1\n",
      "\n",
      "b = a.apply(add_one)\n",
      "print b"
     ],
     "language": "python",
     "metadata": {},
     "outputs": [
      {
       "output_type": "stream",
       "stream": "stdout",
       "text": [
        "1\n",
        "[2, 3, 4]\n"
       ]
      }
     ],
     "prompt_number": 8
    },
    {
     "cell_type": "heading",
     "level": 2,
     "metadata": {},
     "source": [
      "Lab: Munging data"
     ]
    },
    {
     "cell_type": "markdown",
     "metadata": {},
     "source": [
      "Use the below weburl and python code to aggregate the data set the following ways. You may want to just run the web request once (to save on web downloading), and then iterate through the text once to as many times as you need. The end result should be a dictionary for each example"
     ]
    },
    {
     "cell_type": "code",
     "collapsed": false,
     "input": [
      "import requests\n",
      "import csv\n",
      "\n",
      "web_request = requests.get('http://archive.ics.uci.edu/ml/machine-learning-databases/adult/adult.data')\n",
      "\n",
      "web_data = web_request.text\n",
      "degree_count = {}\n",
      "gender_degree_count = {'Male': {}, 'Female': {}}\n",
      "male_hours = []\n",
      "female_hours = []\n",
      "\n",
      "reader = csv.reader(web_data.splitlines())\n",
      "for row in reader:\n",
      "    try:\n",
      "        \n",
      "        \"\"\"\n",
      "        dict = {'Male': {'BS': 10, 'BA': 2}, 'Female': {'BS': 10, 'BA': 2}}\n",
      "        gender_degree_count['Male'] => {'BS': 10, 'BA': 2}\n",
      "        dict['Male']['BS']\n",
      "        \"\"\"\n",
      "        \n",
      "        gender = row[9].strip()\n",
      "        degree = row[3].strip()\n",
      "        \n",
      "        if degree in degree_count:\n",
      "            degree_count[degree] += 1\n",
      "        else:\n",
      "            degree_count[degree] = 1\n",
      "        \n",
      "        \"\"\"\n",
      "        \"\"\"\n",
      "        \n",
      "        if degree in gender_degree_count[gender]:\n",
      "            gender_degree_count[gender][degree] += 1\n",
      "        else:\n",
      "            gender_degree_count[gender][degree] = 1\n",
      "            \n",
      "        if gender == 'Male':\n",
      "            male_hours.append(row[13])\n",
      "        elif gender == 'Female':\n",
      "            female_hours.append(row[13])\n",
      "\n",
      "    except:\n",
      "        pass\n",
      "\n",
      "    \n",
      "average_male = sum(male_hours)/len(male_hours)\n",
      "average_female = sum(female_hours)/len(female_hours)\n",
      "\n",
      "print degree_count\n",
      "print gender_degree_count\n",
      "print \"Male Average Hours: {0}\".format(average_male)\n",
      "print \"Female Average Hours {0}\".format(average_female)"
     ],
     "language": "python",
     "metadata": {},
     "outputs": [
      {
       "output_type": "stream",
       "stream": "stdout",
       "text": [
        "{' 7th-8th': 646, ' Prof-school': 576, ' 1st-4th': 168, ' Assoc-voc': 1382, ' Masters': 1723, ' Assoc-acdm': 1067, ' 9th': 514, ' Doctorate': 413, ' Bachelors': 5355, ' 5th-6th': 333, ' Some-college': 7291, ' 10th': 933, ' 11th': 1175, ' HS-grad': 10501, ' Preschool': 51, ' 12th': 433}\n",
        "{' Male': {' 7th-8th': 486, ' Prof-school': 484, ' 1st-4th': 122, ' Assoc-voc': 882, ' Masters': 1187, ' Assoc-acdm': 646, ' 9th': 370, ' Doctorate': 327, ' Bachelors': 3736, ' 5th-6th': 249, ' Some-college': 4485, ' 10th': 638, ' 11th': 743, ' HS-grad': 7111, ' Preschool': 35, ' 12th': 289}, ' Female': {' 7th-8th': 160, ' Prof-school': 92, ' 1st-4th': 46, ' Assoc-voc': 500, ' Masters': 536, ' Assoc-acdm': 421, ' 9th': 144, ' Doctorate': 86, ' Bachelors': 1619, ' 5th-6th': 84, ' Some-college': 2806, ' 10th': 295, ' 11th': 432, ' HS-grad': 3390, ' Preschool': 16, ' 12th': 144}}\n"
       ]
      }
     ],
     "prompt_number": 1
    },
    {
     "cell_type": "markdown",
     "metadata": {},
     "source": [
      "1. Count the number of each instance in index 3 (bachelors, hs-grad, etc)\n",
      "2. Count the number of each combinatino in index 3 and index 10 (gender)\n",
      "3. Find the average hours per week (index 13) for the groups in number 2\n",
      "4. Given the counts available between 2 and the average hours in 3, do you believe any sample sizes seem to small to have a meaningful average?\n",
      "\n",
      "Extra: Find other interesting ways to aggregate the data available. Keep in mind potential problems you may want to solve."
     ]
    },
    {
     "cell_type": "heading",
     "level": 2,
     "metadata": {},
     "source": [
      "Lab: Matrix Addition In Python"
     ]
    },
    {
     "cell_type": "markdown",
     "metadata": {},
     "source": [
      "* Build some basic linear algebra functions\n",
      "* Improve comfort with flow patterns\n",
      "* Explore list comprehensions"
     ]
    },
    {
     "cell_type": "heading",
     "level": 3,
     "metadata": {},
     "source": [
      "Practice: Linear Algebra"
     ]
    },
    {
     "cell_type": "markdown",
     "metadata": {},
     "source": [
      "Primarily let's focus on some of the concrete components we talked about in class"
     ]
    },
    {
     "cell_type": "heading",
     "level": 4,
     "metadata": {},
     "source": [
      "Matrices and Vectors"
     ]
    },
    {
     "cell_type": "markdown",
     "metadata": {},
     "source": [
      "For the most part, we can consider using lists to create matrices and vectors (especially given that a Python list is, essentially, a vector)"
     ]
    },
    {
     "cell_type": "code",
     "collapsed": false,
     "input": [
      "vector = [1, 2, 3]\n",
      "matrix = [ [1, 2, 3, 4], \n",
      "           [5, 6, 7, 8],\n",
      "           [9, 0, 1, 2] ]\n",
      "\n",
      "print matrix"
     ],
     "language": "python",
     "metadata": {},
     "outputs": [
      {
       "output_type": "stream",
       "stream": "stdout",
       "text": [
        "[[1, 2, 3, 4], [5, 6, 7, 8], [9, 0, 1, 2]]\n"
       ]
      }
     ],
     "prompt_number": 17
    },
    {
     "cell_type": "markdown",
     "metadata": {},
     "source": [
      "The numpy module actually has these built in, which means [we don't have to write out the whole classes ourselves](http://cl.ly/image/2f311G1t0X0B).\n",
      "\n",
      "Numpy has both matrics and arrays. Though a matrix is a strict 2d vector, we recommend using arrays while handling data in numpy. [Here's why](http://stackoverflow.com/questions/4151128/what-are-the-differences-between-numpy-arrays-and-matrices-which-one-should-i-u)."
     ]
    },
    {
     "cell_type": "code",
     "collapsed": false,
     "input": [
      "import numpy as np\n",
      "npMatrix = np.matrix('1 2 3; 4 5 6; 7 8 9')\n",
      "\n",
      "print npMatrix\n",
      "\n",
      "npArray = np.array([[1, 2, 3], [4, 5, 6], [7, 8, 9]])\n",
      "\n",
      "print npArray"
     ],
     "language": "python",
     "metadata": {},
     "outputs": [
      {
       "output_type": "stream",
       "stream": "stdout",
       "text": [
        "[[1 2 3]\n",
        " [4 5 6]\n",
        " [7 8 9]]\n",
        "[[1 2 3]\n",
        " [4 5 6]\n",
        " [7 8 9]]\n"
       ]
      }
     ],
     "prompt_number": 18
    },
    {
     "cell_type": "heading",
     "level": 3,
     "metadata": {},
     "source": [
      "Math"
     ]
    },
    {
     "cell_type": "markdown",
     "metadata": {},
     "source": [
      "How do we multiple a vector by a scaler?"
     ]
    },
    {
     "cell_type": "code",
     "collapsed": false,
     "input": [
      "vector * 3"
     ],
     "language": "python",
     "metadata": {},
     "outputs": [
      {
       "metadata": {},
       "output_type": "pyout",
       "prompt_number": 19,
       "text": [
        "[1, 2, 3, 1, 2, 3, 1, 2, 3]"
       ]
      }
     ],
     "prompt_number": 19
    },
    {
     "cell_type": "markdown",
     "metadata": {},
     "source": [
      "Note that \"common sense\" here won't work with python lists: we're looking for a way to multiply each value within a vector by a value, not to repeat the vector 3 times. Here, we can use _[list comprehensions](http://www.secnetix.de/olli/Python/list_comprehensions.hawk)_ instead:\n"
     ]
    },
    {
     "cell_type": "code",
     "collapsed": false,
     "input": [
      "[x*3 for x in vector]"
     ],
     "language": "python",
     "metadata": {},
     "outputs": [
      {
       "metadata": {},
       "output_type": "pyout",
       "prompt_number": 20,
       "text": [
        "[3, 6, 9]"
       ]
      }
     ],
     "prompt_number": 20
    },
    {
     "cell_type": "markdown",
     "metadata": {},
     "source": [
      "And easier, we can write this as a function for our monkey patched list class (but let's not and say we did)"
     ]
    },
    {
     "cell_type": "code",
     "collapsed": false,
     "input": [
      "def vectorMultiply(vector, value):\n",
      "    return [x*value for x in vector]\n",
      "\n",
      "vectorMultiply(vector, 3)"
     ],
     "language": "python",
     "metadata": {},
     "outputs": [
      {
       "metadata": {},
       "output_type": "pyout",
       "prompt_number": 21,
       "text": [
        "[3, 6, 9]"
       ]
      }
     ],
     "prompt_number": 21
    },
    {
     "cell_type": "markdown",
     "metadata": {},
     "source": [
      "(Granted, we could extend the list class\u2026 but let's not and say we did)\n",
      "\n",
      "Can also use list comprehensions to transpose a matrix, which should turn the matrix, essentially, on its 'diagonal axis'.\n"
     ]
    },
    {
     "cell_type": "code",
     "collapsed": false,
     "input": [
      "def matrixTranspose(matrix):\n",
      "    \"\"\"\n",
      "    Matrix Transpose function with interspersed print statements\n",
      "    for explanatory purposes. We'll disect the following list comprehension :\n",
      "    \n",
      "    [ [row[n] for row in matrix] for n in range(len(matrix[0]))]\n",
      "    \n",
      "    \"\"\"\n",
      "    \n",
      "#   Let's inspect which  matrix was provided as an argument? : \n",
      "#\n",
      "#    [[1 2 3 4]\n",
      "#     [5 6 7 8]\n",
      "#     [9 0 1 2]]\n",
      "#\n",
      "    print np.matrix(matrix)\n",
      "    \n",
      "#   Now, let's disect the list comprehension which will transpose this\n",
      "#   matrix. Start from the back when trying to understand what a list \n",
      "#   comprehension does. So we see that it tries the access the first \n",
      "#   row in the Matrix : [1 2 3 4]\n",
      "    print matrix[0]\n",
      "    \n",
      "#   It does this to determine the number of columns the matrix has, as\n",
      "#   each row will have an equal number of elements. \n",
      "    print len(matrix[0])\n",
      "\n",
      "#   The number of columns is them used to create a 'range list' to \n",
      "#   iterate over : [0, 1, 2, 3]\n",
      "    print range(len(matrix[0]))\n",
      "\n",
      "#   So in this particular case the list comprehension is simply:\n",
      "#   [ [row[n] for row in matrix] for n in [0,1,2,3]]\n",
      "\n",
      "#   The outer loop (the outer list comprehension) 'locks' the column\n",
      "#   number for each full cycle of inner loop (inner list comprehension).\n",
      "\n",
      "#   So in first instance 'n' is fixed at 0, and so when it executes the\n",
      "#   inner loop :\n",
      "\n",
      "#   [row[n] for row in matrix]\n",
      "\n",
      "#  it goes through each row in the matrix and takes the nth element from the \n",
      "#  row. In the example, in the first cycle 'n' would be 0, and so the elements\n",
      "#  taken from our examplary matrix would be [1,5,9]. These numbers are stored \n",
      "#  inside of a list (that's what list comprehensions do), and it will ask for \n",
      "#  the next value of 'n'. Now that 'n' is fixed as 1, it will go through a whole \n",
      "#  cycle again. Now it takes [2,6,0] from out examplary matrix. This continues \n",
      "#  for as long as there are more rows in the matrix.\n",
      "\n",
      "    return [ [row[n] for row in matrix] for n in range(len(matrix[0]))]\n",
      "\n",
      "#  Ultimately the function returns the transposed matrix : \n",
      "#\n",
      "#   [[1 5 9]\n",
      "#    [2 6 0]\n",
      "#    [3 7 1]\n",
      "#    [4 8 2]]\n",
      "#\n",
      "print np.matrix(matrixTranspose(matrix)) # Formatted as a matrix"
     ],
     "language": "python",
     "metadata": {},
     "outputs": [
      {
       "output_type": "stream",
       "stream": "stdout",
       "text": [
        "[[1 2 3 4]\n",
        " [5 6 7 8]\n",
        " [9 0 1 2]]\n",
        "[1, 2, 3, 4]\n",
        "4\n",
        "[0, 1, 2, 3]\n",
        "[[1 5 9]\n",
        " [2 6 0]\n",
        " [3 7 1]\n",
        " [4 8 2]]\n"
       ]
      }
     ],
     "prompt_number": 59
    },
    {
     "cell_type": "heading",
     "level": 3,
     "metadata": {},
     "source": [
      "Classwork"
     ]
    },
    {
     "cell_type": "markdown",
     "metadata": {},
     "source": [
      "1. Write two more functions: `vectorMatrix multiplication` and `matrix multiplication`. No numpy/scipy! Do this with pure python. Use triple quotes/doc quotes to explain the properties expected for a matrix in these functions:\n"
     ]
    },
    {
     "cell_type": "code",
     "collapsed": false,
     "input": [
      "def vectorMatrixMultiplication(matrix,vector):\n",
      "    \"\"\"\n",
      "    Explain exactly what is needed\n",
      "    \"\"\"\n",
      "    return answer"
     ],
     "language": "python",
     "metadata": {},
     "outputs": [
      {
       "metadata": {},
       "output_type": "pyout",
       "prompt_number": 73,
       "text": [
        "'\\nDocumentation in Python\\n'"
       ]
      }
     ],
     "prompt_number": 73
    },
    {
     "cell_type": "markdown",
     "metadata": {},
     "source": [
      "\n",
      "\n"
     ]
    },
    {
     "cell_type": "markdown",
     "metadata": {},
     "source": [
      "**PROGRAMMER GOAL**\n",
      "\n",
      "1. Write test cases and use try/catch in your functions for when matrices are not defined correctly (ie: [ [1,2,3], [4,5] ] is not a matrix.) Or, create a matrix class that also follows these rules. You can test it against the ndarray class in numpy.\n"
     ]
    },
    {
     "cell_type": "markdown",
     "metadata": {},
     "source": [
      "2. Write a function that creates an identity matrix. An identity matrix is a matrix where value = 1 if the row and column index are the same, and 0 otherwise. It should build any size identity matrix you want.\n",
      "\n",
      "Example: iMatrix(4) should be:"
     ]
    },
    {
     "cell_type": "code",
     "collapsed": false,
     "input": [
      "[ [1, 0, 0, 0],\n",
      "[0, 1, 0, 0],\n",
      "[0, 0, 1, 0],\n",
      "[0, 0, 0, 1] ]"
     ],
     "language": "python",
     "metadata": {},
     "outputs": [
      {
       "metadata": {},
       "output_type": "pyout",
       "prompt_number": 75,
       "text": [
        "[[1, 0, 0, 0], [0, 1, 0, 0], [0, 0, 1, 0], [0, 0, 0, 1]]"
       ]
      }
     ],
     "prompt_number": 75
    },
    {
     "cell_type": "heading",
     "level": 2,
     "metadata": {},
     "source": [
      "Resources"
     ]
    },
    {
     "cell_type": "markdown",
     "metadata": {},
     "source": [
      "#### Mathematics\n",
      "[Great review on Linear Algebra](http://cs229.stanford.edu/section/cs229-linalg.pdf)\n",
      "\n",
      "#### Machine Learning\n",
      "[Early learning on its application to linear models](http://dept.stat.lsa.umich.edu/~kshedden/Courses/Stat401/Notes/401-multreg.pdf)\n",
      "\n",
      "#### Code\n",
      "[A Matrix Class implemented in pure python](http://code.activestate.com/recipes/189971-basic-linear-algebra-matrix/)\n"
     ]
    }
   ],
   "metadata": {}
  }
 ]
}