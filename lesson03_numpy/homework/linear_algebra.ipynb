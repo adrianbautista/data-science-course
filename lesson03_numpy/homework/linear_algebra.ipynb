{
 "metadata": {
  "name": "",
  "signature": "sha256:605e7431e6f4243ad767ae2fb5dfb43bcaf8f7cbd892bb6f5e47ccfbedcc19cb"
 },
 "nbformat": 3,
 "nbformat_minor": 0,
 "worksheets": [
  {
   "cells": [
    {
     "cell_type": "markdown",
     "metadata": {},
     "source": [
      "# Notes\n",
      "\n",
      "### List comprhensions\n",
      "- List comprehension converts one list into another list? \n",
      "- Useful for filtering or sampling data\n",
      "    - If you have a list of dictionaries, you could search for dictionaries that have a certain key or key-value pair\n"
     ]
    },
    {
     "cell_type": "code",
     "collapsed": false,
     "input": [
      "vector = [1, 2, 3]\n",
      "matrix = [ [1, 2, 3, 4],\n",
      "           [5, 6, 7, 8],\n",
      "           [9, 0, 1, 2]]\n",
      "print matrix"
     ],
     "language": "python",
     "metadata": {},
     "outputs": [
      {
       "output_type": "stream",
       "stream": "stdout",
       "text": [
        "[[1, 2, 3, 4], [5, 6, 7, 8], [9, 0, 1, 2]]\n"
       ]
      }
     ],
     "prompt_number": 2
    },
    {
     "cell_type": "code",
     "collapsed": false,
     "input": [
      "import numpy as np\n",
      "npMatrix = np.matrix('1 2 3; 4 5 6; 7 8 9')\n",
      "npArray = np.array([[1,2,3], [4,5,6], [7,8,9]])\n",
      "\n",
      "print npMatrix\n",
      "print npArray"
     ],
     "language": "python",
     "metadata": {},
     "outputs": [
      {
       "output_type": "stream",
       "stream": "stdout",
       "text": [
        "[[1 2 3]\n",
        " [4 5 6]\n",
        " [7 8 9]]\n",
        "[[1 2 3]\n",
        " [4 5 6]\n",
        " [7 8 9]]\n"
       ]
      }
     ],
     "prompt_number": 3
    },
    {
     "cell_type": "code",
     "collapsed": false,
     "input": [
      "print np.matrix(matrix)"
     ],
     "language": "python",
     "metadata": {},
     "outputs": [
      {
       "output_type": "stream",
       "stream": "stdout",
       "text": [
        "[[1 2 3 4]\n",
        " [5 6 7 8]\n",
        " [9 0 1 2]]\n"
       ]
      }
     ],
     "prompt_number": 4
    },
    {
     "cell_type": "code",
     "collapsed": false,
     "input": [
      "vector2 = [1, 2, 3]\n",
      "print vector2"
     ],
     "language": "python",
     "metadata": {},
     "outputs": [
      {
       "output_type": "stream",
       "stream": "stdout",
       "text": [
        "[1, 2, 3]\n"
       ]
      }
     ],
     "prompt_number": 48
    },
    {
     "cell_type": "code",
     "collapsed": false,
     "input": [
      "# print matrix\n",
      "# print matrix[1][2]\n",
      "# print vector2\n",
      "# print vector2[2]\n",
      "# print [i for i in vector2]\n",
      "# print [vector2[i] for i in range(len(vector2))]\n",
      "# print [matrix[0][i] for i in range(3)]\n",
      "print matrix"
     ],
     "language": "python",
     "metadata": {},
     "outputs": [
      {
       "output_type": "stream",
       "stream": "stdout",
       "text": [
        "[[1, 2, 3, 4], [5, 6, 7, 8], [9, 0, 1, 2]]\n"
       ]
      }
     ],
     "prompt_number": 47
    },
    {
     "cell_type": "code",
     "collapsed": false,
     "input": [
      "print [matrix[i][0] * vector2[i] for i in range(len(vector2))]"
     ],
     "language": "python",
     "metadata": {},
     "outputs": [
      {
       "output_type": "stream",
       "stream": "stdout",
       "text": [
        "[1, 10, 27]\n"
       ]
      }
     ],
     "prompt_number": 49
    },
    {
     "cell_type": "code",
     "collapsed": false,
     "input": [
      "def vectorMatrixMultiplication(matrix, vector):\n",
      "    \"\"\"\n",
      "    for i in range(len(vector2)) => iterates over the vector.\n",
      "    i is the index\n",
      "    vector2[i] returns the value at the given index\n",
      "    \n",
      "    for j in range(len(matrix[0])) => iterates over the matrix columns.\n",
      "    j is the column index\n",
      "    matrix[i][j] returns the value at index i inside column j\n",
      "    \"\"\"\n",
      "    answer = [[matrix[i][j] * vector2[i] for i in range(len(vector2))] for j in range(len(matrix[0]))]\n",
      "    print answer\n",
      "#     return answer\n",
      "    "
     ],
     "language": "python",
     "metadata": {},
     "outputs": [],
     "prompt_number": 59
    },
    {
     "cell_type": "code",
     "collapsed": false,
     "input": [
      "vectorMatrixMultiplication(matrix, vector2)\n"
     ],
     "language": "python",
     "metadata": {},
     "outputs": [
      {
       "output_type": "stream",
       "stream": "stdout",
       "text": [
        "[[1, 10, 27], [2, 12, 0], [3, 14, 3], [4, 16, 6]]\n"
       ]
      }
     ],
     "prompt_number": 60
    },
    {
     "cell_type": "code",
     "collapsed": false,
     "input": [
      "def identity_matrix(matrix_size):\n",
      "    answer = [(1 if i == j else 0) for i in range(len(matrix_size))] for j in range(len(matrix_size))]\n",
      "    print answer"
     ],
     "language": "python",
     "metadata": {},
     "outputs": [
      {
       "ename": "SyntaxError",
       "evalue": "invalid syntax (<ipython-input-57-c6eea2b0f4d4>, line 2)",
       "output_type": "pyerr",
       "traceback": [
        "\u001b[0;36m  File \u001b[0;32m\"<ipython-input-57-c6eea2b0f4d4>\"\u001b[0;36m, line \u001b[0;32m2\u001b[0m\n\u001b[0;31m    answer = [(1 if i == j else 0) for i in range(len(matrix_size))] for j in range(len(matrix_size))]\u001b[0m\n\u001b[0m                                                                       ^\u001b[0m\n\u001b[0;31mSyntaxError\u001b[0m\u001b[0;31m:\u001b[0m invalid syntax\n"
       ]
      }
     ],
     "prompt_number": 57
    },
    {
     "cell_type": "code",
     "collapsed": false,
     "input": [
      "import requests\n",
      "import csv\n",
      "\n",
      "web_request = requests.get('http://archive.ics.uci.edu/ml/machine-learning-databases/adult/adult.data')\n",
      "\n",
      "web_data = web_request.text\n",
      "\n",
      "reader = csv.reader(web_data.splitlines())\n",
      "\n",
      "for row in reader:\n",
      "    "
     ],
     "language": "python",
     "metadata": {},
     "outputs": [],
     "prompt_number": 22
    },
    {
     "cell_type": "code",
     "collapsed": false,
     "input": [],
     "language": "python",
     "metadata": {},
     "outputs": []
    }
   ],
   "metadata": {}
  }
 ]
}