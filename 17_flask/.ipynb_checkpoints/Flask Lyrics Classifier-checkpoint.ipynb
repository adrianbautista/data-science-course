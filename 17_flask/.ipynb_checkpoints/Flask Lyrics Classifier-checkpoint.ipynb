{
 "metadata": {
  "name": "",
  "signature": "sha256:703f02ec00ca1be39e04d9b26be8e36992d434eb05750dfde43d4aeeef6f0ee2"
 },
 "nbformat": 3,
 "nbformat_minor": 0,
 "worksheets": [
  {
   "cells": [
    {
     "cell_type": "markdown",
     "metadata": {
      "slideshow": {
       "slide_type": "slide"
      }
     },
     "source": [
      "# Flask"
     ]
    },
    {
     "cell_type": "markdown",
     "metadata": {
      "slideshow": {
       "slide_type": "slide"
      }
     },
     "source": [
      "\n",
      "\n",
      "## Helpful Flask Resources\n",
      "\n",
      "[Flask Mega Tutorial](http://blog.miguelgrinberg.com/post/the-flask-mega-tutorial-part-i-hello-world): The agreed upon best way to learn flask in depth.\n",
      "\n",
      "[Explore Flask](https://exploreflask.com/index.html): A nice, free, Flask book\n",
      "\n",
      "[Open Tech School - Websites with Python Flask](http://opentechschool.github.io/python-flask/): Very basic and thorough db-free tutorial.\n",
      "\n",
      "[Host your app for free on Heroku -- Basic Setup](https://devcenter.heroku.com/articles/getting-started-with-python-o)\n",
      "\n",
      "[Flask Template](https://github.com/stormpython/insightfl):  Flask template by Shelby Sturgis\n",
      "\n",
      "[\"Has Job\", an open source job-board written in flask](https://github.com/hasgeek/hasjob) that you can take apart and put together. Uses the hasgeek [baseframe](https://github.com/hasgeek/baseframe)\n",
      "\n",
      "[Flask Admin Extension](https://github.com/mrjoes/flask-admin/)\n",
      "\n",
      "[Flask TDD](https://github.com/mjhea0/flaskr-tdd): Adds sqlalchemy and heroku deployment and jquery to flaskr."
     ]
    },
    {
     "cell_type": "markdown",
     "metadata": {
      "slideshow": {
       "slide_type": "slide"
      }
     },
     "source": [
      "# Why Flask?"
     ]
    },
    {
     "cell_type": "markdown",
     "metadata": {
      "slideshow": {
       "slide_type": "subslide"
      }
     },
     "source": [
      "### WSGI Environment\n",
      "\n",
      "WSGI is a protocol that ensures that a web application can speak to a webserver nicely.\n",
      "\n",
      "    def application(environ, start_response):\n",
      "    start_response('200 OK', [('Content-Type', 'text/plain')])\n",
      "    return ['Hello World!']\n",
      "    \n",
      "* *environ* contains any incoming information, also known as *request*\n",
      "* *start_response* indicates where to go to respond to the incoming data, also known as *response*"
     ]
    },
    {
     "cell_type": "markdown",
     "metadata": {
      "slideshow": {
       "slide_type": "subslide"
      }
     },
     "source": [
      "### HTTP Request Methods: GET vs POST\n",
      "\n",
      "Two commonly used methods for a request-response between a client and server are: GET and POST.\n",
      "\n",
      "* GET - Requests data from a specified resource\n",
      "* POST - Submits data to be processed to a specified resource\n",
      "\n",
      "#### GET\n",
      "Query strings are sent in the URL of a GET request:\n",
      "\n",
      "    /test/demo_form.asp?name1=value1&name2=value2\n",
      "\n",
      "Some other notes on GET requests:\n",
      "\n",
      "* GET requests can be cached\n",
      "* GET requests remain in the browser history\n",
      "* GET requests can be bookmarked\n",
      "* GET requests should never be used when dealing with sensitive data\n",
      "* GET requests have length restrictions\n",
      "* GET requests should be used only to retrieve data\n",
      "\n",
      "#### POST\n",
      "\n",
      "Note that query strings (name/value pairs) are sent in the HTTP message body of a POST request:\n",
      "\n",
      "    POST /test/demo_form.asp HTTP/1.1\n",
      "    Host: scaleanalytics.com\n",
      "    name1=value1&name2=value2\n",
      "\n",
      "Some other notes on POST requests:\n",
      "\n",
      "* POST requests are never cached\n",
      "* POST requests do not remain in the browser history\n",
      "* POST requests cannot be bookmarked\n",
      "* POST requests have no restrictions on data length\n",
      "\n"
     ]
    },
    {
     "cell_type": "markdown",
     "metadata": {
      "slideshow": {
       "slide_type": "subslide"
      }
     },
     "source": [
      "### Other HTTP Request Methods\n",
      "\n",
      "Method | Description\n",
      "------ | -----------\n",
      "HEAD |\tSame as GET but returns only HTTP headers and no document body\n",
      "PUT\t| Uploads a representation of the specified URI\n",
      "DELETE |\tDeletes the specified resource\n",
      "OPTIONS\t|Returns the HTTP methods that the server supports\n",
      "CONNECT\t|Converts the request connection to a transparent TCP/IP tunnel \n"
     ]
    },
    {
     "cell_type": "markdown",
     "metadata": {
      "slideshow": {
       "slide_type": "subslide"
      }
     },
     "source": [
      "### Werkzeug (WSGI)\n",
      "\n",
      "_Werk (\u201cwork\u201d) +\u200e Zeug (\u201cstuff\u201d)_\n",
      "\n",
      "    ![s](http://upload.wikimedia.org/wikipedia/commons/thumb/5/5b/Agarre_de_un_bifaz.png/220px-Agarre_de_un_bifaz.png)\n",
      "Werkzeug is the base of flask and features:\n",
      "\n",
      "* HTTP header parsing and dumping\n",
      "* Easy to use request and response objects\n",
      "* Interactive JavaScript based in-browser debugger\n",
      "* 100% WSGI 1.0 compatible\n",
      "* Supports Python 2.6, 2.7 and 3.3.\n",
      "* Unicode support\n",
      "* Basic session and signed cookie support\n",
      "* URI and IRI utilities with unicode awareness\n",
      "* builtin library of fixes for buggy WSGI servers and browsers\n",
      "* integrated routing system for matching URLs to endpoints and vice versa"
     ]
    },
    {
     "cell_type": "markdown",
     "metadata": {
      "slideshow": {
       "slide_type": "slide"
      }
     },
     "source": [
      "# Core Elements"
     ]
    },
    {
     "cell_type": "markdown",
     "metadata": {
      "slideshow": {
       "slide_type": "subslide"
      }
     },
     "source": [
      "## Flask \"Contexts\"\n",
      "\n",
      "There are two different 'states' in which code is executed.  The setup state, and the request handling state.\n",
      "\n",
      "### Application Context\n",
      "\n",
      "* g is the variable associated with the current application context  -- only programmer's commands can be executed here.\n",
      "* g can be used to safely store data\n",
      "\n",
      "\n",
      "### Request Context\n",
      "\n",
      "* In this context, the user's commands can be safely executed. "
     ]
    },
    {
     "cell_type": "markdown",
     "metadata": {
      "slideshow": {
       "slide_type": "subslide"
      }
     },
     "source": [
      "\n",
      "\n",
      "![](http://note.io/1yrig4y)\n",
      "\n",
      "* Decorators inject additional functionality into functions.\n",
      "* Decorators take a function as an argument, and return a replacement function"
     ]
    },
    {
     "cell_type": "markdown",
     "metadata": {
      "slideshow": {
       "slide_type": "subslide"
      }
     },
     "source": [
      "### Flask 'Views': Portions of the DataBase\n",
      "\n",
      "A view is like a virtual table -- a specific look at data that is shown to, or used by,  a user of a website.\n",
      "\n",
      "\n",
      "A view in database theory,is the result set of a stored query on the data, which the database users can query just as they would in a persistent database collection object. "
     ]
    },
    {
     "cell_type": "markdown",
     "metadata": {
      "slideshow": {
       "slide_type": "slide"
      }
     },
     "source": [
      "## Walk Through: Lyric Classifier"
     ]
    },
    {
     "cell_type": "markdown",
     "metadata": {
      "slideshow": {
       "slide_type": "subslide"
      }
     },
     "source": [
      "# Lyrics Classifier\n",
      "A Flask web application that provides an interface to enter lyrics and receive an artist prediction.\n",
      "\n",
      "```python\n",
      "\n",
      "# Standard imports\n",
      "import os\n",
      "import sqlite3\n",
      "\n",
      "# Flask imports\n",
      "from flask import Flask, request, g, redirect, url_for, render_template, flash\n",
      "\n",
      "# Import our classifier class\n",
      "from lyrics_classifier import LyricsClf\n",
      "\n",
      "# create the app as a global variable\n",
      "app = Flask(__name__)\n",
      "\n",
      "```"
     ]
    },
    {
     "cell_type": "markdown",
     "metadata": {
      "slideshow": {
       "slide_type": "slide"
      }
     },
     "source": [
      "## The App"
     ]
    },
    {
     "cell_type": "markdown",
     "metadata": {
      "slideshow": {
       "slide_type": "subslide"
      }
     },
     "source": [
      "![](http://note.io/10NsuBj)"
     ]
    },
    {
     "cell_type": "markdown",
     "metadata": {
      "slideshow": {
       "slide_type": "subslide"
      }
     },
     "source": [
      "![](http://note.io/10Ntipz)\n",
      "![](http://note.io/1AWzE6Q)\n",
      "![](http://note.io/1AWA911)"
     ]
    },
    {
     "cell_type": "markdown",
     "metadata": {
      "slideshow": {
       "slide_type": "subslide"
      }
     },
     "source": [
      "## Window into the classifier file\n",
      "![](http://note.io/1tzeuSC)"
     ]
    },
    {
     "cell_type": "markdown",
     "metadata": {
      "slideshow": {
       "slide_type": "subslide"
      }
     },
     "source": [
      "![](http://note.io/10Nu46d)"
     ]
    },
    {
     "cell_type": "markdown",
     "metadata": {
      "slideshow": {
       "slide_type": "slide"
      }
     },
     "source": [
      "# The Flask Library"
     ]
    },
    {
     "cell_type": "markdown",
     "metadata": {
      "slideshow": {
       "slide_type": "subslide"
      }
     },
     "source": [
      "## Application Code Setup\n",
      "\n",
      "\n",
      "`app = Flask(__name__)`\n",
      "\n",
      "The \"\\__name__\" let's python know you're referring to the name if the module, in this case its flaskr because this file is named flaskr.py.\n",
      "\n",
      "\n",
      "### app.config.from_object\n",
      "\n",
      "app.config.from_object(__name__)\n",
      "    \n",
      "Pulls in the configuration dictionary.  In this case, the dictionary is loaded from object \"name\", so from this file.\n",
      "\n",
      "### app.config.update\n",
      "\n",
      "`app.config.update` takes the app.config file that we just created\n",
      "\n",
      "\n",
      "    "
     ]
    },
    {
     "cell_type": "markdown",
     "metadata": {
      "slideshow": {
       "slide_type": "subslide"
      }
     },
     "source": [
      "## Configuration\n",
      "```python\n",
      "\n",
      "# Specify a basic configuration\n",
      "# (Remember that this step happens in the application context)\n",
      "app.config.update(dict(\n",
      "    DATABASE=os.path.join(app.root_path, 'lyrics.db'),\n",
      "    DEBUG=True,\n",
      "    SECRET_KEY='my super secret string',\n",
      "    CLF_PICKLE='classifier.p'\n",
      "))\n",
      "\n",
      "# Load our pickled classifier before servicing requests\n",
      "clf = LyricsClf(app.config['CLF_PICKLE'])\n",
      "\n",
      "```"
     ]
    },
    {
     "cell_type": "markdown",
     "metadata": {
      "slideshow": {
       "slide_type": "subslide"
      }
     },
     "source": [
      "## Database \n",
      "\n",
      "```python\n",
      "def connect_db():\n",
      "    \"\"\"Connects to the database defined in the application configuration.\n",
      "    Returns a sqlite3 object that allows rows to be manipulated as python\n",
      "    dictionaries.\n",
      "    \"\"\"\n",
      "    rv = sqlite3.connect(app.config['DATABASE'])\n",
      "    # allows a row to be accessed as a dictionary rather than a tuple.\n",
      "    rv.row_factory = sqlite3.Row\n",
      "    return rv\n",
      "# end of connect_db()\n",
      "\n",
      "def init_db():\n",
      "    \"\"\"Initialize the database from schema.sql.\n",
      "    This needs to be run once manually, or whenever the database table \n",
      "    should be dropped. This is not executed during online operation.\n",
      "    \"\"\"\n",
      "    # establish the application context\n",
      "    with app.app_context():\n",
      "        # Open a connection to the database\n",
      "        db = get_db()\n",
      "        # Open schema.sql\n",
      "        with app.open_resource('schema.sql','r') as f:\n",
      "            # Execute the commands in the schema file\n",
      "            db.cursor().executescript(f.read())\n",
      "        # Write changes to the database\n",
      "        db.commit()\n",
      "# end of init_db()\n",
      "\n",
      "\n",
      "\n",
      "```"
     ]
    },
    {
     "cell_type": "markdown",
     "metadata": {
      "slideshow": {
       "slide_type": "subslide"
      }
     },
     "source": [
      "## Database Schema\n",
      "\n",
      "```python\n",
      "named `schema.sql` in the just created `flaskr` folder:\n",
      "\n",
      "\n",
      "\n",
      "    drop table if exists entries;\n",
      "    create table entries (\n",
      "      id integer primary key autoincrement,\n",
      "      title text not null,\n",
      "      'text' text not null\n",
      "    );\n",
      "```"
     ]
    },
    {
     "cell_type": "markdown",
     "metadata": {
      "slideshow": {
       "slide_type": "slide"
      }
     },
     "source": [
      "## Views\n",
      "\n",
      "### Flask 'Views': Portions of the DataBase\n",
      "\n",
      "A view is like a virtual table -- a specific look at data that is shown to, or used by,  a user of a website.\n",
      "\n",
      "\n",
      "A view in database theory,is the result set of a stored query on the data, which the database users can query just as they would in a persistent database collection object. "
     ]
    },
    {
     "cell_type": "markdown",
     "metadata": {
      "slideshow": {
       "slide_type": "subslide"
      }
     },
     "source": [
      "### Views\n",
      "```python\n",
      "\n",
      "@app.route('/')\n",
      "def show_predictions():\n",
      "    \"\"\"Main view to display all lyric/artist predictions.\n",
      "    Returns them in descending order by id.\n",
      "    \"\"\"\n",
      "    db = get_db()\n",
      "    cur = db.execute('SELECT lyrics, artist FROM predictions ORDER BY id DESC')\n",
      "    predictions = cur.fetchall()\n",
      "    return render_template('show_predictions.html', predictions=predictions)\n",
      "# end of show_predictions()\n",
      "\n",
      "\n",
      "```"
     ]
    },
    {
     "cell_type": "markdown",
     "metadata": {
      "slideshow": {
       "slide_type": "subslide"
      }
     },
     "source": [
      "## Add Prediction\n",
      "\n",
      "```python\n",
      "\n",
      "@app.route('/add', methods=['POST'])\n",
      "def add_prediction():\n",
      "    \"\"\"Predicts an artist based on the lyrics posted in the form.\n",
      "    Finds the lyrics in the request object's form dictionary.\n",
      "    Calls our classifier's predictArtist routine to return an artist\n",
      "    name. Connects to the database and inserts the prediction.\n",
      "    Flashes a message that the prediction was posted. Redirects the\n",
      "    user from the /add endpoint back to the show_predictions endpoint.\n",
      "    \"\"\"\n",
      "    lyrics = request.form['lyrics']\n",
      "    \"\"\"\n",
      "    The step below is actually where our classifier gets run.\n",
      "    \"\"\"\n",
      "    ######################################\n",
      "    artistName = clf.predictArtist(lyrics)\n",
      "    ######################################\n",
      "    \"\"\"\n",
      "    Again, the code above is all of the 'datascience', everything else is WSGI and Jinja and SQL web stuff\n",
      "    \"\"\"\n",
      "```"
     ]
    },
    {
     "cell_type": "markdown",
     "metadata": {
      "slideshow": {
       "slide_type": "subslide"
      }
     },
     "source": [
      "## Feedback to the User\n",
      "\n",
      "```python\n",
      "    db = get_db()\n",
      "    # remember how we set our SQL driver to treat rows as dictionaries? win!\n",
      "    # note: question mark notation safer than string replacement\n",
      "    # helps to prevent SQLi attacks\n",
      "    db.execute('INSERT INTO predictions (lyrics, artist) values (?, ?)',\n",
      "        [lyrics, artistName])\n",
      "    # Note: question marks above are for safety and speed via 'parameterized queries'\n",
      "    db.commit()\n",
      "    flash('Prediction was successfully posted')\n",
      "    # another example where the framework is omnipotent: url_for()\n",
      "    return redirect(url_for('show_predictions'))\n",
      "# end of add_prediction()\n",
      "\n",
      "```"
     ]
    },
    {
     "cell_type": "markdown",
     "metadata": {
      "slideshow": {
       "slide_type": "slide"
      }
     },
     "source": [
      "## Templates"
     ]
    },
    {
     "cell_type": "markdown",
     "metadata": {
      "slideshow": {
       "slide_type": "subslide"
      }
     },
     "source": [
      "### Layout - The Parent\n",
      "```html\n",
      "<!doctype html>\n",
      "<head>\n",
      "<link href=\"//maxcdn.bootstrapcdn.com/bootswatch/3.3.0/yeti/bootstrap.min.css\"\n",
      "      rel=\"stylesheet\">\n",
      "\n",
      "{# Using a css via a cdn is a quick way to access\n",
      "the nice features from\n",
      "http://getbootstrap.com/css/\n",
      "\n",
      "Keep in mind that http is specified for local hosting, and\n",
      "otherwise just leave the http: off and go with //netd... etc.\n",
      "\n",
      "\n",
      "#}\n",
      "\n",
      "\n",
      "\n",
      "</head>\n",
      "<title>Artist Prediction</title>\n",
      "\n",
      "<div class=container>\n",
      "    <h1>Artist Prediction</h1>\n",
      "    <h3>Enter lyrics to predict the artist</h3>\n",
      "    {% for message in get_flashed_messages() %}\n",
      "        <div class=flash>{{ message }}</div>\n",
      "    {% endfor %}\n",
      "    {% block body %}{% endblock %}\n",
      "</div>\n",
      "~                                                                                                    \n",
      "~   \n",
      "```"
     ]
    },
    {
     "cell_type": "markdown",
     "metadata": {
      "slideshow": {
       "slide_type": "subslide"
      }
     },
     "source": [
      "### Show Prediction (The Child)\n",
      "\n",
      "```html\n",
      "\n",
      "{% extends \"layout.html\" %}\n",
      "{% block body %}\n",
      "    <form action=\"{{ url_for('add_prediction') }}\" method=post class=add-prediction>\n",
      "\n",
      "{#\n",
      "Note that the form action is set to the url for a function.\n",
      "\n",
      "That url is specified buy the route in lyricsapp.py as /add\n",
      "#}\n",
      "        <dl>\n",
      "            <dt>Lyrics:\n",
      "            <dd><textarea name=lyrics rows=5 cols=40></textarea>\n",
      "            <dd><input type=submit value=Predict>\n",
      "        </dl>\n",
      "        {# Note that the form returns via 'request.form' to flask the\n",
      "        key: \"lyrics\" and the associated value when the button is\n",
      "        clicked.   \n",
      "\n",
      "\n",
      "        #}\n",
      "    </form>\n",
      "    <ul class=predictions>\n",
      "    {% for prediction in predictions %}\n",
      "        <li><h3>{{ prediction.lyrics}}</h3>{{ prediction.artist|safe }}\n",
      "    {% else %}\n",
      "        <li><em>No predictions yet. Try it out!</em>\n",
      "    {% endfor %}\n",
      "    </ul>\n",
      "{% endblock %}\n",
      "\n",
      "\n",
      "```"
     ]
    },
    {
     "cell_type": "markdown",
     "metadata": {
      "slideshow": {
       "slide_type": "skip"
      }
     },
     "source": [
      "## Test Phrases"
     ]
    },
    {
     "cell_type": "markdown",
     "metadata": {
      "slideshow": {
       "slide_type": "skip"
      }
     },
     "source": [
      "* She comes on like a rose\n",
      "* poison\n",
      "* jumping jack\n",
      "* beast of burden\n",
      "* mephis\n",
      "* club\n",
      "* bad romance\n",
      "* ready for those flashing lights\n",
      "* I want your leather-studded kiss in the sand\n",
      "* fashion\n",
      "* let it be\n",
      "* hello\n",
      "* goodbye\n",
      "* diamonds\n",
      "* lucy in the sky"
     ]
    }
   ],
   "metadata": {}
  }
 ]
}