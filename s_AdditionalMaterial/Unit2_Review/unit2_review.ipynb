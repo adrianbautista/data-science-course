{
 "metadata": {
  "name": "",
  "signature": "sha256:876216070bb7ee994ab97668705dfaa8a6aaf3a15fc9b03fe8fa3db9808a755a"
 },
 "nbformat": 3,
 "nbformat_minor": 0,
 "worksheets": [
  {
   "cells": [
    {
     "cell_type": "code",
     "collapsed": false,
     "input": [
      "import pandas as pd\n",
      "import numpy as np\n",
      "\n",
      "from matplotlib import pyplot as plt\n",
      "\n",
      "pd.set_option('display.max_columns', 125)"
     ],
     "language": "python",
     "metadata": {},
     "outputs": [],
     "prompt_number": 1
    },
    {
     "cell_type": "code",
     "collapsed": false,
     "input": [
      "df = pd.read_csv('college-hoops.csv')"
     ],
     "language": "python",
     "metadata": {},
     "outputs": [],
     "prompt_number": 2
    },
    {
     "cell_type": "code",
     "collapsed": false,
     "input": [
      "df.head()"
     ],
     "language": "python",
     "metadata": {},
     "outputs": [
      {
       "html": [
        "<div style=\"max-height:1000px;max-width:1500px;overflow:auto;\">\n",
        "<table border=\"1\" class=\"dataframe\">\n",
        "  <thead>\n",
        "    <tr style=\"text-align: right;\">\n",
        "      <th></th>\n",
        "      <th>season</th>\n",
        "      <th>Team</th>\n",
        "      <th>G</th>\n",
        "      <th>W</th>\n",
        "      <th>L</th>\n",
        "      <th>Win%</th>\n",
        "      <th>SRS</th>\n",
        "      <th>SOS</th>\n",
        "      <th>PtsFor</th>\n",
        "      <th>PtsAgainst</th>\n",
        "      <th>FG</th>\n",
        "      <th>FGA</th>\n",
        "      <th>FG%</th>\n",
        "      <th>3P</th>\n",
        "      <th>3PA</th>\n",
        "      <th>3P%</th>\n",
        "      <th>FT</th>\n",
        "      <th>FTA</th>\n",
        "      <th>FT%</th>\n",
        "      <th>ORB</th>\n",
        "      <th>TRB</th>\n",
        "      <th>AST</th>\n",
        "      <th>STL</th>\n",
        "      <th>BLK</th>\n",
        "      <th>TOV</th>\n",
        "      <th>PF</th>\n",
        "      <th>Win%NextYr</th>\n",
        "    </tr>\n",
        "  </thead>\n",
        "  <tbody>\n",
        "    <tr>\n",
        "      <th>0</th>\n",
        "      <td> 2011</td>\n",
        "      <td>          Air Force</td>\n",
        "      <td> 32</td>\n",
        "      <td> 16</td>\n",
        "      <td> 16</td>\n",
        "      <td> 0.500</td>\n",
        "      <td>  2.71</td>\n",
        "      <td>  3.31</td>\n",
        "      <td> 2074</td>\n",
        "      <td> 2082</td>\n",
        "      <td> 722</td>\n",
        "      <td> 1532</td>\n",
        "      <td> 0.471</td>\n",
        "      <td> 212</td>\n",
        "      <td> 563</td>\n",
        "      <td> 0.377</td>\n",
        "      <td> 418</td>\n",
        "      <td> 593</td>\n",
        "      <td> 0.705</td>\n",
        "      <td> 187</td>\n",
        "      <td>  921</td>\n",
        "      <td> 494</td>\n",
        "      <td> 200</td>\n",
        "      <td>  83</td>\n",
        "      <td> 385</td>\n",
        "      <td> 563</td>\n",
        "      <td> 0.448</td>\n",
        "    </tr>\n",
        "    <tr>\n",
        "      <th>1</th>\n",
        "      <td> 2011</td>\n",
        "      <td>              Akron</td>\n",
        "      <td> 36</td>\n",
        "      <td> 23</td>\n",
        "      <td> 13</td>\n",
        "      <td> 0.639</td>\n",
        "      <td>  2.15</td>\n",
        "      <td> -1.02</td>\n",
        "      <td> 2524</td>\n",
        "      <td> 2365</td>\n",
        "      <td> 892</td>\n",
        "      <td> 2073</td>\n",
        "      <td> 0.430</td>\n",
        "      <td> 283</td>\n",
        "      <td> 785</td>\n",
        "      <td> 0.361</td>\n",
        "      <td> 457</td>\n",
        "      <td> 649</td>\n",
        "      <td> 0.704</td>\n",
        "      <td> 363</td>\n",
        "      <td> 1237</td>\n",
        "      <td> 520</td>\n",
        "      <td> 240</td>\n",
        "      <td> 129</td>\n",
        "      <td> 432</td>\n",
        "      <td> 692</td>\n",
        "      <td> 0.647</td>\n",
        "    </tr>\n",
        "    <tr>\n",
        "      <th>2</th>\n",
        "      <td> 2011</td>\n",
        "      <td>        Alabama A&amp;M</td>\n",
        "      <td> 28</td>\n",
        "      <td> 13</td>\n",
        "      <td> 15</td>\n",
        "      <td> 0.464</td>\n",
        "      <td>-15.19</td>\n",
        "      <td>-11.75</td>\n",
        "      <td> 1808</td>\n",
        "      <td> 1870</td>\n",
        "      <td> 633</td>\n",
        "      <td> 1598</td>\n",
        "      <td> 0.396</td>\n",
        "      <td> 125</td>\n",
        "      <td> 434</td>\n",
        "      <td> 0.288</td>\n",
        "      <td> 417</td>\n",
        "      <td> 668</td>\n",
        "      <td> 0.624</td>\n",
        "      <td> 345</td>\n",
        "      <td> 1058</td>\n",
        "      <td> 339</td>\n",
        "      <td> 233</td>\n",
        "      <td> 151</td>\n",
        "      <td> 443</td>\n",
        "      <td> 562</td>\n",
        "      <td> 0.250</td>\n",
        "    </tr>\n",
        "    <tr>\n",
        "      <th>3</th>\n",
        "      <td> 2011</td>\n",
        "      <td> Alabama-Birmingham</td>\n",
        "      <td> 31</td>\n",
        "      <td> 22</td>\n",
        "      <td>  9</td>\n",
        "      <td> 0.710</td>\n",
        "      <td>  8.55</td>\n",
        "      <td>  2.78</td>\n",
        "      <td> 2119</td>\n",
        "      <td> 1940</td>\n",
        "      <td> 756</td>\n",
        "      <td> 1725</td>\n",
        "      <td> 0.438</td>\n",
        "      <td> 239</td>\n",
        "      <td> 698</td>\n",
        "      <td> 0.342</td>\n",
        "      <td> 368</td>\n",
        "      <td> 513</td>\n",
        "      <td> 0.717</td>\n",
        "      <td> 352</td>\n",
        "      <td> 1109</td>\n",
        "      <td> 420</td>\n",
        "      <td> 164</td>\n",
        "      <td>  97</td>\n",
        "      <td> 387</td>\n",
        "      <td> 514</td>\n",
        "      <td> 0.484</td>\n",
        "    </tr>\n",
        "    <tr>\n",
        "      <th>4</th>\n",
        "      <td> 2011</td>\n",
        "      <td>      Alabama State</td>\n",
        "      <td> 35</td>\n",
        "      <td> 17</td>\n",
        "      <td> 18</td>\n",
        "      <td> 0.486</td>\n",
        "      <td>-13.37</td>\n",
        "      <td>-10.31</td>\n",
        "      <td> 2146</td>\n",
        "      <td> 2234</td>\n",
        "      <td> 728</td>\n",
        "      <td> 1841</td>\n",
        "      <td> 0.395</td>\n",
        "      <td> 165</td>\n",
        "      <td> 583</td>\n",
        "      <td> 0.283</td>\n",
        "      <td> 525</td>\n",
        "      <td> 870</td>\n",
        "      <td> 0.603</td>\n",
        "      <td> 459</td>\n",
        "      <td> 1268</td>\n",
        "      <td> 404</td>\n",
        "      <td> 255</td>\n",
        "      <td> 163</td>\n",
        "      <td> 547</td>\n",
        "      <td> 777</td>\n",
        "      <td> 0.387</td>\n",
        "    </tr>\n",
        "  </tbody>\n",
        "</table>\n",
        "</div>"
       ],
       "metadata": {},
       "output_type": "pyout",
       "prompt_number": 3,
       "text": [
        "   season                Team   G   W   L   Win%    SRS    SOS  PtsFor  \\\n",
        "0    2011           Air Force  32  16  16  0.500   2.71   3.31    2074   \n",
        "1    2011               Akron  36  23  13  0.639   2.15  -1.02    2524   \n",
        "2    2011         Alabama A&M  28  13  15  0.464 -15.19 -11.75    1808   \n",
        "3    2011  Alabama-Birmingham  31  22   9  0.710   8.55   2.78    2119   \n",
        "4    2011       Alabama State  35  17  18  0.486 -13.37 -10.31    2146   \n",
        "\n",
        "   PtsAgainst   FG   FGA    FG%   3P  3PA    3P%   FT  FTA    FT%  ORB   TRB  \\\n",
        "0        2082  722  1532  0.471  212  563  0.377  418  593  0.705  187   921   \n",
        "1        2365  892  2073  0.430  283  785  0.361  457  649  0.704  363  1237   \n",
        "2        1870  633  1598  0.396  125  434  0.288  417  668  0.624  345  1058   \n",
        "3        1940  756  1725  0.438  239  698  0.342  368  513  0.717  352  1109   \n",
        "4        2234  728  1841  0.395  165  583  0.283  525  870  0.603  459  1268   \n",
        "\n",
        "   AST  STL  BLK  TOV   PF  Win%NextYr  \n",
        "0  494  200   83  385  563       0.448  \n",
        "1  520  240  129  432  692       0.647  \n",
        "2  339  233  151  443  562       0.250  \n",
        "3  420  164   97  387  514       0.484  \n",
        "4  404  255  163  547  777       0.387  "
       ]
      }
     ],
     "prompt_number": 3
    },
    {
     "cell_type": "code",
     "collapsed": false,
     "input": [
      "df['WinnerNextYr'] = df['Win%NextYr'] > 0.500"
     ],
     "language": "python",
     "metadata": {},
     "outputs": [],
     "prompt_number": 140
    },
    {
     "cell_type": "code",
     "collapsed": false,
     "input": [
      "df[['Win%NextYr', 'WinnerNextYr']].hist()"
     ],
     "language": "python",
     "metadata": {},
     "outputs": [
      {
       "metadata": {},
       "output_type": "pyout",
       "prompt_number": 144,
       "text": [
        "array([[<matplotlib.axes.AxesSubplot object at 0x7f029a5e1fd0>,\n",
        "        <matplotlib.axes.AxesSubplot object at 0x7f0298bc2050>]], dtype=object)"
       ]
      },
      {
       "metadata": {},
       "output_type": "display_data",
       "png": "[encoded data removed]",
       "text": [
        "<matplotlib.figure.Figure at 0x7f029ac4f5d0>"
       ]
      }
     ],
     "prompt_number": 144
    },
    {
     "cell_type": "markdown",
     "metadata": {},
     "source": [
      "## Continuous Target: to predict a team's Win% based on its performance the previous year"
     ]
    },
    {
     "cell_type": "markdown",
     "metadata": {},
     "source": [
      "## Classifier Target: to predict whether a team will have a winning season based on its performance the previous year"
     ]
    },
    {
     "cell_type": "code",
     "collapsed": true,
     "input": [
      "plt.scatter(df[df.season < 2014]['Win%'], df[df.season < 2014]['Win%NextYr'])"
     ],
     "language": "python",
     "metadata": {},
     "outputs": [
      {
       "metadata": {},
       "output_type": "pyout",
       "prompt_number": 124,
       "text": [
        "<matplotlib.collections.PathCollection at 0x7f029c2a65d0>"
       ]
      },
      {
       "metadata": {},
       "output_type": "display_data",
       "png": "[encoded data removed]",
       "text": [
        "<matplotlib.figure.Figure at 0x7f029c332810>"
       ]
      }
     ],
     "prompt_number": 124
    },
    {
     "cell_type": "markdown",
     "metadata": {},
     "source": [
      "### Feature Selection"
     ]
    },
    {
     "cell_type": "code",
     "collapsed": false,
     "input": [
      "## Create new column (Points Differential Per Game)\n",
      "df['PtsDiffPG'] = (df.PtsFor - df.PtsAgainst)/df.G"
     ],
     "language": "python",
     "metadata": {},
     "outputs": [],
     "prompt_number": 4
    },
    {
     "cell_type": "code",
     "collapsed": false,
     "input": [
      "## Potential columns to use (based on common/specialized knowledge)\n",
      "col = ['Win%', 'SRS', 'PtsDiffPG', 'FG%', 'FT%', 'TRB', 'AST', 'STL', 'BLK', 'TOV', 'PF']"
     ],
     "language": "python",
     "metadata": {},
     "outputs": [],
     "prompt_number": 71
    },
    {
     "cell_type": "code",
     "collapsed": false,
     "input": [
      "from sklearn.feature_selection import f_regression "
     ],
     "language": "python",
     "metadata": {},
     "outputs": [],
     "prompt_number": 6
    },
    {
     "cell_type": "code",
     "collapsed": false,
     "input": [
      "X = df[col]\n",
      "y = df['Win%NextYr']"
     ],
     "language": "python",
     "metadata": {},
     "outputs": [],
     "prompt_number": 7
    },
    {
     "cell_type": "code",
     "collapsed": false,
     "input": [
      "Fvals, pvals = f_regression(X,y)"
     ],
     "language": "python",
     "metadata": {},
     "outputs": [],
     "prompt_number": 8
    },
    {
     "cell_type": "code",
     "collapsed": false,
     "input": [
      "pd.DataFrame(zip(col, pvals), columns=['feature', 'pval']).sort('pval')"
     ],
     "language": "python",
     "metadata": {},
     "outputs": [
      {
       "html": [
        "<div style=\"max-height:1000px;max-width:1500px;overflow:auto;\">\n",
        "<table border=\"1\" class=\"dataframe\">\n",
        "  <thead>\n",
        "    <tr style=\"text-align: right;\">\n",
        "      <th></th>\n",
        "      <th>feature</th>\n",
        "      <th>pval</th>\n",
        "    </tr>\n",
        "  </thead>\n",
        "  <tbody>\n",
        "    <tr>\n",
        "      <th>1 </th>\n",
        "      <td>       SRS</td>\n",
        "      <td> 7.315690e-29</td>\n",
        "    </tr>\n",
        "    <tr>\n",
        "      <th>2 </th>\n",
        "      <td> PtsDiffPG</td>\n",
        "      <td> 9.382222e-29</td>\n",
        "    </tr>\n",
        "    <tr>\n",
        "      <th>0 </th>\n",
        "      <td>      Win%</td>\n",
        "      <td> 1.002859e-26</td>\n",
        "    </tr>\n",
        "    <tr>\n",
        "      <th>8 </th>\n",
        "      <td>       AST</td>\n",
        "      <td> 1.367085e-17</td>\n",
        "    </tr>\n",
        "    <tr>\n",
        "      <th>11</th>\n",
        "      <td>       TOV</td>\n",
        "      <td> 1.117923e-16</td>\n",
        "    </tr>\n",
        "    <tr>\n",
        "      <th>9 </th>\n",
        "      <td>       STL</td>\n",
        "      <td> 9.488423e-15</td>\n",
        "    </tr>\n",
        "    <tr>\n",
        "      <th>7 </th>\n",
        "      <td>       TRB</td>\n",
        "      <td> 1.280145e-09</td>\n",
        "    </tr>\n",
        "    <tr>\n",
        "      <th>12</th>\n",
        "      <td>        PF</td>\n",
        "      <td> 4.005884e-07</td>\n",
        "    </tr>\n",
        "    <tr>\n",
        "      <th>6 </th>\n",
        "      <td>       ORB</td>\n",
        "      <td> 4.419534e-06</td>\n",
        "    </tr>\n",
        "    <tr>\n",
        "      <th>3 </th>\n",
        "      <td>       FG%</td>\n",
        "      <td> 8.004042e-05</td>\n",
        "    </tr>\n",
        "    <tr>\n",
        "      <th>4 </th>\n",
        "      <td>       3P%</td>\n",
        "      <td> 6.929985e-04</td>\n",
        "    </tr>\n",
        "    <tr>\n",
        "      <th>10</th>\n",
        "      <td>       BLK</td>\n",
        "      <td> 2.950238e-03</td>\n",
        "    </tr>\n",
        "    <tr>\n",
        "      <th>5 </th>\n",
        "      <td>       FT%</td>\n",
        "      <td> 5.816293e-02</td>\n",
        "    </tr>\n",
        "  </tbody>\n",
        "</table>\n",
        "</div>"
       ],
       "metadata": {},
       "output_type": "pyout",
       "prompt_number": 9,
       "text": [
        "      feature          pval\n",
        "1         SRS  7.315690e-29\n",
        "2   PtsDiffPG  9.382222e-29\n",
        "0        Win%  1.002859e-26\n",
        "8         AST  1.367085e-17\n",
        "11        TOV  1.117923e-16\n",
        "9         STL  9.488423e-15\n",
        "7         TRB  1.280145e-09\n",
        "12         PF  4.005884e-07\n",
        "6         ORB  4.419534e-06\n",
        "3         FG%  8.004042e-05\n",
        "4         3P%  6.929985e-04\n",
        "10        BLK  2.950238e-03\n",
        "5         FT%  5.816293e-02"
       ]
      }
     ],
     "prompt_number": 9
    },
    {
     "cell_type": "code",
     "collapsed": false,
     "input": [
      "## Train-Test-Split"
     ],
     "language": "python",
     "metadata": {},
     "outputs": []
    },
    {
     "cell_type": "code",
     "collapsed": false,
     "input": [
      "from sklearn.cross_validation import train_test_split"
     ],
     "language": "python",
     "metadata": {},
     "outputs": [],
     "prompt_number": 148
    },
    {
     "cell_type": "code",
     "collapsed": false,
     "input": [
      "train_test_split?"
     ],
     "language": "python",
     "metadata": {},
     "outputs": [],
     "prompt_number": 187
    },
    {
     "cell_type": "code",
     "collapsed": false,
     "input": [
      "Xtrain, Xtest, ytrain, ytest = train_test_split(X,y, test_size=0.3)\n",
      "\n",
      "print Xtrain.shape\n",
      "print ytrain.shape\n",
      "print Xtest.shape\n",
      "print ytest.shape"
     ],
     "language": "python",
     "metadata": {},
     "outputs": [
      {
       "output_type": "stream",
       "stream": "stdout",
       "text": [
        "(969, 24)\n",
        "(969,)\n",
        "(416, 24)\n",
        "(416,)\n"
       ]
      }
     ],
     "prompt_number": 189
    },
    {
     "cell_type": "code",
     "collapsed": false,
     "input": [],
     "language": "python",
     "metadata": {},
     "outputs": []
    },
    {
     "cell_type": "code",
     "collapsed": false,
     "input": [
      "## Algorithm Selection"
     ],
     "language": "python",
     "metadata": {},
     "outputs": []
    },
    {
     "cell_type": "markdown",
     "metadata": {},
     "source": [
      "<img src='http://scikit-learn.org/stable/_static/ml_map.png'>"
     ]
    },
    {
     "cell_type": "code",
     "collapsed": false,
     "input": [
      "#Arun's slide....\n",
      "\n",
      "# Linear Regression\n",
      "# Logistic Regression\n",
      "# Naive Bayes\n",
      "# Random Forest\n",
      "# KNN\n",
      "# K-Means"
     ],
     "language": "python",
     "metadata": {},
     "outputs": []
    },
    {
     "cell_type": "code",
     "collapsed": false,
     "input": [],
     "language": "python",
     "metadata": {},
     "outputs": []
    },
    {
     "cell_type": "code",
     "collapsed": false,
     "input": [],
     "language": "python",
     "metadata": {},
     "outputs": []
    },
    {
     "cell_type": "code",
     "collapsed": false,
     "input": [],
     "language": "python",
     "metadata": {},
     "outputs": []
    },
    {
     "cell_type": "code",
     "collapsed": false,
     "input": [
      "## We're Picking: Linear Regression (and we'll toy with a RFRegressor)"
     ],
     "language": "python",
     "metadata": {},
     "outputs": []
    },
    {
     "cell_type": "markdown",
     "metadata": {},
     "source": [
      "## Scoring and Cross-Validating Your Model"
     ]
    },
    {
     "cell_type": "markdown",
     "metadata": {},
     "source": [
      "### Continuous Predictions"
     ]
    },
    {
     "cell_type": "code",
     "collapsed": false,
     "input": [
      "from sklearn.linear_model import LinearRegression\n",
      "from sklearn.ensemble import RandomForestRegressor"
     ],
     "language": "python",
     "metadata": {},
     "outputs": [],
     "prompt_number": 147
    },
    {
     "cell_type": "code",
     "collapsed": false,
     "input": [
      "#### R^2"
     ],
     "language": "python",
     "metadata": {},
     "outputs": [],
     "prompt_number": 115
    },
    {
     "cell_type": "code",
     "collapsed": false,
     "input": [
      "lin = LinearRegression()\n",
      "lin.fit(Xtrain,ytrain)\n",
      "print 'Train: ', lin.score(Xtrain,ytrain)\n",
      "print 'Test: ', lin.score(Xtest, ytest)"
     ],
     "language": "python",
     "metadata": {},
     "outputs": [
      {
       "output_type": "stream",
       "stream": "stdout",
       "text": [
        "Train:  0.43469364033\n",
        "Test:  0.340615474011\n"
       ]
      }
     ],
     "prompt_number": 198
    },
    {
     "cell_type": "code",
     "collapsed": true,
     "input": [
      "rfreg = RandomForestRegressor(random_state=415)\n",
      "rfreg.fit(Xtrain,ytrain)\n",
      "print 'Train: ', rfreg.score(Xtrain,ytrain)\n",
      "print 'Test: ', rfreg.score(Xtest, ytest)"
     ],
     "language": "python",
     "metadata": {},
     "outputs": [
      {
       "output_type": "stream",
       "stream": "stdout",
       "text": [
        "Train:  0.867210465106\n",
        "Test:  0.131268295842\n"
       ]
      }
     ],
     "prompt_number": 195
    },
    {
     "cell_type": "code",
     "collapsed": false,
     "input": [
      "#### MAE/MSE"
     ],
     "language": "python",
     "metadata": {},
     "outputs": []
    },
    {
     "cell_type": "code",
     "collapsed": false,
     "input": [
      "from sklearn import metrics\n",
      "from sklearn.cross_validation import cross_val_score, LeaveOneOut\n",
      "from scipy.stats import sem"
     ],
     "language": "python",
     "metadata": {},
     "outputs": [],
     "prompt_number": 256
    },
    {
     "cell_type": "code",
     "collapsed": false,
     "input": [
      "def eval_model(model,X,y, loops= 500):\n",
      "    MAE_train = []\n",
      "    MSE_train = []\n",
      "    score_train = []\n",
      "    MAE_test = []\n",
      "    MSE_test = []\n",
      "    score_test = []\n",
      "    for i in range(loops):\n",
      "        #train\n",
      "        X_train, X_test, y_train, y_test = train_test_split(X,y)\n",
      "        model.fit(X_train, y_train)\n",
      "        y_pred_train = model.predict(X_train)\n",
      "        MAE_train.append(metrics.mean_absolute_error(y_train,y_pred_train))\n",
      "        MSE_train.append(metrics.mean_squared_error(y_train,y_pred_train))\n",
      "        score_train.append(model.score(X_train, y_train))\n",
      "        #test\n",
      "        y_pred_test = model.predict(X_test)\n",
      "        MAE_test.append(metrics.mean_absolute_error(y_test,y_pred_test))\n",
      "        MSE_test.append(metrics.mean_squared_error(y_test,y_pred_test))\n",
      "        score_test.append(model.score(X_test, y_test))\n",
      "    ret = {}\n",
      "    ret['train_mae'] = \"%0.3f\" % np.average(MAE_train)\n",
      "    ret['train_mse'] = \"%0.3f\" % np.average(MSE_train)\n",
      "    ret['train_score'] = \"%0.3f\" % np.average(score_train)\n",
      "    ret['test_mae'] = \"%0.3f\" % np.average(MAE_test)\n",
      "    ret['test_mse'] = \"%0.3f\" % np.average(MSE_test)\n",
      "    ret['test_score'] = \"%0.3f\" % np.average(score_test)\n",
      "    return ret"
     ],
     "language": "python",
     "metadata": {},
     "outputs": [],
     "prompt_number": 257
    },
    {
     "cell_type": "code",
     "collapsed": false,
     "input": [
      "eval_model(lin, X,y)"
     ],
     "language": "python",
     "metadata": {},
     "outputs": [
      {
       "metadata": {},
       "output_type": "pyout",
       "prompt_number": 258,
       "text": [
        "{'test_mae': '0.173',\n",
        " 'test_mse': '0.044',\n",
        " 'test_score': '0.384',\n",
        " 'train_mae': '0.169',\n",
        " 'train_mse': '0.042',\n",
        " 'train_score': '0.415'}"
       ]
      }
     ],
     "prompt_number": 258
    },
    {
     "cell_type": "code",
     "collapsed": false,
     "input": [],
     "language": "python",
     "metadata": {},
     "outputs": []
    },
    {
     "cell_type": "code",
     "collapsed": false,
     "input": [],
     "language": "python",
     "metadata": {},
     "outputs": []
    },
    {
     "cell_type": "markdown",
     "metadata": {},
     "source": [
      "### Classification Predictions"
     ]
    },
    {
     "cell_type": "code",
     "collapsed": false,
     "input": [
      "from sklearn.linear_model import LogisticRegression"
     ],
     "language": "python",
     "metadata": {},
     "outputs": [],
     "prompt_number": 244
    },
    {
     "cell_type": "code",
     "collapsed": false,
     "input": [
      "# Same X values, different (binary) y\n",
      "logXtrain, logXtest, logytrain, logytest = train_test_split(X,df['WinnerNextYr'], test_size=0.3)\n",
      "\n",
      "print logXtrain.shape\n",
      "print logytrain.shape\n",
      "print logXtest.shape\n",
      "print logytest.shape"
     ],
     "language": "python",
     "metadata": {},
     "outputs": [
      {
       "output_type": "stream",
       "stream": "stdout",
       "text": [
        "(969, 24)\n",
        "(969,)\n",
        "(416, 24)\n",
        "(416,)\n"
       ]
      }
     ],
     "prompt_number": 247
    },
    {
     "cell_type": "code",
     "collapsed": false,
     "input": [
      "log = LogisticRegression()\n",
      "log.fit(logXtrain, logytrain)\n",
      "print 'Train: ', log.score(logXtrain, logytrain)\n",
      "print 'Test: ', log.score(logXtest, logytest)"
     ],
     "language": "python",
     "metadata": {},
     "outputs": [
      {
       "output_type": "stream",
       "stream": "stdout",
       "text": [
        "Train:  0.748194014448\n",
        "Test:  0.713942307692\n"
       ]
      }
     ],
     "prompt_number": 250
    },
    {
     "cell_type": "code",
     "collapsed": false,
     "input": [],
     "language": "python",
     "metadata": {},
     "outputs": []
    },
    {
     "cell_type": "code",
     "collapsed": false,
     "input": [
      "## Leave-One-Out Cross-Validation"
     ],
     "language": "python",
     "metadata": {},
     "outputs": []
    },
    {
     "cell_type": "code",
     "collapsed": false,
     "input": [
      "def loo_cv(X_train,y_train,clf):\n",
      "    loo = LeaveOneOut(X_train[:].shape[0])\n",
      "    scores=np.zeros(X_train[:].shape[0])\n",
      "    for train_index,test_index in loo:\n",
      "        X_train_cv, X_test_cv= X_train[train_index], X_train[test_index]\n",
      "        y_train_cv, y_test_cv= y_train[train_index], y_train[test_index]\n",
      "        clf = clf.fit(X_train_cv,y_train_cv)\n",
      "        y_pred=clf.predict(X_test_cv)\n",
      "        scores[test_index]=metrics.accuracy_score(y_test_cv.astype(int), y_pred.astype(int))\n",
      "    print (\"Mean score: {0:.3f} (+/-{1:.3f})\").format(np.mean(scores), sem(scores))\n",
      "\n",
      "### Can you KFolds for much larger datasets"
     ],
     "language": "python",
     "metadata": {},
     "outputs": [],
     "prompt_number": 259
    },
    {
     "cell_type": "code",
     "collapsed": false,
     "input": [
      "loo_cv(logXtrain, logytrain, log)"
     ],
     "language": "python",
     "metadata": {},
     "outputs": [
      {
       "output_type": "stream",
       "stream": "stdout",
       "text": [
        "Mean score: 0.740 (+/-0.014)\n"
       ]
      }
     ],
     "prompt_number": 260
    },
    {
     "cell_type": "code",
     "collapsed": false,
     "input": [],
     "language": "python",
     "metadata": {},
     "outputs": []
    },
    {
     "cell_type": "code",
     "collapsed": false,
     "input": [],
     "language": "python",
     "metadata": {},
     "outputs": []
    },
    {
     "cell_type": "code",
     "collapsed": false,
     "input": [
      "#### Confusion Matrix and AUC"
     ],
     "language": "python",
     "metadata": {},
     "outputs": []
    },
    {
     "cell_type": "code",
     "collapsed": false,
     "input": [
      "def measure_performance(X,y,clf, show_accuracy=True, show_classification_report=True, show_confusion_matrix=True):\n",
      "    y_pred=clf.predict(X)   \n",
      "    if show_accuracy:\n",
      "        print \"Accuracy:{0:.3f}\".format(metrics.accuracy_score(y,y_pred)),\"\\n\"\n",
      "\n",
      "    if show_classification_report:\n",
      "        print \"Classification report\"\n",
      "        print metrics.classification_report(y,y_pred),\"\\n\"\n",
      "        \n",
      "    if show_confusion_matrix:\n",
      "        print \"Confusion matrix\"\n",
      "        print metrics.confusion_matrix(y,y_pred),\"\\n\"\n",
      "        \n",
      "measure_performance(logXtrain,logytrain,log, show_classification_report=True, show_confusion_matrix=True)"
     ],
     "language": "python",
     "metadata": {},
     "outputs": [
      {
       "output_type": "stream",
       "stream": "stdout",
       "text": [
        "Accuracy:0.748 \n",
        "\n",
        "Classification report\n",
        "             precision    recall  f1-score   support\n",
        "\n",
        "      False       0.77      0.84      0.80       595\n",
        "       True       0.70      0.61      0.65       374\n",
        "\n",
        "avg / total       0.74      0.75      0.74       969\n",
        "\n",
        "\n",
        "Confusion matrix\n",
        "[[497  98]\n",
        " [146 228]] \n",
        "\n"
       ]
      }
     ],
     "prompt_number": 261
    },
    {
     "cell_type": "code",
     "collapsed": false,
     "input": [
      "# Precision is how many of the predicted true values were actually true.\n",
      "# Recall is how many of the actual true values were predicted to be true."
     ],
     "language": "python",
     "metadata": {},
     "outputs": []
    },
    {
     "cell_type": "markdown",
     "metadata": {},
     "source": [
      "<img src='https://raw.githubusercontent.com/datadave/GADS9-NYC-Spring2014-Lectures/master/lessons/lesson09_decision_trees_random_forests/confusion_matrix.png'>"
     ]
    },
    {
     "cell_type": "markdown",
     "metadata": {},
     "source": [
      "#### What are some cases where we may be more interested in precision than recall? Vice-versa?"
     ]
    },
    {
     "cell_type": "code",
     "collapsed": false,
     "input": [],
     "language": "python",
     "metadata": {},
     "outputs": [],
     "prompt_number": 267
    },
    {
     "cell_type": "code",
     "collapsed": false,
     "input": [],
     "language": "python",
     "metadata": {},
     "outputs": []
    },
    {
     "cell_type": "code",
     "collapsed": false,
     "input": [
      "# Syntax for roc_curve is roc_curve(actual, prediction, [pos_label if it's not 1])\n",
      "predictions = [p[1] for p in log.predict_proba(Xtrain)]\n",
      "fpr_p, tpr_p, thresholds_p = metrics.roc_curve(ytrain,predictions)\n",
      "\n",
      "fig = plt.figure()\n",
      "fig.set_figwidth(10)\n",
      "fig.suptitle('AUC for Logistic Regression Classifier Predicting Winning Seasons')\n",
      "\n",
      "ax1 = plt.subplot(1, 2, 1)\n",
      "ax1.set_xlabel('false positive rate')\n",
      "ax1.set_ylabel('true positive rate')\n",
      "ax1.plot(fpr_p, tpr_p)\n",
      "\n",
      "fpr, tpr, thresholds = metrics.roc_curve(ytrain,log.predict(Xtrain))\n",
      "ax2 = plt.subplot(1, 2, 2)\n",
      "ax2.set_xlabel('false positive rate')\n",
      "ax2.set_ylabel('true positive rate')\n",
      "ax2.plot(fpr, tpr)\n",
      "\n",
      "\n",
      "print \"False-positive rate:\", fpr\n",
      "print \"True-positive rate: \", tpr\n",
      "print \"Thresholds:         \", thresholds\n",
      "\n",
      "print fig"
     ],
     "language": "python",
     "metadata": {},
     "outputs": [
      {
       "output_type": "stream",
       "stream": "stdout",
       "text": [
        "False-positive rate: [ 0.          0.18212479  1.        ]\n",
        "True-positive rate:  [ 0.          0.60904255  1.        ]\n",
        "Thresholds:          [2 1 0]\n",
        "Figure(800x320)\n"
       ]
      },
      {
       "metadata": {},
       "output_type": "display_data",
       "png": "[encoded data removed]",
       "text": [
        "<matplotlib.figure.Figure at 0x7f0294648c50>"
       ]
      }
     ],
     "prompt_number": 265
    },
    {
     "cell_type": "code",
     "collapsed": false,
     "input": [],
     "language": "python",
     "metadata": {},
     "outputs": []
    },
    {
     "cell_type": "code",
     "collapsed": false,
     "input": [],
     "language": "python",
     "metadata": {},
     "outputs": []
    },
    {
     "cell_type": "code",
     "collapsed": false,
     "input": [],
     "language": "python",
     "metadata": {},
     "outputs": []
    },
    {
     "cell_type": "code",
     "collapsed": false,
     "input": [],
     "language": "python",
     "metadata": {},
     "outputs": []
    },
    {
     "cell_type": "code",
     "collapsed": false,
     "input": [
      "## Programmatic Feature Selection "
     ],
     "language": "python",
     "metadata": {},
     "outputs": []
    },
    {
     "cell_type": "code",
     "collapsed": true,
     "input": [
      "# Proof of Concept, not completed for actual use\n",
      "def find_best_features(X, y, all_features):\n",
      "    all_fit = rfreg.fit(X, y)\n",
      "    all_fit_score = all_fit.score(X,y)\n",
      "    print 'Initial Features: ', all_features\n",
      "    print 'Initial Score: ', all_fit_score\n",
      "    test_scores = []\n",
      "    if len(all_features) == 1: \n",
      "        print 'Best fit: ', all_features, ': ', all_fit_score\n",
      "    else:\n",
      "        for i in range(len(all_features)):\n",
      "            ftrs = list(all_features)\n",
      "            ftrs.pop(i)\n",
      "            testmodel = rfreg.fit(X.loc[:,ftrs].values,y)\n",
      "            testscore = testmodel.score(X.loc[:,ftrs].values,y)\n",
      "            \n",
      "            if testscore > all_fit_score:\n",
      "                test_scores.append(testscore)\n",
      "            else:\n",
      "                test_scores.append(0)\n",
      "        \n",
      "        if all_fit_score > max(test_scores):\n",
      "            print 'Best fit: ', all_features\n",
      "        else:\n",
      "            remove_this_feature = int(test_scores.index(max(test_scores)))\n",
      "            print 'Removing: ', all_features[remove_this_feature], ' (', max(test_scores), ')'\n",
      "            all_features = [a for a in all_features if a != all_features[remove_this_feature]]\n",
      "            find_best_features(X,y,all_features)\n",
      "            \n",
      "find_best_features(X,y,col)    "
     ],
     "language": "python",
     "metadata": {},
     "outputs": [
      {
       "output_type": "stream",
       "stream": "stdout",
       "text": [
        "Initial Features:  Index([u'G', u'W', u'L', u'Win%', u'SRS', u'SOS', u'PtsFor', u'PtsAgainst', u'FG', u'FGA', u'FG%', u'3P', u'3PA', u'3P%', u'FT', u'FTA', u'FT%', u'ORB', u'TRB', u'AST', u'STL', u'BLK', u'TOV', u'PF'], dtype='object')\n",
        "Initial Score:  0.857417974498\n",
        "Removing: "
       ]
      },
      {
       "output_type": "stream",
       "stream": "stdout",
       "text": [
        " FTA  ( 0.865797757756 )\n",
        "Initial Features: "
       ]
      },
      {
       "output_type": "stream",
       "stream": "stdout",
       "text": [
        " ['G', 'W', 'L', 'Win%', 'SRS', 'SOS', 'PtsFor', 'PtsAgainst', 'FG', 'FGA', 'FG%', '3P', '3PA', '3P%', 'FT', 'FT%', 'ORB', 'TRB', 'AST', 'STL', 'BLK', 'TOV', 'PF']\n",
        "Initial Score:  0.857417974498\n",
        "Removing: "
       ]
      },
      {
       "output_type": "stream",
       "stream": "stdout",
       "text": [
        " STL  ( 0.869572687686 )\n",
        "Initial Features: "
       ]
      },
      {
       "output_type": "stream",
       "stream": "stdout",
       "text": [
        " ['G', 'W', 'L', 'Win%', 'SRS', 'SOS', 'PtsFor', 'PtsAgainst', 'FG', 'FGA', 'FG%', '3P', '3PA', '3P%', 'FT', 'FT%', 'ORB', 'TRB', 'AST', 'BLK', 'TOV', 'PF']\n",
        "Initial Score:  0.857417974498\n",
        "Removing: "
       ]
      },
      {
       "output_type": "stream",
       "stream": "stdout",
       "text": [
        " ORB  ( 0.867775005254 )\n",
        "Initial Features: "
       ]
      },
      {
       "output_type": "stream",
       "stream": "stdout",
       "text": [
        " ['G', 'W', 'L', 'Win%', 'SRS', 'SOS', 'PtsFor', 'PtsAgainst', 'FG', 'FGA', 'FG%', '3P', '3PA', '3P%', 'FT', 'FT%', 'TRB', 'AST', 'BLK', 'TOV', 'PF']\n",
        "Initial Score:  0.857417974498\n",
        "Removing: "
       ]
      },
      {
       "output_type": "stream",
       "stream": "stdout",
       "text": [
        " W  ( 0.872431216417 )\n",
        "Initial Features: "
       ]
      },
      {
       "output_type": "stream",
       "stream": "stdout",
       "text": [
        " ['G', 'L', 'Win%', 'SRS', 'SOS', 'PtsFor', 'PtsAgainst', 'FG', 'FGA', 'FG%', '3P', '3PA', '3P%', 'FT', 'FT%', 'TRB', 'AST', 'BLK', 'TOV', 'PF']\n",
        "Initial Score:  0.857417974498\n",
        "Removing: "
       ]
      },
      {
       "output_type": "stream",
       "stream": "stdout",
       "text": [
        " 3P%  ( 0.873399830223 )\n",
        "Initial Features: "
       ]
      },
      {
       "output_type": "stream",
       "stream": "stdout",
       "text": [
        " ['G', 'L', 'Win%', 'SRS', 'SOS', 'PtsFor', 'PtsAgainst', 'FG', 'FGA', 'FG%', '3P', '3PA', 'FT', 'FT%', 'TRB', 'AST', 'BLK', 'TOV', 'PF']\n",
        "Initial Score:  0.857417974498\n",
        "Removing: "
       ]
      },
      {
       "output_type": "stream",
       "stream": "stdout",
       "text": [
        " L  ( 0.873787328658 )\n",
        "Initial Features: "
       ]
      },
      {
       "output_type": "stream",
       "stream": "stdout",
       "text": [
        " ['G', 'Win%', 'SRS', 'SOS', 'PtsFor', 'PtsAgainst', 'FG', 'FGA', 'FG%', '3P', '3PA', 'FT', 'FT%', 'TRB', 'AST', 'BLK', 'TOV', 'PF']\n",
        "Initial Score:  0.857417974498\n",
        "Removing: "
       ]
      },
      {
       "output_type": "stream",
       "stream": "stdout",
       "text": [
        " FG  ( 0.870932721005 )\n",
        "Initial Features: "
       ]
      },
      {
       "output_type": "stream",
       "stream": "stdout",
       "text": [
        " ['G', 'Win%', 'SRS', 'SOS', 'PtsFor', 'PtsAgainst', 'FGA', 'FG%', '3P', '3PA', 'FT', 'FT%', 'TRB', 'AST', 'BLK', 'TOV', 'PF']\n",
        "Initial Score:  0.857417974498\n",
        "Removing: "
       ]
      },
      {
       "output_type": "stream",
       "stream": "stdout",
       "text": [
        " SOS  ( 0.872049256478 )\n",
        "Initial Features: "
       ]
      },
      {
       "output_type": "stream",
       "stream": "stdout",
       "text": [
        " ['G', 'Win%', 'SRS', 'PtsFor', 'PtsAgainst', 'FGA', 'FG%', '3P', '3PA', 'FT', 'FT%', 'TRB', 'AST', 'BLK', 'TOV', 'PF']\n",
        "Initial Score:  0.857417974498\n",
        "Removing: "
       ]
      },
      {
       "output_type": "stream",
       "stream": "stdout",
       "text": [
        " TRB  ( 0.868653852449 )\n",
        "Initial Features: "
       ]
      },
      {
       "output_type": "stream",
       "stream": "stdout",
       "text": [
        " ['G', 'Win%', 'SRS', 'PtsFor', 'PtsAgainst', 'FGA', 'FG%', '3P', '3PA', 'FT', 'FT%', 'AST', 'BLK', 'TOV', 'PF']\n",
        "Initial Score:  0.857417974498\n",
        "Removing: "
       ]
      },
      {
       "output_type": "stream",
       "stream": "stdout",
       "text": [
        " 3PA  ( 0.869926703702 )\n",
        "Initial Features: "
       ]
      },
      {
       "output_type": "stream",
       "stream": "stdout",
       "text": [
        " ['G', 'Win%', 'SRS', 'PtsFor', 'PtsAgainst', 'FGA', 'FG%', '3P', 'FT', 'FT%', 'AST', 'BLK', 'TOV', 'PF']\n",
        "Initial Score:  0.857417974498\n",
        "Removing: "
       ]
      },
      {
       "output_type": "stream",
       "stream": "stdout",
       "text": [
        " PtsFor  ( 0.868036046759 )\n",
        "Initial Features: "
       ]
      },
      {
       "output_type": "stream",
       "stream": "stdout",
       "text": [
        " ['G', 'Win%', 'SRS', 'PtsAgainst', 'FGA', 'FG%', '3P', 'FT', 'FT%', 'AST', 'BLK', 'TOV', 'PF']\n",
        "Initial Score:  0.857417974498\n",
        "Removing: "
       ]
      },
      {
       "output_type": "stream",
       "stream": "stdout",
       "text": [
        " G  ( 0.866344951405 )\n",
        "Initial Features: "
       ]
      },
      {
       "output_type": "stream",
       "stream": "stdout",
       "text": [
        " ['Win%', 'SRS', 'PtsAgainst', 'FGA', 'FG%', '3P', 'FT', 'FT%', 'AST', 'BLK', 'TOV', 'PF']\n",
        "Initial Score:  0.857417974498\n",
        "Removing: "
       ]
      },
      {
       "output_type": "stream",
       "stream": "stdout",
       "text": [
        " PtsAgainst  ( 0.865102147461 )\n",
        "Initial Features: "
       ]
      },
      {
       "output_type": "stream",
       "stream": "stdout",
       "text": [
        " ['Win%', 'SRS', 'FGA', 'FG%', '3P', 'FT', 'FT%', 'AST', 'BLK', 'TOV', 'PF']\n",
        "Initial Score:  0.857417974498\n",
        "Removing: "
       ]
      },
      {
       "output_type": "stream",
       "stream": "stdout",
       "text": [
        " 3P  ( 0.86512041942 )\n",
        "Initial Features: "
       ]
      },
      {
       "output_type": "stream",
       "stream": "stdout",
       "text": [
        " ['Win%', 'SRS', 'FGA', 'FG%', 'FT', 'FT%', 'AST', 'BLK', 'TOV', 'PF']\n",
        "Initial Score:  0.857417974498\n",
        "Removing: "
       ]
      },
      {
       "output_type": "stream",
       "stream": "stdout",
       "text": [
        " FT%  ( 0.866953014734 )\n",
        "Initial Features: "
       ]
      },
      {
       "output_type": "stream",
       "stream": "stdout",
       "text": [
        " ['Win%', 'SRS', 'FGA', 'FG%', 'FT', 'AST', 'BLK', 'TOV', 'PF']\n",
        "Initial Score:  0.857417974498\n",
        "Removing: "
       ]
      },
      {
       "output_type": "stream",
       "stream": "stdout",
       "text": [
        " FGA  ( 0.866367078251 )\n",
        "Initial Features: "
       ]
      },
      {
       "output_type": "stream",
       "stream": "stdout",
       "text": [
        " ['Win%', 'SRS', 'FG%', 'FT', 'AST', 'BLK', 'TOV', 'PF']\n",
        "Initial Score:  0.857417974498\n",
        "Removing: "
       ]
      },
      {
       "output_type": "stream",
       "stream": "stdout",
       "text": [
        " FG%  ( 0.866858169659 )\n",
        "Initial Features: "
       ]
      },
      {
       "output_type": "stream",
       "stream": "stdout",
       "text": [
        " ['Win%', 'SRS', 'FT', 'AST', 'BLK', 'TOV', 'PF']\n",
        "Initial Score:  0.857417974498\n",
        "Removing: "
       ]
      },
      {
       "output_type": "stream",
       "stream": "stdout",
       "text": [
        " AST  ( 0.862198541609 )\n",
        "Initial Features: "
       ]
      },
      {
       "output_type": "stream",
       "stream": "stdout",
       "text": [
        " ['Win%', 'SRS', 'FT', 'BLK', 'TOV', 'PF']\n",
        "Initial Score:  0.857417974498\n",
        "Best fit: "
       ]
      },
      {
       "output_type": "stream",
       "stream": "stdout",
       "text": [
        " ['Win%', 'SRS', 'FT', 'BLK', 'TOV', 'PF']\n"
       ]
      }
     ],
     "prompt_number": 194
    },
    {
     "cell_type": "code",
     "collapsed": false,
     "input": [],
     "language": "python",
     "metadata": {},
     "outputs": []
    },
    {
     "cell_type": "code",
     "collapsed": false,
     "input": [],
     "language": "python",
     "metadata": {},
     "outputs": []
    },
    {
     "cell_type": "code",
     "collapsed": false,
     "input": [],
     "language": "python",
     "metadata": {},
     "outputs": []
    },
    {
     "cell_type": "code",
     "collapsed": false,
     "input": [],
     "language": "python",
     "metadata": {},
     "outputs": []
    }
   ],
   "metadata": {}
  }
 ]
}
