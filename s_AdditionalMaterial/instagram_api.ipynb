{
 "metadata": {
  "name": "",
  "signature": "sha256:0ef8de85327b433aa30ca7d39878b4a9a2c02125ba3895ebe8d982b96b41a639"
 },
 "nbformat": 3,
 "nbformat_minor": 0,
 "worksheets": [
  {
   "cells": [
    {
     "cell_type": "markdown",
     "metadata": {},
     "source": [
      "Instagram has a Python wrapper on github [here](https://github.com/Instagram/python-instagram).\n",
      "\n",
      "All of the API call functions are listed in the README file."
     ]
    },
    {
     "cell_type": "markdown",
     "metadata": {},
     "source": [
      "Developer page has all the endpoints [here](http://instagram.com/developer)."
     ]
    },
    {
     "cell_type": "code",
     "collapsed": false,
     "input": [
      "import pandas as pd\n",
      "from instagram.client import InstagramAPI\n",
      "\n",
      "client_id = ''\n",
      "client_secret = ''\n",
      "api = InstagramAPI(client_id=client_id, client_secret=client_secret)"
     ],
     "language": "python",
     "metadata": {},
     "outputs": [],
     "prompt_number": 25
    },
    {
     "cell_type": "code",
     "collapsed": false,
     "input": [
      "# Finding a User by Name\n",
      "user = api.user_search('miketyson')"
     ],
     "language": "python",
     "metadata": {},
     "outputs": [],
     "prompt_number": 35
    },
    {
     "cell_type": "code",
     "collapsed": false,
     "input": [
      "print user"
     ],
     "language": "python",
     "metadata": {},
     "outputs": [
      {
       "output_type": "stream",
       "stream": "stdout",
       "text": [
        "[User: miketyson, User: miketysonstory20, User: mike_tyson_productions, User: miketyson330_, User: miketysonthedog, User: thatsmypistol, User: miketysonvines, User: mike_tyson_dolce, User: dt_miketyson, User: mike__tyson_, User: miketyson0, User: miketyson427, User: miketyson_, User: miketyson_jd23, User: tysonpr1, User: miketyson1218, User: lost_at_last, User: mike_tyson777, User: cesar_tamayo1, User: mike_tysonko, User: cruise_leaaetoa, User: miketyson89526409706, User: swisscesaro, User: miketyson.07, User: mike_tyson__, User: mike_tyson3, User: miketysonjunior, User: rich.myaa, User: sincityjokerswild, User: miketyson12, User: mike_tyson47rus, User: ms_miketyson, User: mike_tyson_jr, User: miketysonflow615, User: prince_a61, User: miketyson69, User: mike_tyson_161, User: miketyson____, User: _miketyson_, User: miiketyson, User: anthony_fisch, User: _.mike_tyson._, User: miketyson22, User: miketysontigerbitch, User: tyson_oliver, User: miketyson24400hotmailfr, User: miketysonbitch, User: gulz_miketysonworldcentre, User: miketyson94, User: miketyson2002]\n"
       ]
      }
     ],
     "prompt_number": 36
    },
    {
     "cell_type": "code",
     "collapsed": false,
     "input": [
      "user = user[0]"
     ],
     "language": "python",
     "metadata": {},
     "outputs": [],
     "prompt_number": 37
    },
    {
     "cell_type": "code",
     "collapsed": false,
     "input": [
      "user_id = user.id\n",
      "print user_id"
     ],
     "language": "python",
     "metadata": {},
     "outputs": [
      {
       "output_type": "stream",
       "stream": "stdout",
       "text": [
        "18848562\n"
       ]
      }
     ],
     "prompt_number": 39
    },
    {
     "cell_type": "code",
     "collapsed": false,
     "input": [
      "# Finding Iron Mike's recent Instagram posts\n",
      "recent = api.user_recent_media(user_id = user_id)"
     ],
     "language": "python",
     "metadata": {},
     "outputs": [],
     "prompt_number": 41
    },
    {
     "cell_type": "code",
     "collapsed": false,
     "input": [
      "# There are two components to the reply...\n",
      "# First is a list of Media objects\n",
      "# Second is the next API URL\n",
      "print recent"
     ],
     "language": "python",
     "metadata": {},
     "outputs": [
      {
       "output_type": "stream",
       "stream": "stdout",
       "text": [
        "([Media: 825707861412130744_18848562, Media: 817573322487738213_18848562, Media: 817528595402960758_18848562, Media: 817519997037817510_18848562, Media: 813919666487929975_18848562, Media: 811081947789372685_18848562, Media: 810352034077715852_18848562, Media: 810349094449425732_18848562, Media: 807444411825237003_18848562, Media: 806062672796167185_18848562, Media: 805953475702140816_18848562, Media: 793753813373136578_18848562, Media: 792326083423219052_18848562, Media: 792323357402443054_18848562, Media: 782877718398611299_18848562, Media: 782873549101051680_18848562, Media: 782870970635890415_18848562, Media: 782831810063609833_18848562, Media: 782696762089910149_18848562, Media: 782468685535620809_18848562], 'https://api.instagram.com/v1/users/18848562/media/recent?max_id=782468685535620809_18848562&client_id=42d4b6adf12c4cc59e52744f373396cd')\n"
       ]
      }
     ],
     "prompt_number": 46
    },
    {
     "cell_type": "code",
     "collapsed": false,
     "input": [
      "recent = recent[0]"
     ],
     "language": "python",
     "metadata": {},
     "outputs": [],
     "prompt_number": 48
    },
    {
     "cell_type": "code",
     "collapsed": false,
     "input": [
      "media_list = []\n",
      "for media in recent:\n",
      "\tdata = {\n",
      "\t\t'id' : media.id,\n",
      "\t\t'username' : media.user.username,\n",
      "\t\t'caption' : media.caption.text if media.caption != None else None,\n",
      "\t\t'tag' : [t.name for t in media.tags] if 'tags' in dir(media) else [],\n",
      "\t\t'type' : media.type,\n",
      "\t\t'created_time' : media.created_time,\n",
      "\t\t'filter' : media.filter,\n",
      "\t\t'like_count' : media.like_count,\n",
      "\t\t'likes' : [l.username for l in media.likes],\n",
      "\t\t'comment_count' : media.comment_count,\n",
      "\t\t'comments' : [{'user' : c.user, 'text' : c.text} for c in media.comments],\n",
      "\t}\n",
      "\tmedia_list.append(data)"
     ],
     "language": "python",
     "metadata": {},
     "outputs": [],
     "prompt_number": 49
    },
    {
     "cell_type": "code",
     "collapsed": false,
     "input": [
      "media_list[0]"
     ],
     "language": "python",
     "metadata": {},
     "outputs": [
      {
       "metadata": {},
       "output_type": "pyout",
       "prompt_number": 50,
       "text": [
        "{'caption': '#Brooklyn stand up! I see u @therock on @wwe #RAWbrooklyn wearing my @rootsoffight jacket. Great to see you back DJ!',\n",
        " 'comment_count': 248,\n",
        " 'comments': [{'text': 'Legal@', 'user': User: martinezcassius},\n",
        "  {'text': u'\\U0001f64c\\U0001f4af', 'user': User: barbersince98},\n",
        "  {'text': u'\\U0001f525\\U0001f525\\U0001f525\\U0001f525\\U0001f525\\U0001f4af\\U0001f60e @greenpound give you a taste of the good life! Affordable pounds delivered & 100% discrete! My package came everytime! Show time \\U0001f525\\U0001f525\\U0001f525\\U0001f525\\U0001f525\\U0001f4af\\U0001f60e',\n",
        "   'user': User: buybigmoney},\n",
        "  {'text': 'Nice @miketyson', 'user': User: jazz17176488},\n",
        "  {'text': '@___bferreira', 'user': User: ruf_mike},\n",
        "  {'text': u'\\u2764\\u2764', 'user': User: nany_bentley},\n",
        "  {'text': 'To @miketyson saw your commercial for your new show on Adult Swim. Cant wait to see Mike Tyson Mysteries.',\n",
        "   'user': User: big_mnm},\n",
        "  {'text': '#MikeTysonMysteries', 'user': User: mike.maz}],\n",
        " 'created_time': datetime.datetime(2014, 10, 7, 3, 21, 9),\n",
        " 'filter': 'Normal',\n",
        " 'id': '825707861412130744_18848562',\n",
        " 'like_count': 24668,\n",
        " 'likes': ['ak1k', 'faithmelissa', 'kieranm29', 'argentumphotolab'],\n",
        " 'tag': ['brooklyn', 'rawbrooklyn'],\n",
        " 'type': 'image',\n",
        " 'username': 'miketyson'}"
       ]
      }
     ],
     "prompt_number": 50
    },
    {
     "cell_type": "code",
     "collapsed": false,
     "input": [],
     "language": "python",
     "metadata": {},
     "outputs": []
    },
    {
     "cell_type": "markdown",
     "metadata": {},
     "source": [
      "## Looping through results..."
     ]
    },
    {
     "cell_type": "code",
     "collapsed": false,
     "input": [
      "# user_id = '18848562'\n",
      "found_media = api.user_recent_media(user_id = user_id)\n",
      "next_url = found_media[1]\n",
      "max_id = next_url[64:91]\n",
      "media_records = found_media[0]"
     ],
     "language": "python",
     "metadata": {},
     "outputs": [],
     "prompt_number": 51
    },
    {
     "cell_type": "code",
     "collapsed": false,
     "input": [
      "next_url"
     ],
     "language": "python",
     "metadata": {},
     "outputs": []
    },
    {
     "cell_type": "code",
     "collapsed": false,
     "input": [
      "# for i in range(100):\n",
      "while next_url is not None:\n",
      "    found_media = api.user_recent_media(user_id = user_id, max_id=max_id)\n",
      "    for m in found_media[0]:\n",
      "        media_records.append(m)\n",
      "    print len(media_records)\n",
      "    next_url = found_media[1]\n",
      "    if next_url:\n",
      "        max_id = next_url[64:91] "
     ],
     "language": "python",
     "metadata": {},
     "outputs": []
    },
    {
     "cell_type": "code",
     "collapsed": false,
     "input": [
      "url = found_media[1]\n",
      "print url"
     ],
     "language": "python",
     "metadata": {},
     "outputs": []
    },
    {
     "cell_type": "code",
     "collapsed": false,
     "input": [
      "media_list = []\n",
      "for media in found_media:\n",
      "\tdata = {\n",
      "\t\t'id' : media.id,\n",
      "\t\t'username' : media.user.username,\n",
      "\t\t'caption' : media.caption.text if media.caption != None else None,\n",
      "\t\t'tag' : [t.name for t in media.tags] if 'tags' in dir(media) else [],\n",
      "\t\t'type' : media.type,\n",
      "\t\t'created_time' : media.created_time,\n",
      "\t\t'filter' : media.filter,\n",
      "\t\t'like_count' : media.like_count,\n",
      "\t\t'likes' : [l.username for l in media.likes],\n",
      "\t\t'comment_count' : media.comment_count,\n",
      "\t\t'comments' : [{'user' : c.user, 'text' : c.text} for c in media.comments],\n",
      "\t}\n",
      "\tmedia_list.append(data)"
     ],
     "language": "python",
     "metadata": {},
     "outputs": []
    },
    {
     "cell_type": "code",
     "collapsed": false,
     "input": [
      "col=['id','username','caption','type','created_time','filter','like_count','likes','comment_count','comments']\n",
      "df = pd.DataFrame (data=media_list, columns=col)"
     ],
     "language": "python",
     "metadata": {},
     "outputs": []
    },
    {
     "cell_type": "code",
     "collapsed": false,
     "input": [
      "df.head()"
     ],
     "language": "python",
     "metadata": {},
     "outputs": []
    },
    {
     "cell_type": "code",
     "collapsed": false,
     "input": [],
     "language": "python",
     "metadata": {},
     "outputs": []
    }
   ],
   "metadata": {}
  }
 ]
}
