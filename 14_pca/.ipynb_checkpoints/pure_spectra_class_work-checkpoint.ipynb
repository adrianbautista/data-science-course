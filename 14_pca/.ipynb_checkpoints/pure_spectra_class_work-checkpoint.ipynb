{
 "metadata": {
  "name": "",
  "signature": "sha256:ffb9458f0b83290d9c1ad0d457132356ca29b760267826fb3ec4be8a4b1d2391"
 },
 "nbformat": 3,
 "nbformat_minor": 0,
 "worksheets": [
  {
   "cells": [
    {
     "cell_type": "code",
     "collapsed": false,
     "input": [
      "import numpy as np\n",
      "import pandas as pd\n",
      "from sklearn.decomposition import PCA\n",
      "from sklearn.tree import DecisionTreeClassifier\n",
      "\n",
      "%pylab inline"
     ],
     "language": "python",
     "metadata": {},
     "outputs": [
      {
       "output_type": "stream",
       "stream": "stdout",
       "text": [
        "Populating the interactive namespace from numpy and matplotlib\n"
       ]
      }
     ],
     "prompt_number": 1
    },
    {
     "cell_type": "code",
     "collapsed": false,
     "input": [
      "spectra_data_set = pd.read_csv('micromass/pure_spectra_matrix.csv', sep=';', header=None)"
     ],
     "language": "python",
     "metadata": {},
     "outputs": []
    }
   ],
   "metadata": {}
  }
 ]
}