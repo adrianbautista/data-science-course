{
 "metadata": {
  "name": "",
  "signature": "sha256:df4b731d50230c4a136ebabed44cc6611325880c7c5303fedc27928eb34d1f5d"
 },
 "nbformat": 3,
 "nbformat_minor": 0,
 "worksheets": [
  {
   "cells": [
    {
     "cell_type": "code",
     "collapsed": false,
     "input": [
      "# import numpy and allow pylab to render inline\n",
      "\n",
      "# the purpose of all of this is to reduce the dimensionality of the randomly generated data\n",
      "\n",
      "import numpy as np\n",
      "%pylab inline"
     ],
     "language": "python",
     "metadata": {},
     "outputs": [
      {
       "output_type": "stream",
       "stream": "stdout",
       "text": [
        "Populating the interactive namespace from numpy and matplotlib\n"
       ]
      }
     ],
     "prompt_number": 44
    },
    {
     "cell_type": "code",
     "collapsed": false,
     "input": [
      "# generate some random data and plot it on a scattergram\n",
      "\n",
      "x1 = np.random.normal(loc=40, scale=8, size=100) # loc describes the mean of the random data\n",
      "x2 = x1 - 10 + np.random.normal(scale=3, size=100)\n",
      "scatter(x1, x2)"
     ],
     "language": "python",
     "metadata": {},
     "outputs": [
      {
       "metadata": {},
       "output_type": "pyout",
       "prompt_number": 7,
       "text": [
        "<matplotlib.collections.PathCollection at 0x1089d9050>"
       ]
      },
      {
       "metadata": {},
       "output_type": "display_data",
       "png": "[encoded data removed]",
       "text": [
        "<matplotlib.figure.Figure at 0x107239b50>"
       ]
      }
     ],
     "prompt_number": 7
    },
    {
     "cell_type": "code",
     "collapsed": false,
     "input": [
      "# generates a 100 row, 2 column matrix, with the x arrays being the columns\n",
      "\n",
      "X = np.column_stack((x1, x2))\n",
      "X.shape"
     ],
     "language": "python",
     "metadata": {},
     "outputs": [
      {
       "metadata": {},
       "output_type": "pyout",
       "prompt_number": 12,
       "text": [
        "(100, 2)"
       ]
      }
     ],
     "prompt_number": 12
    },
    {
     "cell_type": "code",
     "collapsed": false,
     "input": [
      "# find the mean and use it as the origin so that all values are relative to the mean\n",
      "\n",
      "X.mean(axis=0)\n",
      "X_centered = X - X.mean(axis=0)"
     ],
     "language": "python",
     "metadata": {},
     "outputs": [],
     "prompt_number": 15
    },
    {
     "cell_type": "code",
     "collapsed": false,
     "input": [
      "# generate a matrix containing the covariance between the data points?\n",
      "# the covariance doesn't change because centering the data does not change how the variables relate to each other\n",
      "\n",
      "np.cov(X, rowvar=0)\n",
      "np.cov(X_centered, rowvar=0)"
     ],
     "language": "python",
     "metadata": {},
     "outputs": [
      {
       "metadata": {},
       "output_type": "pyout",
       "prompt_number": 40,
       "text": [
        "array([[ 50.66377605,  48.95695098],\n",
        "       [ 48.95695098,  58.93868761]])"
       ]
      }
     ],
     "prompt_number": 40
    },
    {
     "cell_type": "code",
     "collapsed": false,
     "input": [
      "# multiply the matrices to transpose it?\n",
      "print np.dot(X.T, X)\n",
      "print np.dot(X_centered.T, X_centered)\n",
      "print np.dot(X_centered.T, X_centered)/99 # unimportant scaling"
     ],
     "language": "python",
     "metadata": {},
     "outputs": [
      {
       "output_type": "stream",
       "stream": "stdout",
       "text": [
        "[[ 175499.05624249  134225.78019508]\n",
        " [ 134225.78019508  104020.10338323]]\n",
        "[[ 5015.71382924  4846.73814675]\n",
        " [ 4846.73814675  5834.93007305]]\n",
        "[[ 50.66377605  48.95695098]\n",
        " [ 48.95695098  58.93868761]]\n"
       ]
      }
     ],
     "prompt_number": 43
    },
    {
     "cell_type": "code",
     "collapsed": false,
     "input": [
      "# calculate the eignevalues of the covariance of the resetted data\n",
      "# transpose it against the eignevalues?... perform PCA?\n",
      "# and then calculate the covariance\n",
      "\n",
      "eig_vals, Q = np.linalg.eig(np.cov(X_centered, rowvar=0)*99)\n",
      "np.dot(Q, np.dot(np.diag(eig_vals), np.linalg.inv(Q)))\n",
      "np.cov(X_centered, rowvar=0)*99\n"
     ],
     "language": "python",
     "metadata": {},
     "outputs": [
      {
       "metadata": {},
       "output_type": "pyout",
       "prompt_number": 30,
       "text": [
        "array([[ 5015.71382924,  4846.73814675],\n",
        "       [ 4846.73814675,  5834.93007305]])"
       ]
      }
     ],
     "prompt_number": 30
    },
    {
     "cell_type": "code",
     "collapsed": false,
     "input": [
      "# order the feature by ability to explain the variance within the data\n",
      "\n",
      "ordered = sorted(zip(eig_vals, Q.T), reverse=True)\n",
      "eig_vals = np.array([_[0] for _ in ordered])\n",
      "Q = np.column_stack((_[1] for _ in ordered))"
     ],
     "language": "python",
     "metadata": {},
     "outputs": [],
     "prompt_number": 35
    },
    {
     "cell_type": "code",
     "collapsed": false,
     "input": [
      "# transpose again?\n",
      "\n",
      "X_transformed = np.dot(Q[:, 0].reshape(2, 1).T, X_centered.T)"
     ],
     "language": "python",
     "metadata": {},
     "outputs": [],
     "prompt_number": 33
    },
    {
     "cell_type": "code",
     "collapsed": false,
     "input": [
      "# and transpose again?\n",
      "\n",
      "X_reconstituted = np.dot(X_transformed.reshape(100, 1),\n",
      "                         Q[:, 0].reshape(1, 2))"
     ],
     "language": "python",
     "metadata": {},
     "outputs": [],
     "prompt_number": 37
    },
    {
     "cell_type": "code",
     "collapsed": false,
     "input": [
      "# graph results of original centered data vs. the reconstituted data that using first 2 best features?\n",
      "\n",
      "scatter(X_centered[:, 0], X_centered[:, 1])\n",
      "scatter(X_reconstituted[:, 0], X_reconstituted[:, 1], c='r')"
     ],
     "language": "python",
     "metadata": {},
     "outputs": [
      {
       "metadata": {},
       "output_type": "pyout",
       "prompt_number": 39,
       "text": [
        "<matplotlib.collections.PathCollection at 0x10b9ec9d0>"
       ]
      },
      {
       "metadata": {},
       "output_type": "display_data",
       "png": "[encoded data removed]",
       "text": [
        "<matplotlib.figure.Figure at 0x10bc32990>"
       ]
      }
     ],
     "prompt_number": 39
    },
    {
     "cell_type": "code",
     "collapsed": false,
     "input": [],
     "language": "python",
     "metadata": {},
     "outputs": []
    }
   ],
   "metadata": {}
  }
 ]
}