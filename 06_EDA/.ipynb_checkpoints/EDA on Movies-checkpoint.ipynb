{
 "metadata": {
  "name": "",
  "signature": "sha256:2e777ed88ba5a0d8d582588e9012db9d44c5501a13ff63bb050dabaa098981e1"
 },
 "nbformat": 3,
 "nbformat_minor": 0,
 "worksheets": [
  {
   "cells": [
    {
     "cell_type": "markdown",
     "metadata": {},
     "source": [
      "# Exploratory Data Analysis: Movie Example\n"
     ]
    },
    {
     "cell_type": "raw",
     "metadata": {},
     "source": [
      "Acquire\n",
      "Clean\n",
      "Explore\n",
      "Summarize"
     ]
    },
    {
     "cell_type": "markdown",
     "metadata": {},
     "source": [
      "_Parts of this notebook is adapted from [Chris Beaumont's](http://chrisbeaumont.org/) [\"Rubric for Data Wrangling and Exploration\"](http://nbviewer.ipython.org/github/cs109/content/blob/master/lec_04_wrangling.ipynb)_"
     ]
    },
    {
     "cell_type": "code",
     "collapsed": false,
     "input": [
      "%matplotlib inline\n",
      "# from pylab import *\n",
      "\n",
      "import matplotlib.pyplot as plt\n",
      "import pandas as pd\n",
      "import numpy as np"
     ],
     "language": "python",
     "metadata": {},
     "outputs": []
    },
    {
     "cell_type": "markdown",
     "metadata": {},
     "source": [
      "## Acquire Data"
     ]
    },
    {
     "cell_type": "code",
     "collapsed": false,
     "input": [
      "# Take a look at the data: http://bit.ly/gamoviedata\n",
      "# Scraped from http://www.imdb.com/search/title?sort=num_votes,desc&title_type=feature&year=1950,2012\n"
     ],
     "language": "python",
     "metadata": {},
     "outputs": []
    },
    {
     "cell_type": "code",
     "collapsed": false,
     "input": [
      "# Dump the data into a frame and label it so if we come back to it later we'll know what's what\n",
      "# We can see that there were no titles so we'll provide them\n",
      "# Its also clear that there's tab separations \n",
      "names = ['imdbID', 'Title', 'year', 'score', 'votes', 'runtime', 'genres']\n",
      "data = pd.read_csv('imdb_top_10000.txt', delimiter='\\t', names=names).dropna()\n",
      "print \"Number of rows: %i. Number of columns: %i\" %(data.shape[0],data.shape[1])\n",
      "data.head()  # print the first 5 rows"
     ],
     "language": "python",
     "metadata": {},
     "outputs": []
    },
    {
     "cell_type": "markdown",
     "metadata": {},
     "source": [
      "## Clean Data"
     ]
    },
    {
     "cell_type": "markdown",
     "metadata": {},
     "source": [
      "#### MUNGING!!\n",
      "Weed to adjust the runtime and genres so we can use them.  And may as well remove the superfluous year from title as well.\n",
      "\n",
      "You must love to munge, or work with someone who loves to munge, to get anywhere in data science.  Understanding strings are lists, is helpful."
     ]
    },
    {
     "cell_type": "code",
     "collapsed": false,
     "input": [
      "# Fix the title\n",
      "data['Title'] = [t[0:-7] for t in data.Title]\n",
      "\n"
     ],
     "language": "python",
     "metadata": {},
     "outputs": []
    },
    {
     "cell_type": "code",
     "collapsed": false,
     "input": [
      "data.year"
     ],
     "language": "python",
     "metadata": {},
     "outputs": []
    },
    {
     "cell_type": "code",
     "collapsed": false,
     "input": [],
     "language": "python",
     "metadata": {},
     "outputs": []
    },
    {
     "cell_type": "code",
     "collapsed": true,
     "input": [
      "# Fix the runtime\n",
      "# For each element of data.runtime, split the string at a space and get the first element as a number.\n",
      "# We can use a \"comprehension\":\n",
      "\n",
      "clean_runtime = [float(r.split(' ')[0]) for r in data.runtime]\n",
      "data['runtime'] = clean_runtime"
     ],
     "language": "python",
     "metadata": {},
     "outputs": []
    },
    {
     "cell_type": "code",
     "collapsed": false,
     "input": [],
     "language": "python",
     "metadata": {},
     "outputs": []
    },
    {
     "cell_type": "code",
     "collapsed": false,
     "input": [
      "# Splitting up the genres\n",
      "#determine the unique genres\n",
      "genresset = set()\n",
      "\n",
      "for m in data.genres:\n",
      "    genresset.update(g for g in m.split('|'))\n",
      "genresset = sorted(genresset)\n"
     ],
     "language": "python",
     "metadata": {},
     "outputs": []
    },
    {
     "cell_type": "code",
     "collapsed": false,
     "input": [],
     "language": "python",
     "metadata": {},
     "outputs": []
    },
    {
     "cell_type": "code",
     "collapsed": false,
     "input": [],
     "language": "python",
     "metadata": {},
     "outputs": []
    },
    {
     "cell_type": "code",
     "collapsed": false,
     "input": [
      "#make a column for each genre\n",
      "\n",
      "# Take our raw genre variable \"data.genres\"\n",
      "# Take each element, test whether or the elements are in that particular genre\n",
      "# Save the boolean to the \"genreset\"\n",
      "# Go on to the next genre in genreset\n",
      "\n",
      "for genre in genresset:\n",
      "    data[genre] = [genre in movie.split('|') for movie in data.genres]\n",
      "         "
     ],
     "language": "python",
     "metadata": {},
     "outputs": []
    },
    {
     "cell_type": "code",
     "collapsed": false,
     "input": [
      "data.columns"
     ],
     "language": "python",
     "metadata": {},
     "outputs": []
    },
    {
     "cell_type": "code",
     "collapsed": false,
     "input": [
      "data.iloc[1:10,4:23]"
     ],
     "language": "python",
     "metadata": {},
     "outputs": []
    },
    {
     "cell_type": "markdown",
     "metadata": {},
     "source": [
      "## Explore Global Properties\n"
     ]
    },
    {
     "cell_type": "markdown",
     "metadata": {},
     "source": [
      "### Exploratory Plots"
     ]
    },
    {
     "cell_type": "code",
     "collapsed": false,
     "input": [
      "#Check global to see if they make sense:\n",
      "data[['score', 'runtime', 'year', 'votes']].describe()"
     ],
     "language": "python",
     "metadata": {},
     "outputs": []
    },
    {
     "cell_type": "code",
     "collapsed": false,
     "input": [
      "# Remove any zero runtimes\n",
      "print len(data[data.runtime == 0])\n",
      "\n",
      "#probably best to flag those bad data as NAN\n",
      "data.runtime[data.runtime==0] = np.nan"
     ],
     "language": "python",
     "metadata": {},
     "outputs": []
    },
    {
     "cell_type": "code",
     "collapsed": false,
     "input": [
      "data[['score', 'runtime', 'year', 'votes']].describe()"
     ],
     "language": "python",
     "metadata": {},
     "outputs": []
    },
    {
     "cell_type": "markdown",
     "metadata": {},
     "source": [
      "### Exploratory Plots (histograms!)"
     ]
    },
    {
     "cell_type": "code",
     "collapsed": false,
     "input": [],
     "language": "python",
     "metadata": {},
     "outputs": []
    },
    {
     "cell_type": "code",
     "collapsed": false,
     "input": [
      "#Exercise: do a histogram of all variables together"
     ],
     "language": "python",
     "metadata": {},
     "outputs": []
    },
    {
     "cell_type": "code",
     "collapsed": false,
     "input": [
      "# more movies in recent years, but not *very* recent movies (they haven't had time to receive lots of votes yet?)\n",
      "fig,ax1 = plt.subplots(1,1)\n",
      "ax1.hist(data.year,bins=np.arange(1950, 2013))\n",
      "ax1.set_title('Movie Releases by Year')\n",
      "ax1.set_xlabel('Release Year')"
     ],
     "language": "python",
     "metadata": {},
     "outputs": []
    },
    {
     "cell_type": "code",
     "collapsed": false,
     "input": [
      "# Update the matplotlib configuration parameters:\n",
      "# plt.rcParams.update({ 'font.family': 'monospace'})"
     ],
     "language": "python",
     "metadata": {},
     "outputs": []
    },
    {
     "cell_type": "code",
     "collapsed": false,
     "input": [],
     "language": "python",
     "metadata": {},
     "outputs": []
    },
    {
     "cell_type": "code",
     "collapsed": false,
     "input": [],
     "language": "python",
     "metadata": {},
     "outputs": []
    },
    {
     "cell_type": "code",
     "collapsed": false,
     "input": [
      "fig,ax1 = plt.subplots(1,1)\n",
      "ax1.hist(data.score, bins=20)\n",
      "\n",
      "ax1.set_title('Movie Rating Frequency')\n",
      "ax1.set_xlabel(\"IMDB rating\")\n"
     ],
     "language": "python",
     "metadata": {},
     "outputs": []
    },
    {
     "cell_type": "code",
     "collapsed": false,
     "input": [
      "\n",
      "plt.hist(data.runtime.dropna(), bins=50)\n",
      "plt.xlabel(\"Movie Run Time\")\n",
      "plt.ylabel(\"Number of Movies\")\n",
      "plt.title('Number of Movies per Run Times')"
     ],
     "language": "python",
     "metadata": {},
     "outputs": []
    },
    {
     "cell_type": "code",
     "collapsed": false,
     "input": [
      "#hmm, more bad, recent movies. Real, or a selection bias?\n",
      "plt.figure(figsize=(10,5))\n",
      "plt.scatter(data.year, data.score, lw=0, alpha=.05)\n",
      "plt.xlabel(\"Year\")\n",
      "plt.ylabel(\"Score\")\n",
      "plt.title(\"Rating over time\",fontsize='15')\n",
      "\n"
     ],
     "language": "python",
     "metadata": {},
     "outputs": []
    },
    {
     "cell_type": "code",
     "collapsed": false,
     "input": [],
     "language": "python",
     "metadata": {},
     "outputs": []
    },
    {
     "cell_type": "code",
     "collapsed": false,
     "input": [
      "plt.figure(figsize=(10,5))\n",
      "plt.scatter(data.votes, data.score, lw=0, alpha=.1)\n",
      "plt.xlabel(\"Number of Votes\")\n",
      "plt.ylabel(\"IMDB Rating\")\n",
      "plt.title(\"Votes vs. Ratings\",fontsize='x-large')\n",
      "plt.xscale('log')"
     ],
     "language": "python",
     "metadata": {},
     "outputs": []
    },
    {
     "cell_type": "code",
     "collapsed": false,
     "input": [
      "### Who are those outliers?\n",
      "# Who is that movie with lots of votes but a score of betweeen 3 and 4?\n",
      "# Over 70000, less than 4\n",
      "data[(data.votes > 7e4) & (data.score < 4)][['Title', 'year', 'score', 'votes', 'genres']]"
     ],
     "language": "python",
     "metadata": {},
     "outputs": []
    },
    {
     "cell_type": "code",
     "collapsed": true,
     "input": [
      "# The lowest rated movies\n",
      "data[data.score == data.score.min()][['Title', 'year', 'score', 'votes', 'genres']]"
     ],
     "language": "python",
     "metadata": {},
     "outputs": []
    },
    {
     "cell_type": "code",
     "collapsed": true,
     "input": [
      "# The highest rated movies\n",
      "data[(data.score >7)&(data.year > 2010)][['Title', 'year', 'score', 'votes', 'genres']]"
     ],
     "language": "python",
     "metadata": {},
     "outputs": []
    },
    {
     "cell_type": "code",
     "collapsed": false,
     "input": [],
     "language": "python",
     "metadata": {},
     "outputs": []
    },
    {
     "cell_type": "code",
     "collapsed": false,
     "input": [
      "#"
     ],
     "language": "python",
     "metadata": {},
     "outputs": []
    },
    {
     "cell_type": "code",
     "collapsed": false,
     "input": [
      "#temp\n",
      "type(data.year)"
     ],
     "language": "python",
     "metadata": {},
     "outputs": []
    },
    {
     "cell_type": "markdown",
     "metadata": {},
     "source": [
      "### Subset Comparisons\n",
      "Are there natural subsets we'd like to compare? "
     ]
    },
    {
     "cell_type": "code",
     "collapsed": false,
     "input": [],
     "language": "python",
     "metadata": {},
     "outputs": []
    },
    {
     "cell_type": "code",
     "collapsed": true,
     "input": [
      "# By Decade\n",
      "# Make a separate table with the decades\n",
      "decade =  (data.year / 10) * 10\n",
      "\n",
      "tyd = data[['Title', 'year']]\n",
      "tyd['decade'] = decade\n",
      "\n",
      "tyd.head()"
     ],
     "language": "python",
     "metadata": {},
     "outputs": []
    },
    {
     "cell_type": "code",
     "collapsed": false,
     "input": [
      "# We can group the score by decade:\n",
      "data.groupby(decade).score.head(10)"
     ],
     "language": "python",
     "metadata": {},
     "outputs": []
    },
    {
     "cell_type": "code",
     "collapsed": false,
     "input": [],
     "language": "python",
     "metadata": {},
     "outputs": []
    },
    {
     "cell_type": "code",
     "collapsed": false,
     "input": [
      "#mean score for all movies in each decade\n",
      "decade_mean = data.groupby(decade).score.mean()\n",
      "print(decade_mean)"
     ],
     "language": "python",
     "metadata": {},
     "outputs": []
    },
    {
     "cell_type": "code",
     "collapsed": false,
     "input": [
      "plt.plot(decade_mean.index, decade_mean.values, 'o-',\n",
      "        color='r', lw=1, label='Decade Average')\n",
      "plt.scatter(data.year, data.score, alpha=.04, lw=0)\n",
      "plt.xlabel(\"Year\")\n",
      "plt.ylabel(\"Score\")\n",
      "plt.title(\"Average Score per Decade\")\n",
      "#plt.legend(frameon=False) # add a legend\n"
     ],
     "language": "python",
     "metadata": {},
     "outputs": []
    },
    {
     "cell_type": "code",
     "collapsed": false,
     "input": [
      "plt.plot(decade_mean.index, decade_mean.values, 'o-',\n",
      "        color='r', lw=1, label='Decade Average')\n",
      "plt.scatter(data.year, data.score, alpha=.04, lw=0)\n",
      "plt.xlabel(\"Year\")\n",
      "plt.ylabel(\"Score\")\n",
      "plt.title(\"Movie Scores over Time\")\n",
      "plt.legend(frameon=False) # add a legend"
     ],
     "language": "python",
     "metadata": {},
     "outputs": []
    },
    {
     "cell_type": "markdown",
     "metadata": {},
     "source": [
      "## Summarize"
     ]
    }
   ],
   "metadata": {}
  }
 ]
}