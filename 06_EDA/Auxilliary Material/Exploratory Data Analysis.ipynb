{
 "metadata": {
  "name": "",
  "signature": "sha256:4e7c3a5ad725274a0c9d09050356bcbb01c5d16aaf1ed69500a2526fa79a13a8"
 },
 "nbformat": 3,
 "nbformat_minor": 0,
 "worksheets": [
  {
   "cells": [
    {
     "cell_type": "code",
     "collapsed": false,
     "input": [
      "import pandas as pd\n",
      "import numpy as np\n",
      "import matplotlib.pyplot as plt"
     ],
     "language": "python",
     "metadata": {},
     "outputs": [],
     "prompt_number": 2
    },
    {
     "cell_type": "code",
     "collapsed": false,
     "input": [
      "%pylab inline"
     ],
     "language": "python",
     "metadata": {},
     "outputs": [
      {
       "output_type": "stream",
       "stream": "stdout",
       "text": [
        "Populating the interactive namespace from numpy and matplotlib\n"
       ]
      }
     ],
     "prompt_number": 3
    },
    {
     "cell_type": "markdown",
     "metadata": {},
     "source": [
      "# Acquisition"
     ]
    },
    {
     "cell_type": "raw",
     "metadata": {},
     "source": [
      "#http://bit.ly/gamoviedata"
     ]
    },
    {
     "cell_type": "code",
     "collapsed": false,
     "input": [
      "pd.read_table?"
     ],
     "language": "python",
     "metadata": {},
     "outputs": [],
     "prompt_number": 8
    },
    {
     "cell_type": "code",
     "collapsed": true,
     "input": [
      "data = pd.read_table(\"http://bit.ly/gamoviedata\",header=None)"
     ],
     "language": "python",
     "metadata": {},
     "outputs": [],
     "prompt_number": 4
    },
    {
     "cell_type": "markdown",
     "metadata": {},
     "source": [
      "# Cleaning"
     ]
    },
    {
     "cell_type": "code",
     "collapsed": false,
     "input": [
      "data.to_csv(\"movies_version01.csv\")"
     ],
     "language": "python",
     "metadata": {},
     "outputs": [],
     "prompt_number": 5
    },
    {
     "cell_type": "code",
     "collapsed": false,
     "input": [
      "data.head(1)"
     ],
     "language": "python",
     "metadata": {},
     "outputs": [
      {
       "html": [
        "<div style=\"max-height:1000px;max-width:1500px;overflow:auto;\">\n",
        "<table border=\"1\" class=\"dataframe\">\n",
        "  <thead>\n",
        "    <tr style=\"text-align: right;\">\n",
        "      <th></th>\n",
        "      <th>0</th>\n",
        "      <th>1</th>\n",
        "      <th>2</th>\n",
        "      <th>3</th>\n",
        "      <th>4</th>\n",
        "      <th>5</th>\n",
        "      <th>6</th>\n",
        "    </tr>\n",
        "  </thead>\n",
        "  <tbody>\n",
        "    <tr>\n",
        "      <th>0</th>\n",
        "      <td> tt0111161</td>\n",
        "      <td> The Shawshank Redemption (1994)</td>\n",
        "      <td> 1994</td>\n",
        "      <td> 9.2</td>\n",
        "      <td> 619479</td>\n",
        "      <td> 142 mins.</td>\n",
        "      <td> Crime|Drama</td>\n",
        "    </tr>\n",
        "  </tbody>\n",
        "</table>\n",
        "</div>"
       ],
       "metadata": {},
       "output_type": "pyout",
       "prompt_number": 6,
       "text": [
        "           0                                1     2    3       4          5  \\\n",
        "0  tt0111161  The Shawshank Redemption (1994)  1994  9.2  619479  142 mins.   \n",
        "\n",
        "             6  \n",
        "0  Crime|Drama  "
       ]
      }
     ],
     "prompt_number": 6
    },
    {
     "cell_type": "code",
     "collapsed": false,
     "input": [
      "column_names = ['ID1','title','year','rating','ID2','duration','genres']"
     ],
     "language": "python",
     "metadata": {},
     "outputs": [],
     "prompt_number": 7
    },
    {
     "cell_type": "code",
     "collapsed": false,
     "input": [
      "data.columns = column_names"
     ],
     "language": "python",
     "metadata": {},
     "outputs": [],
     "prompt_number": 8
    },
    {
     "cell_type": "code",
     "collapsed": false,
     "input": [
      "# Take a representative of the column\n",
      "x = data.title[2]"
     ],
     "language": "python",
     "metadata": {},
     "outputs": [],
     "prompt_number": 37
    },
    {
     "cell_type": "code",
     "collapsed": false,
     "input": [
      "data.title = data.title.apply(lambda y : y.split('(')[0])"
     ],
     "language": "python",
     "metadata": {},
     "outputs": [],
     "prompt_number": 10
    },
    {
     "cell_type": "code",
     "collapsed": false,
     "input": [
      "data.duration = data.duration.apply(lambda y : y.split(\" \")[0])"
     ],
     "language": "python",
     "metadata": {},
     "outputs": [],
     "prompt_number": 13
    },
    {
     "cell_type": "code",
     "collapsed": false,
     "input": [
      "data = data.dropna()"
     ],
     "language": "python",
     "metadata": {},
     "outputs": [],
     "prompt_number": 14
    },
    {
     "cell_type": "code",
     "collapsed": false,
     "input": [
      "# Creating the set of unique genres\n",
      "genresset = set()\n",
      "\n",
      "for m in data.genres:\n",
      "    genresset.update(g for g in m.split('|'))\n"
     ],
     "language": "python",
     "metadata": {},
     "outputs": [],
     "prompt_number": 15
    },
    {
     "cell_type": "code",
     "collapsed": false,
     "input": [
      "#TODO\n",
      "# Homework: Explain this line\n",
      "\n",
      "for genre in genresset:\n",
      "    data[genre] = [genre in movie.split('|') for movie in data.genres]"
     ],
     "language": "python",
     "metadata": {},
     "outputs": [],
     "prompt_number": 16
    },
    {
     "cell_type": "code",
     "collapsed": false,
     "input": [
      "data.head()"
     ],
     "language": "python",
     "metadata": {},
     "outputs": [
      {
       "html": [
        "<div style=\"max-height:1000px;max-width:1500px;overflow:auto;\">\n",
        "<table border=\"1\" class=\"dataframe\">\n",
        "  <thead>\n",
        "    <tr style=\"text-align: right;\">\n",
        "      <th></th>\n",
        "      <th>ID1</th>\n",
        "      <th>title</th>\n",
        "      <th>year</th>\n",
        "      <th>rating</th>\n",
        "      <th>ID2</th>\n",
        "      <th>duration</th>\n",
        "      <th>genres</th>\n",
        "      <th>Sci-Fi</th>\n",
        "      <th>Crime</th>\n",
        "      <th>Romance</th>\n",
        "      <th>...</th>\n",
        "      <th>Mystery</th>\n",
        "      <th>Drama</th>\n",
        "      <th>Action</th>\n",
        "      <th>Musical</th>\n",
        "      <th>History</th>\n",
        "      <th>Family</th>\n",
        "      <th>Adventure</th>\n",
        "      <th>Fantasy</th>\n",
        "      <th>Sport</th>\n",
        "      <th>Biography</th>\n",
        "    </tr>\n",
        "  </thead>\n",
        "  <tbody>\n",
        "    <tr>\n",
        "      <th>0</th>\n",
        "      <td> tt0111161</td>\n",
        "      <td> The Shawshank Redemption </td>\n",
        "      <td> 1994</td>\n",
        "      <td> 9.2</td>\n",
        "      <td> 619479</td>\n",
        "      <td> 142</td>\n",
        "      <td>                      Crime|Drama</td>\n",
        "      <td> False</td>\n",
        "      <td>  True</td>\n",
        "      <td> False</td>\n",
        "      <td>...</td>\n",
        "      <td> False</td>\n",
        "      <td>  True</td>\n",
        "      <td> False</td>\n",
        "      <td> False</td>\n",
        "      <td> False</td>\n",
        "      <td> False</td>\n",
        "      <td> False</td>\n",
        "      <td> False</td>\n",
        "      <td> False</td>\n",
        "      <td> False</td>\n",
        "    </tr>\n",
        "    <tr>\n",
        "      <th>1</th>\n",
        "      <td> tt0110912</td>\n",
        "      <td>             Pulp Fiction </td>\n",
        "      <td> 1994</td>\n",
        "      <td> 9.0</td>\n",
        "      <td> 490065</td>\n",
        "      <td> 154</td>\n",
        "      <td>                   Crime|Thriller</td>\n",
        "      <td> False</td>\n",
        "      <td>  True</td>\n",
        "      <td> False</td>\n",
        "      <td>...</td>\n",
        "      <td> False</td>\n",
        "      <td> False</td>\n",
        "      <td> False</td>\n",
        "      <td> False</td>\n",
        "      <td> False</td>\n",
        "      <td> False</td>\n",
        "      <td> False</td>\n",
        "      <td> False</td>\n",
        "      <td> False</td>\n",
        "      <td> False</td>\n",
        "    </tr>\n",
        "    <tr>\n",
        "      <th>2</th>\n",
        "      <td> tt0137523</td>\n",
        "      <td>               Fight Club </td>\n",
        "      <td> 1999</td>\n",
        "      <td> 8.8</td>\n",
        "      <td> 458173</td>\n",
        "      <td> 139</td>\n",
        "      <td>           Drama|Mystery|Thriller</td>\n",
        "      <td> False</td>\n",
        "      <td> False</td>\n",
        "      <td> False</td>\n",
        "      <td>...</td>\n",
        "      <td>  True</td>\n",
        "      <td>  True</td>\n",
        "      <td> False</td>\n",
        "      <td> False</td>\n",
        "      <td> False</td>\n",
        "      <td> False</td>\n",
        "      <td> False</td>\n",
        "      <td> False</td>\n",
        "      <td> False</td>\n",
        "      <td> False</td>\n",
        "    </tr>\n",
        "    <tr>\n",
        "      <th>3</th>\n",
        "      <td> tt0133093</td>\n",
        "      <td>               The Matrix </td>\n",
        "      <td> 1999</td>\n",
        "      <td> 8.7</td>\n",
        "      <td> 448114</td>\n",
        "      <td> 136</td>\n",
        "      <td>          Action|Adventure|Sci-Fi</td>\n",
        "      <td>  True</td>\n",
        "      <td> False</td>\n",
        "      <td> False</td>\n",
        "      <td>...</td>\n",
        "      <td> False</td>\n",
        "      <td> False</td>\n",
        "      <td>  True</td>\n",
        "      <td> False</td>\n",
        "      <td> False</td>\n",
        "      <td> False</td>\n",
        "      <td>  True</td>\n",
        "      <td> False</td>\n",
        "      <td> False</td>\n",
        "      <td> False</td>\n",
        "    </tr>\n",
        "    <tr>\n",
        "      <th>4</th>\n",
        "      <td> tt1375666</td>\n",
        "      <td>                Inception </td>\n",
        "      <td> 2010</td>\n",
        "      <td> 8.9</td>\n",
        "      <td> 385149</td>\n",
        "      <td> 148</td>\n",
        "      <td> Action|Adventure|Sci-Fi|Thriller</td>\n",
        "      <td>  True</td>\n",
        "      <td> False</td>\n",
        "      <td> False</td>\n",
        "      <td>...</td>\n",
        "      <td> False</td>\n",
        "      <td> False</td>\n",
        "      <td>  True</td>\n",
        "      <td> False</td>\n",
        "      <td> False</td>\n",
        "      <td> False</td>\n",
        "      <td>  True</td>\n",
        "      <td> False</td>\n",
        "      <td> False</td>\n",
        "      <td> False</td>\n",
        "    </tr>\n",
        "  </tbody>\n",
        "</table>\n",
        "<p>5 rows \u00d7 31 columns</p>\n",
        "</div>"
       ],
       "metadata": {},
       "output_type": "pyout",
       "prompt_number": 17,
       "text": [
        "         ID1                      title  year  rating     ID2 duration  \\\n",
        "0  tt0111161  The Shawshank Redemption   1994     9.2  619479      142   \n",
        "1  tt0110912              Pulp Fiction   1994     9.0  490065      154   \n",
        "2  tt0137523                Fight Club   1999     8.8  458173      139   \n",
        "3  tt0133093                The Matrix   1999     8.7  448114      136   \n",
        "4  tt1375666                 Inception   2010     8.9  385149      148   \n",
        "\n",
        "                             genres Sci-Fi  Crime Romance   ...   Mystery  \\\n",
        "0                       Crime|Drama  False   True   False   ...     False   \n",
        "1                    Crime|Thriller  False   True   False   ...     False   \n",
        "2            Drama|Mystery|Thriller  False  False   False   ...      True   \n",
        "3           Action|Adventure|Sci-Fi   True  False   False   ...     False   \n",
        "4  Action|Adventure|Sci-Fi|Thriller   True  False   False   ...     False   \n",
        "\n",
        "   Drama Action Musical History Family Adventure Fantasy  Sport Biography  \n",
        "0   True  False   False   False  False     False   False  False     False  \n",
        "1  False  False   False   False  False     False   False  False     False  \n",
        "2   True  False   False   False  False     False   False  False     False  \n",
        "3  False   True   False   False  False      True   False  False     False  \n",
        "4  False   True   False   False  False      True   False  False     False  \n",
        "\n",
        "[5 rows x 31 columns]"
       ]
      }
     ],
     "prompt_number": 17
    },
    {
     "cell_type": "code",
     "collapsed": false,
     "input": [
      "# Conver data duration to integer\n",
      "data.duration = data.duration.apply(lambda y : int(y))"
     ],
     "language": "python",
     "metadata": {},
     "outputs": [],
     "prompt_number": 18
    },
    {
     "cell_type": "markdown",
     "metadata": {},
     "source": [
      "# Exploring\n",
      "\n"
     ]
    },
    {
     "cell_type": "code",
     "collapsed": false,
     "input": [
      "# more movies in recent years, but not *very* recent movies (they haven't had time to receive lots of votes yet?)\n",
      "fig,ax1 = plt.subplots(1,1)\n",
      "ax1.hist(data.year,bins=np.arange(1950, 2013))\n",
      "ax1.set_title('Movie Releases by Year')\n",
      "ax1.set_xlabel('Release Year')"
     ],
     "language": "python",
     "metadata": {},
     "outputs": [
      {
       "metadata": {},
       "output_type": "pyout",
       "prompt_number": 20,
       "text": [
        "<matplotlib.text.Text at 0x108205190>"
       ]
      },
      {
       "metadata": {},
       "output_type": "display_data",
       "png": "[encoded data removed]",
       "text": [
        "<matplotlib.figure.Figure at 0x1052bbf50>"
       ]
      }
     ],
     "prompt_number": 20
    },
    {
     "cell_type": "code",
     "collapsed": false,
     "input": [
      "# Cover to datetime\n",
      "from datetime import datetime\n",
      "data.year = data.year.apply(lambda y: datetime.strptime(str(y), '%Y').year)"
     ],
     "language": "python",
     "metadata": {},
     "outputs": [],
     "prompt_number": 21
    },
    {
     "cell_type": "code",
     "collapsed": false,
     "input": [
      "fig,ax1 = plt.subplots(1,1)\n",
      "ax1.hist(data.score, bins=20)\n",
      "\n",
      "ax1.set_title('Movie Rating Frequency')\n",
      "ax1.set_xlabel(\"IMDB rating\")"
     ],
     "language": "python",
     "metadata": {},
     "outputs": []
    },
    {
     "cell_type": "code",
     "collapsed": false,
     "input": [
      "\n",
      "plt.hist(data.runtime.dropna(), bins=50)\n",
      "plt.xlabel(\"Movie Run Time\")\n",
      "plt.ylabel(\"Number of Movies\")\n",
      "plt.title('Number of Movies per Run Times')"
     ],
     "language": "python",
     "metadata": {},
     "outputs": []
    },
    {
     "cell_type": "code",
     "collapsed": false,
     "input": [
      "#hmm, more bad, recent movies. Real, or a selection bias?\n",
      "plt.figure(figsize=(10,5))\n",
      "plt.scatter(data.year, data.score, lw=0, alpha=.05)\n",
      "plt.xlabel(\"Year\")\n",
      "plt.ylabel(\"Score\")\n",
      "plt.title(\"Rating over time\",fontsize='15')\n"
     ],
     "language": "python",
     "metadata": {},
     "outputs": []
    },
    {
     "cell_type": "code",
     "collapsed": false,
     "input": [
      "plt.figure(figsize=(10,5))\n",
      "plt.scatter(data.votes, data.score, lw=0, alpha=.1)\n",
      "plt.xlabel(\"Number of Votes\")\n",
      "plt.ylabel(\"IMDB Rating\")\n",
      "plt.title(\"Votes vs. Ratings\",fontsize='x-large')\n",
      "plt.xscale('log')"
     ],
     "language": "python",
     "metadata": {},
     "outputs": []
    },
    {
     "cell_type": "code",
     "collapsed": false,
     "input": [],
     "language": "python",
     "metadata": {},
     "outputs": []
    },
    {
     "cell_type": "markdown",
     "metadata": {},
     "source": [
      "# Summarizing"
     ]
    },
    {
     "cell_type": "code",
     "collapsed": false,
     "input": [
      "#http://bit.ly/gamoviedata"
     ],
     "language": "python",
     "metadata": {},
     "outputs": []
    }
   ],
   "metadata": {}
  }
 ]
}