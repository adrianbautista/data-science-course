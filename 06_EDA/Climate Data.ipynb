{
 "metadata": {
  "name": "",
  "signature": "sha256:ea15e092b73cb93217ce4b1a029bcd4dd09d9018314976da0381d3025f7ca3cb"
 },
 "nbformat": 3,
 "nbformat_minor": 0,
 "worksheets": [
  {
   "cells": [
    {
     "cell_type": "markdown",
     "metadata": {},
     "source": [
      "http://data.worldbank.org/topic/climate-change"
     ]
    }
   ],
   "metadata": {}
  }
 ]
}