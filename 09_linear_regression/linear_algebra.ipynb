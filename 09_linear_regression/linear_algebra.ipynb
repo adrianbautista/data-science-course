{
 "metadata": {
  "name": "",
  "signature": "sha256:1450981a9759794d057adfbdad69a8a5f154146a02abd0eeca22b6b6b35d44f0"
 },
 "nbformat": 3,
 "nbformat_minor": 0,
 "worksheets": [
  {
   "cells": [
    {
     "cell_type": "markdown",
     "metadata": {},
     "source": [
      "# Linear Algebra"
     ]
    },
    {
     "cell_type": "markdown",
     "metadata": {},
     "source": [
      "> If people do not believe that mathematics is simple, it is only because they do not realize how complicated life is\n",
      "\n",
      "<footer>~ John von Neumann, 1947 ACM keynote</footer>"
     ]
    },
    {
     "cell_type": "markdown",
     "metadata": {},
     "source": [
      "1. Linear Algebra Review\n",
      "1. The Python Control Flow\n",
      "\n",
      "**Labs** :\n",
      "1. Matrix Multiplication In Python\n",
      "1. Adding Control Flow Into Clicks Aggregation"
     ]
    },
    {
     "cell_type": "heading",
     "level": 2,
     "metadata": {},
     "source": [
      "Linear Algebra Review"
     ]
    },
    {
     "cell_type": "markdown",
     "metadata": {},
     "source": [
      "In order to best understand most machine learning algorithms, we need some basis of linear algebra.\n",
      "\n",
      "> Linear algebra is best defined as mathematics in the multidimensional space and the mapping between said spaces."
     ]
    },
    {
     "cell_type": "markdown",
     "metadata": {},
     "source": [
      "### For Example"
     ]
    },
    {
     "cell_type": "markdown",
     "metadata": {},
     "source": [
      "$$y = mx + b$$"
     ]
    },
    {
     "cell_type": "markdown",
     "metadata": {},
     "source": [
      "$$y = m_{1}x_{1} + m_{2}x_{2} + b$$"
     ]
    },
    {
     "cell_type": "markdown",
     "metadata": {},
     "source": [
      "$$y = m_{1}x_{1} + m_{2}x_{2} + m_{3}x_{3} + m_{4}x_{4} + b$$"
     ]
    },
    {
     "cell_type": "markdown",
     "metadata": {},
     "source": [
      "$$y = m_{1}x_{1} + m_{2}x_{2} + m_{3}x_{3} + m_{4}x_{4} + m_{5}x_{5} + m_{6}x_{6} + m_{7}x_{7} + m_{8}x_{8} + m_{9}x_{9} + m_{10}x_{10} + b$$"
     ]
    },
    {
     "cell_type": "heading",
     "level": 3,
     "metadata": {},
     "source": [
      "Matrices"
     ]
    },
    {
     "cell_type": "markdown",
     "metadata": {},
     "source": [
      "> Matrices are an array of real numbers with m rows and n columns\n",
      "\n",
      "Each value in a matrix is called an entry."
     ]
    },
    {
     "cell_type": "markdown",
     "metadata": {},
     "source": [
      "$$\\begin{bmatrix}1 & 5 & 8 & 7\\\\2 & 1 & 3 & 6\\\\3 & 5 & 1 & 0\\\\4 & 6 & 0 & 1\\end{bmatrix}$$"
     ]
    },
    {
     "cell_type": "markdown",
     "metadata": {},
     "source": [
      "$A_{21}$ in the given matrix, refers to the entry on the 2nd row, in the 1st column. The value is 2. "
     ]
    },
    {
     "cell_type": "heading",
     "level": 3,
     "metadata": {},
     "source": [
      "Vectors"
     ]
    },
    {
     "cell_type": "markdown",
     "metadata": {},
     "source": [
      "> Vectors are a special kind of matrix, as they only consist of one dimension of real numbers.\n",
      "\n",
      "These look most like a numeric array (or **list**) in Python.\n",
      "\n",
      "$$\\begin{bmatrix}1 & 3 & 9 & 2\\end{bmatrix}$$\n",
      "\n",
      "Likewise, you can refer to each index or value similarly (`a[0]` in Python is the same entity as 0 in vector a)"
     ]
    },
    {
     "cell_type": "heading",
     "level": 3,
     "metadata": {},
     "source": [
      "Handling"
     ]
    },
    {
     "cell_type": "markdown",
     "metadata": {},
     "source": [
      "**Rule 1!**\n",
      "\n",
      "Matrices can be added together only when they are the same size. If they are not the same size, their sum is **undefined**.\n",
      "\n",
      "$$\\begin{bmatrix}1 & 3 & 9 & 2\\end{bmatrix} + \\begin{bmatrix}2 & 5 & 9 & 4\\end{bmatrix} = \n",
      "\\begin{bmatrix}3 & 8 & 18 & 6\\end{bmatrix} $$\n",
      "\n"
     ]
    },
    {
     "cell_type": "markdown",
     "metadata": {},
     "source": [
      "$$\\begin{bmatrix}8 & 72 & 3 & 1\\end{bmatrix} + \\begin{bmatrix}17 & 55 & 3 & 10\\end{bmatrix} = \n",
      " \\ ? $$"
     ]
    },
    {
     "cell_type": "markdown",
     "metadata": {},
     "source": [
      "**Rule 2!**\n",
      "\n",
      "Matrices can be multiplied by a scalar (single entity) value.\n",
      "\n",
      "> Each value in the matrix is multiplied by the scalar value.\n"
     ]
    },
    {
     "cell_type": "markdown",
     "metadata": {},
     "source": [
      "$$\\begin{bmatrix}1 & 3 & 9 & 2\\end{bmatrix} * 3 =\n",
      "\\begin{bmatrix}3 & 9 & 27 & 6\\end{bmatrix} $$\n"
     ]
    },
    {
     "cell_type": "markdown",
     "metadata": {},
     "source": [
      "$$\\begin{bmatrix}8 & 72 & 3 & 1\\end{bmatrix} * 2 = \\ ? $$\n"
     ]
    },
    {
     "cell_type": "markdown",
     "metadata": {},
     "source": [
      "**Rule 3!**\n",
      "\n",
      "Matrices and vectors can be multiplied together given that the matrix columns are as wide as the vector is long. \n",
      "\n",
      "> The result will always be a vector."
     ]
    },
    {
     "cell_type": "markdown",
     "metadata": {},
     "source": [
      "$$\\begin{bmatrix}1 & 3 & 9 & 2\\\\2 & 4 & 6 & 8\\end{bmatrix} * \\begin{bmatrix}2 \\\\ 3 \\\\ 6 \\\\ 5  \\end{bmatrix} = \\begin{matrix} 2 + 9 + 54 + 10 \\\\ 4 + 12 + 36 + 40 \\end{matrix} = \\begin{bmatrix} 75 \\\\ 92 \\end{bmatrix}$$"
     ]
    },
    {
     "cell_type": "markdown",
     "metadata": {},
     "source": [
      "**Rule 4!**\n",
      "\n",
      "Matrices can be multiplied together using the same rules that we have from matrix-vector multiplication.\n",
      "\n",
      "> The result will always be a matrix."
     ]
    },
    {
     "cell_type": "markdown",
     "metadata": {},
     "source": [
      "$$\\begin{bmatrix}1 & 3 & 9 & 2\\\\2 & 4 & 6 & 8\\end{bmatrix} * \\begin{bmatrix}2 & 1 \\\\ 3 & 2 \\\\ 6 & 0 \\\\ 5 & 4 \\end{bmatrix} = \\begin{matrix} 2 + 9 + 54 + 10 \\\\ 4 + 12 + 36 + 40 \\\\ 1 + 6 + 0 + 8 \\\\ 2 + 8 + 0 + 32\\end{matrix} = \\begin{bmatrix} 75 & 15 \\\\ 92 & 42 \\end{bmatrix}$$\n"
     ]
    },
    {
     "cell_type": "heading",
     "level": 3,
     "metadata": {},
     "source": [
      "That Was Fast... Why Does This Matter?"
     ]
    },
    {
     "cell_type": "markdown",
     "metadata": {},
     "source": [
      "Matrices represent the multiple dimensions in our data! If we had a vector that suggested how important each dimension of our data was, we could use that to find our best **linear model**."
     ]
    },
    {
     "cell_type": "markdown",
     "metadata": {},
     "source": [
      "We will see matrices quite often in **all** of our data, so pay careful attention to how data is structured and how different algorithms interact with them."
     ]
    },
    {
     "cell_type": "heading",
     "level": 2,
     "metadata": {},
     "source": [
      "Lab: Matrix Addition In Python"
     ]
    },
    {
     "cell_type": "markdown",
     "metadata": {},
     "source": [
      "* Build some basic linear algebra functions\n",
      "* Improve comfort with flow patterns\n",
      "* Explore list comprehensions"
     ]
    },
    {
     "cell_type": "heading",
     "level": 3,
     "metadata": {},
     "source": [
      "Practice: Linear Algebra"
     ]
    },
    {
     "cell_type": "markdown",
     "metadata": {},
     "source": [
      "Primarily let's focus on some of the concrete components we talked about in class"
     ]
    },
    {
     "cell_type": "heading",
     "level": 2,
     "metadata": {},
     "source": [
      "Resources"
     ]
    },
    {
     "cell_type": "markdown",
     "metadata": {},
     "source": [
      "#### Mathematics\n",
      "[Great review on Linear Algebra](http://cs229.stanford.edu/section/cs229-linalg.pdf)\n",
      "\n",
      "#### Machine Learning\n",
      "[Early learning on its application to linear models](http://dept.stat.lsa.umich.edu/~kshedden/Courses/Stat401/Notes/401-multreg.pdf)\n",
      "\n",
      "#### Code\n",
      "[A Matrix Class implemented in pure python](http://code.activestate.com/recipes/189971-basic-linear-algebra-matrix/)\n"
     ]
    }
   ],
   "metadata": {}
  }
 ]
}