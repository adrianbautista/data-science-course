{
 "metadata": {
  "name": "",
  "signature": "sha256:ab6151977c80a33f40d2a5fd1fe9294e73261686308b0225e688a03671f01293"
 },
 "nbformat": 3,
 "nbformat_minor": 0,
 "worksheets": [
  {
   "cells": [
    {
     "cell_type": "markdown",
     "metadata": {},
     "source": [
      "# The Linear Regression"
     ]
    },
    {
     "cell_type": "markdown",
     "metadata": {},
     "source": [
      "> Statistics show that of those who contract the habit of eating, very few survive.\n",
      "\n",
      "<footer>~ George Bernard Shaw</footer>"
     ]
    },
    {
     "cell_type": "markdown",
     "metadata": {},
     "source": [
      "1. [Introduction To Regression Data Problems](#Intro-to-Regression-Data-Problems)\n",
      "1. [How Regressions Work](#How-Regressions-Work)\n",
      "1. [Determining Cost](#Cost-Of-Linear-Regressions)\n",
      "\n",
      "**Labs:**\n",
      "1. [Implementing The Linear Model](#Implementing-the-Linear-Regression)\n"
     ]
    },
    {
     "cell_type": "heading",
     "level": 2,
     "metadata": {},
     "source": [
      "Intro to Regression Data Problems"
     ]
    },
    {
     "cell_type": "markdown",
     "metadata": {},
     "source": [
      "|   \t|continuous\t|categorical   \t|\n",
      "|:-:\t|:-:\t|:-:\t|\n",
      "|**supervised**   \t|**regression**   \t|classification   \t|\n",
      "|**unsupervised**   \t|dimension reduction   \t|clustering   \t|"
     ]
    },
    {
     "cell_type": "markdown",
     "metadata": {},
     "source": [
      "A regression model is a functional relationship between input & response\n",
      "variables.\n",
      "\n",
      "The **simple linear regression** model captures a linear relationship between a single input variable x and a response variable y:"
     ]
    },
    {
     "cell_type": "markdown",
     "metadata": {},
     "source": [
      "$$y = \u03b1+\u03b2x+\u03b5$$"
     ]
    },
    {
     "cell_type": "markdown",
     "metadata": {},
     "source": [
      "* $y$ = response variable (the one we want to predict)\n",
      "* $x$ = input variable (the one we use to train the model)\n",
      "* $\u03b1$ = intercept (where the line crosses the y-axis)\n",
      "* $\u03b2$ = regression coefficient (the model \u201cparameter\u201d)\n",
      "* $\u03b5$ = residual (the prediction error)"
     ]
    },
    {
     "cell_type": "markdown",
     "metadata": {},
     "source": [
      "We can extend this model to several input variables, giving us the multiple linear regression model:"
     ]
    },
    {
     "cell_type": "markdown",
     "metadata": {},
     "source": [
      "$$y = \u03b1 + \u03b2_1x_1 + ... + \u03b2_nx_n + \u03b5$$"
     ]
    },
    {
     "cell_type": "markdown",
     "metadata": {},
     "source": [
      "Linear regression involves several technical assumptions and is often presented with lots of mathematical formality.\n",
      "\n",
      "In order for us to gain a deeper understanding of the \u201cmagic\u201d behind a regression (and to see why we want a machine to do this!), let\u2019s review the math behind this algorithm!"
     ]
    },
    {
     "cell_type": "heading",
     "level": 2,
     "metadata": {},
     "source": [
      "How Regression Works"
     ]
    },
    {
     "cell_type": "markdown",
     "metadata": {},
     "source": [
      "Linear regression is, for the most part, just matrix algebra (the stuff we did already!)\n",
      "\n",
      "Let\u2019s go over the math by hand so we can understand how we determine the regression coefficient."
     ]
    },
    {
     "cell_type": "markdown",
     "metadata": {},
     "source": [
      "A linear regression in its simplest form:"
     ]
    },
    {
     "cell_type": "markdown",
     "metadata": {},
     "source": [
      "$$y = \u03b1 + \u03b2x + \u03b5$$"
     ]
    },
    {
     "cell_type": "markdown",
     "metadata": {},
     "source": [
      "but we can assume that our \u03b1 is either 0 or 1, and \u03b5 is zero!"
     ]
    },
    {
     "cell_type": "markdown",
     "metadata": {},
     "source": [
      "$$y = \u03b2x$$"
     ]
    },
    {
     "cell_type": "markdown",
     "metadata": {},
     "source": [
      "but we want to solve for \u03b2, which means our new equation looks more like this:"
     ]
    },
    {
     "cell_type": "markdown",
     "metadata": {},
     "source": [
      "$$\u03b2 = ( X^TX)^{-1} X^Ty$$"
     ]
    },
    {
     "cell_type": "markdown",
     "metadata": {},
     "source": [
      "How did we get there?"
     ]
    },
    {
     "cell_type": "markdown",
     "metadata": {},
     "source": [
      "$$\u03b2 = \\frac{y}x$$"
     ]
    },
    {
     "cell_type": "markdown",
     "metadata": {},
     "source": [
      "That's problematic, as we cannot divide by a matrix! So we first square the matrix."
     ]
    },
    {
     "cell_type": "markdown",
     "metadata": {},
     "source": [
      "$$\\frac{xy}{x^2}$$"
     ]
    },
    {
     "cell_type": "markdown",
     "metadata": {},
     "source": [
      "That's how we avoid division by a matrix"
     ]
    },
    {
     "cell_type": "markdown",
     "metadata": {},
     "source": [
      "$$\\frac{1}{x{^2}} * \\frac{xy}1$$"
     ]
    },
    {
     "cell_type": "markdown",
     "metadata": {},
     "source": [
      "By using inversion; since raising $x$ to the power of negative 1 is equal to $1$ over $x$"
     ]
    },
    {
     "cell_type": "markdown",
     "metadata": {},
     "source": [
      "$$(XX)^{-1}XY$$"
     ]
    },
    {
     "cell_type": "markdown",
     "metadata": {},
     "source": [
      "And finally to make it programmer friendly"
     ]
    },
    {
     "cell_type": "markdown",
     "metadata": {},
     "source": [
      "$$\u03b2 = ( X^TX)^{-1} X^TY$$"
     ]
    },
    {
     "cell_type": "markdown",
     "metadata": {},
     "source": [
      "So if we had data:\n",
      "\n",
      "    Input  Output\n",
      "    3.385  44.5\n",
      "    0.48   15.5\n",
      "    1.35   8.1\n",
      "    465    423\n",
      "    36.33  119.5"
     ]
    },
    {
     "cell_type": "markdown",
     "metadata": {},
     "source": [
      "These would be the steps we moved through"
     ]
    },
    {
     "cell_type": "markdown",
     "metadata": {},
     "source": [
      "$$\u03b2=\\left(\n",
      "    \\begin{array}{r}\n",
      "         \\begin{matrix}\n",
      "             1 & 1 & 1 & 1 & 1 & \\\\\n",
      "             3.385 & 0.48 & 1.35 & 465 & 36.33\n",
      "         \\end{matrix}\n",
      "         \\begin{matrix}\n",
      "            3.385 & 1 & \\\\\n",
      "            0.48 & 1 & \\\\\n",
      "            1.35 & 1 & \\\\\n",
      "            465 & 1 & \\\\\n",
      "            36.33 & 1\n",
      "         \\end{matrix}\n",
      "    \\end{array}\n",
      "  \\right)^{-1}\n",
      "  \\cdots$$"
     ]
    },
    {
     "cell_type": "markdown",
     "metadata": {},
     "source": [
      "$$\u03b2 = ( X^TX)^{-1} \\cdots$$"
     ]
    },
    {
     "cell_type": "markdown",
     "metadata": {},
     "source": [
      "$$\\cdots\n",
      "    \\left(\n",
      "    \\begin{array}{r}\n",
      "         \\begin{matrix}\n",
      "             1 & 1 & 1 & 1 & 1 & \\\\\n",
      "             3.385 & 0.48 & 1.35 & 465 & 36.33\n",
      "         \\end{matrix}\n",
      "         \\begin{matrix}\n",
      "            44.5 & \\\\\n",
      "            15.5 & \\\\\n",
      "            8.1 & \\\\\n",
      "            423 & \\\\\n",
      "            119.5\n",
      "         \\end{matrix}\n",
      "    \\end{array}\n",
      "  \\right)\n",
      "  $$"
     ]
    },
    {
     "cell_type": "markdown",
     "metadata": {},
     "source": [
      "$$ \\cdots X^TY$$"
     ]
    },
    {
     "cell_type": "markdown",
     "metadata": {},
     "source": [
      "$$\u03b2=\\begin{array}{r}\n",
      "         \\begin{bmatrix}\n",
      "            0.2617 & -0.0006 & \\\\\n",
      "            -0.0006 & 0.000006\n",
      "         \\end{bmatrix}\n",
      "         \\begin{bmatrix}\n",
      "            610.6 & \\\\\n",
      "            201205.4425\n",
      "         \\end{bmatrix}\n",
      "    \\end{array}\n",
      "$$"
     ]
    },
    {
     "cell_type": "markdown",
     "metadata": {},
     "source": [
      "$$\u03b2 = ( X^TX)^{-1} X^TY$$"
     ]
    },
    {
     "cell_type": "markdown",
     "metadata": {},
     "source": [
      "$$ \\begin{bmatrix}\n",
      "            37.2 & \\\\\n",
      "            0.838\n",
      "         \\end{bmatrix}\n",
      "    = \\begin{array}{r}\n",
      "         \\begin{bmatrix}\n",
      "            0.2617 & -0.0006 & \\\\\n",
      "            -0.0006 & 0.000006\n",
      "         \\end{bmatrix}\n",
      "         \\begin{bmatrix}\n",
      "            610.6 & \\\\\n",
      "            201205.4425\n",
      "         \\end{bmatrix}\n",
      "    \\end{array}\n",
      "$$"
     ]
    },
    {
     "cell_type": "markdown",
     "metadata": {},
     "source": [
      "$$\u03b2 = ( X^TX)^{-1} X^TY$$"
     ]
    },
    {
     "cell_type": "markdown",
     "metadata": {},
     "source": [
      "$$ \\begin{array}{c}\n",
      "            Intercept : 37.2 & \\\\\n",
      "            \u03b2 : 0.838\n",
      "         \\end{array}\n",
      "$$"
     ]
    },
    {
     "cell_type": "markdown",
     "metadata": {},
     "source": [
      "in the example above, we're assuming that there is only one X input, so 0.838 is the coefficient for the X, if there were more X's then [37.2 0.838] would have more elements in the vector"
     ]
    },
    {
     "cell_type": "markdown",
     "metadata": {},
     "source": [
      "**Q: How did we do compared to a computer?**\n",
      "\n",
      "A: Not bad!"
     ]
    },
    {
     "cell_type": "heading",
     "level": 3,
     "metadata": {},
     "source": [
      "Steps in Regression Analysis"
     ]
    },
    {
     "cell_type": "markdown",
     "metadata": {},
     "source": [
      "1. Statement of the Problem \n",
      "1. Selection of Potentially Relevant Variables\n",
      "1. Data Collection \n",
      "1. Model Specification \n",
      "1. Method of Fitting \n",
      "1. Model Fitting \n",
      "1. Model Criticism and Selection"
     ]
    },
    {
     "cell_type": "heading",
     "level": 2,
     "metadata": {},
     "source": [
      "Cost Of Linear Regressions"
     ]
    },
    {
     "cell_type": "markdown",
     "metadata": {},
     "source": [
      "** Q: How do measure error in a linear regression model?**\n",
      "\n",
      "A: In theory, minimize the sum of the squared residuals\n",
      "(**RSS**, or **SSE**).\n"
     ]
    },
    {
     "cell_type": "markdown",
     "metadata": {},
     "source": [
      "$$SST = \\Sigma(y_i-\\bar{y})^2$$\n",
      "$$SSR = \\Sigma(\\hat{y_i}-\\bar{y})^2$$\n",
      "$$SSE = \\Sigma(y_i-\\hat{y_i})^2$$"
     ]
    },
    {
     "cell_type": "markdown",
     "metadata": {},
     "source": [
      "SST = Total Sum of Squared Deviations in $Y$ from its mean $\\hat{y}$"
     ]
    },
    {
     "cell_type": "markdown",
     "metadata": {},
     "source": [
      "SSR = Sum of squares due to regression"
     ]
    },
    {
     "cell_type": "markdown",
     "metadata": {},
     "source": [
      "SSE = Sum of Squared Residiuals"
     ]
    },
    {
     "cell_type": "markdown",
     "metadata": {},
     "source": [
      "In some cases the total sum of squares equals the sum of the two other sums of squares defined above"
     ]
    },
    {
     "cell_type": "markdown",
     "metadata": {},
     "source": [
      "$$SST = SSR + SSE$$"
     ]
    },
    {
     "cell_type": "markdown",
     "metadata": {},
     "source": [
      "In practice, any respectable software can do this for you.\n",
      "\n",
      "In python, we can find this with some quick code."
     ]
    },
    {
     "cell_type": "code",
     "collapsed": false,
     "input": [
      "import numpy as np\n",
      "\n",
      "prediction = np.array([1, 2, 3])\n",
      "actual = np.array([1.12, 1.89, 3.02])\n",
      "\n",
      "np.mean((prediction - actual) ** 2)"
     ],
     "language": "python",
     "metadata": {},
     "outputs": [
      {
       "metadata": {},
       "output_type": "pyout",
       "prompt_number": 29,
       "text": [
        "0.0089666666666666835"
       ]
      }
     ],
     "prompt_number": 29
    },
    {
     "cell_type": "markdown",
     "metadata": {},
     "source": [
      "**Q: How do measure goodness of fit?**\n",
      "\n",
      "A: In theory, we want to maximize $R^2$ (as close to $1$ as possible)."
     ]
    },
    {
     "cell_type": "markdown",
     "metadata": {},
     "source": [
      "$$R = 1 - \\frac{SSE}{SST}$$"
     ]
    },
    {
     "cell_type": "markdown",
     "metadata": {},
     "source": [
      "statsmodels (as well as sklearn) already calculates this for us, as do any other stats packages and programs.\n",
      "\n",
      "If you want to get serious into regression, learn more about the coefficient of determination."
     ]
    },
    {
     "cell_type": "heading",
     "level": 3,
     "metadata": {},
     "source": [
      "Review : Cost"
     ]
    },
    {
     "cell_type": "markdown",
     "metadata": {},
     "source": [
      "1. What values are we looking for when we consider SSE?\n",
      "What is the best value we could potentially have?\n",
      "2. What is the best value we could have for $R^2$ ?\n",
      "3. What\u2019s the primary difference between these two values?"
     ]
    },
    {
     "cell_type": "heading",
     "level": 2,
     "metadata": {},
     "source": [
      "Implementing the Linear Regression"
     ]
    },
    {
     "cell_type": "markdown",
     "metadata": {},
     "source": [
      "* Work through various data and scatterplots\n",
      "* Create linear models with simple relationships (one feature)\n",
      "* Create linear models with multiple features\n",
      "* Evaluate model performance"
     ]
    },
    {
     "cell_type": "code",
     "collapsed": false,
     "input": [
      "%matplotlib inline\n",
      "import pandas as pd\n",
      "import numpy as np\n",
      "import matplotlib.pyplot as plt\n",
      "\n",
      "# Set some Pandas options\n",
      "pd.set_option('max_columns', 30)\n",
      "pd.set_option('max_rows', 20)\n",
      "\n",
      "# Store data in a consistent place\n",
      "DATA_DIR = 'data/'"
     ],
     "language": "python",
     "metadata": {},
     "outputs": [],
     "prompt_number": 30
    },
    {
     "cell_type": "heading",
     "level": 3,
     "metadata": {},
     "source": [
      "Build an incredibly basic linear model class."
     ]
    },
    {
     "cell_type": "code",
     "collapsed": false,
     "input": [
      "from numpy import array, dot\n",
      "from scipy.linalg import inv\n",
      "\n",
      "X = array([ [1.0, 1.0], [1.0, 2.0], [1.0, 3.0], [1.0, 4.0] ])\n",
      "y = array([ [1.0], [2.0], [3.0], [4.0] ])\n",
      "\n",
      "print X\n",
      "print X.T\n",
      "\n",
      "print dot(X.T, X)\n",
      "\n",
      "n = inv(dot(X.T, X))\n",
      "\n",
      "print n\n",
      "\n",
      "k = dot(X.T, y)\n",
      "\n",
      "print k\n",
      "\n",
      "coef_ = dot(n, k)\n",
      "\n",
      "print coef_"
     ],
     "language": "python",
     "metadata": {},
     "outputs": [
      {
       "output_type": "stream",
       "stream": "stdout",
       "text": [
        "[[ 1.  1.]\n",
        " [ 1.  2.]\n",
        " [ 1.  3.]\n",
        " [ 1.  4.]]\n",
        "[[ 1.  1.  1.  1.]\n",
        " [ 1.  2.  3.  4.]]\n",
        "[[  4.  10.]\n",
        " [ 10.  30.]]\n",
        "[[ 1.5 -0.5]\n",
        " [-0.5  0.2]]\n",
        "[[ 10.]\n",
        " [ 30.]]\n",
        "[[ -3.55271368e-15]\n",
        " [  1.00000000e+00]]\n"
       ]
      }
     ],
     "prompt_number": 31
    },
    {
     "cell_type": "markdown",
     "metadata": {},
     "source": [
      "This can all be turned into one relatively simple algorithm, though it is rather limiting in features."
     ]
    },
    {
     "cell_type": "code",
     "collapsed": false,
     "input": [
      "class LinearModel():\n",
      "    def __init__(self):\n",
      "        pass\n",
      "    \n",
      "    def fit(self, X, y):\n",
      "        a = np.linalg.inv(np.dot(X.T, X))  \n",
      "        b = np.dot(X.T, y) # .T comes from np, since they're nparrays they have the transpose method\n",
      "        results = np.dot(a, b)\n",
      "        \n",
      "        self.intercept_, self.coef_ =  results[0], results[1]\n",
      "        self.fitted = True\n",
      "\n",
      "    def predict(self, X):\n",
      "        # Function that predicts new data based on the previous fit generated. Should catch if the model has been fit yet.\n",
      "        if self.fitted:\n",
      "            return np.dot(self.coef_, X[1][0]) + self.intercept_\n",
      "        else:\n",
      "            return 'Cannot predict; missing previous fit.'\n",
      "        \n",
      "# from SciKit learn documentation:\n",
      "# Attributes that have been estimated from the data must always have a name ending with trailing underscore, \n",
      "# for example the coefficients of some regression estimator would be stored in a coef_ attribute after fit has been called.\n",
      "\n",
      "lm = LinearModel()\n",
      "lm.fit(X, y)\n",
      "print lm.coef_\n",
      "print lm.intercept_\n",
      "print X\n",
      "\n",
      "print lm.predict(X)"
     ],
     "language": "python",
     "metadata": {},
     "outputs": [
      {
       "output_type": "stream",
       "stream": "stdout",
       "text": [
        "[ 1.]\n",
        "[ 0.]\n",
        "[[ 1.  1.]\n",
        " [ 1.  2.]\n",
        " [ 1.  3.]\n",
        " [ 1.  4.]]\n",
        "[ 1.]\n"
       ]
      }
     ],
     "prompt_number": 32
    },
    {
     "cell_type": "heading",
     "level": 3,
     "metadata": {},
     "source": [
      "Practice: Plotting Data"
     ]
    },
    {
     "cell_type": "markdown",
     "metadata": {},
     "source": [
      "We're gonna start by playing with data about mammals brain and body size. \n",
      "\n",
      "Use the gist [link](https://gist.github.com/tijptjik/2f6307ee4d192ce8927b\n",
      ") and find the \"< >\" button to get the actual raw data file.\n",
      "\n",
      "Lets load the data into pandas and generate a scatterplot:"
     ]
    },
    {
     "cell_type": "code",
     "collapsed": false,
     "input": [
      "!curl https://gist.githubusercontent.com/tijptjik/2f6307ee4d192ce8927b/raw/c56f694bf4e7bbeeec92e24d33a8f49f7da37be8/mammals.csv > data/mammals.csv   "
     ],
     "language": "python",
     "metadata": {},
     "outputs": [
      {
       "output_type": "stream",
       "stream": "stdout",
       "text": [
        "  % Total    % Received % Xferd  Average Speed   Time    Time     Time  Current\r\n",
        "                                 Dload  Upload   Total   Spent    Left  Speed\r\n",
        "\r",
        "  0     0    0     0    0     0      0      0 --:--:-- --:--:-- --:--:--     0"
       ]
      },
      {
       "output_type": "stream",
       "stream": "stdout",
       "text": [
        "\r",
        "100  1402    0  1402    0     0   7999      0 --:--:-- --:--:-- --:--:--  8011\r\n"
       ]
      }
     ],
     "prompt_number": 33
    },
    {
     "cell_type": "code",
     "collapsed": false,
     "input": [
      "mammals = pd.read_csv(DATA_DIR + 'mammals.csv')\n",
      "mammals.describe()"
     ],
     "language": "python",
     "metadata": {},
     "outputs": [
      {
       "html": [
        "<div style=\"max-height:1000px;max-width:1500px;overflow:auto;\">\n",
        "<table border=\"1\" class=\"dataframe\">\n",
        "  <thead>\n",
        "    <tr style=\"text-align: right;\">\n",
        "      <th></th>\n",
        "      <th>body</th>\n",
        "      <th>brain</th>\n",
        "    </tr>\n",
        "  </thead>\n",
        "  <tbody>\n",
        "    <tr>\n",
        "      <th>count</th>\n",
        "      <td>   62.000000</td>\n",
        "      <td>   62.000000</td>\n",
        "    </tr>\n",
        "    <tr>\n",
        "      <th>mean</th>\n",
        "      <td>  198.789984</td>\n",
        "      <td>  283.134194</td>\n",
        "    </tr>\n",
        "    <tr>\n",
        "      <th>std</th>\n",
        "      <td>  899.158011</td>\n",
        "      <td>  930.278942</td>\n",
        "    </tr>\n",
        "    <tr>\n",
        "      <th>min</th>\n",
        "      <td>    0.005000</td>\n",
        "      <td>    0.140000</td>\n",
        "    </tr>\n",
        "    <tr>\n",
        "      <th>25%</th>\n",
        "      <td>    0.600000</td>\n",
        "      <td>    4.250000</td>\n",
        "    </tr>\n",
        "    <tr>\n",
        "      <th>50%</th>\n",
        "      <td>    3.342500</td>\n",
        "      <td>   17.250000</td>\n",
        "    </tr>\n",
        "    <tr>\n",
        "      <th>75%</th>\n",
        "      <td>   48.202500</td>\n",
        "      <td>  166.000000</td>\n",
        "    </tr>\n",
        "    <tr>\n",
        "      <th>max</th>\n",
        "      <td> 6654.000000</td>\n",
        "      <td> 5712.000000</td>\n",
        "    </tr>\n",
        "  </tbody>\n",
        "</table>\n",
        "</div>"
       ],
       "metadata": {},
       "output_type": "pyout",
       "prompt_number": 34,
       "text": [
        "              body        brain\n",
        "count    62.000000    62.000000\n",
        "mean    198.789984   283.134194\n",
        "std     899.158011   930.278942\n",
        "min       0.005000     0.140000\n",
        "25%       0.600000     4.250000\n",
        "50%       3.342500    17.250000\n",
        "75%      48.202500   166.000000\n",
        "max    6654.000000  5712.000000"
       ]
      }
     ],
     "prompt_number": 34
    },
    {
     "cell_type": "code",
     "collapsed": false,
     "input": [
      "plt.figure(figsize=(20,8))\n",
      "plt.scatter(mammals['body'], mammals['brain'])\n",
      "plt.show()"
     ],
     "language": "python",
     "metadata": {},
     "outputs": [
      {
       "metadata": {},
       "output_type": "display_data",
       "png": "[encoded data removed]",
       "text": [
        "<matplotlib.figure.Figure at 0x114b06b90>"
       ]
      }
     ],
     "prompt_number": 35
    },
    {
     "cell_type": "code",
     "collapsed": false,
     "input": [
      "plt.figure(figsize=(20,8))\n",
      "plt.hist(mammals['body'], bins=range(0, 10000, 100))\n",
      "plt.show()"
     ],
     "language": "python",
     "metadata": {},
     "outputs": [
      {
       "metadata": {},
       "output_type": "display_data",
       "png": "[encoded data removed]",
       "text": [
        "<matplotlib.figure.Figure at 0x117123910>"
       ]
      }
     ],
     "prompt_number": 36
    },
    {
     "cell_type": "code",
     "collapsed": false,
     "input": [
      "plt.figure(figsize=(20,8))\n",
      "plt.hist(mammals['brain'], bins=range(0, 10000, 100))\n",
      "plt.show()"
     ],
     "language": "python",
     "metadata": {},
     "outputs": [
      {
       "metadata": {},
       "output_type": "display_data",
       "png": "[encoded data removed]",
       "text": [
        "<matplotlib.figure.Figure at 0x1170e28d0>"
       ]
      }
     ],
     "prompt_number": 37
    },
    {
     "cell_type": "markdown",
     "metadata": {},
     "source": [
      "For the most part, we know that this data is a _long tail_ distribution, so we could take the log of each feature to create something that is not just more readable, but new features that could be a better representation of the data!\n"
     ]
    },
    {
     "cell_type": "code",
     "collapsed": false,
     "input": [
      "from numpy import log\n",
      "plt.figure(figsize=(20,8))\n",
      "\n",
      "mammals['log_body'] = log(mammals['body'])\n",
      "mammals['log_brain'] = log(mammals['brain'])\n",
      "\n",
      "plt.scatter(mammals['log_body'], mammals['log_brain'])"
     ],
     "language": "python",
     "metadata": {},
     "outputs": [
      {
       "metadata": {},
       "output_type": "pyout",
       "prompt_number": 38,
       "text": [
        "<matplotlib.collections.PathCollection at 0x1179289d0>"
       ]
      },
      {
       "metadata": {},
       "output_type": "display_data",
       "png": "[encoded data removed]",
       "text": [
        "<matplotlib.figure.Figure at 0x117118410>"
       ]
      }
     ],
     "prompt_number": 38
    },
    {
     "cell_type": "heading",
     "level": 3,
     "metadata": {},
     "source": [
      "Practice: Using Linear Regressions"
     ]
    },
    {
     "cell_type": "code",
     "collapsed": false,
     "input": [
      "from sklearn import linear_model\n",
      "\n",
      "# Make the model object\n",
      "regr = linear_model.LinearRegression()\n",
      "\n",
      "# Fit the data\n",
      "body = mammals[['log_body']] # ensures that it will be a matrix\n",
      "brain = mammals['log_brain'].values\n",
      "\n",
      "regr.fit(body, brain) # .fit(input, response) => statsmodel equiv is \".ols('log(brain) ~ log(body)')\"\n",
      "\n",
      "# regr.get_params() and regr.set_params({}) to get and set parameters in a sklearn object? "
     ],
     "language": "python",
     "metadata": {},
     "outputs": [
      {
       "output_type": "stream",
       "stream": "stdout",
       "text": [
        "{'copy_X': True, 'normalize': False, 'fit_intercept': True}\n"
       ]
      }
     ],
     "prompt_number": 45
    },
    {
     "cell_type": "markdown",
     "metadata": {},
     "source": [
      "Above we go through some steps to get our data 'presentable' for scikit learn. There is a regression model available in PANDAS, but let's stick with the models available in scikit learn."
     ]
    },
    {
     "cell_type": "code",
     "collapsed": false,
     "input": [
      "# Display the coefficients:\n",
      "print regr.coef_\n",
      "\n",
      "# Display our SSE:\n",
      "# sum of square residuals\n",
      "print np.mean((regr.predict(body) - brain) ** 2)\n",
      "\n",
      "# Scoring our model (closer to 1 is better!)\n",
      "print regr.score(body, brain)"
     ],
     "language": "python",
     "metadata": {},
     "outputs": [
      {
       "output_type": "stream",
       "stream": "stdout",
       "text": [
        "[ 0.75168594]\n",
        "0.466495329378\n",
        "0.920783716903\n"
       ]
      }
     ],
     "prompt_number": 40
    },
    {
     "cell_type": "code",
     "collapsed": false,
     "input": [
      "plt.figure(figsize=(20,8))\n",
      "plt.scatter(body, brain)\n",
      "plt.plot(body, regr.predict(body), color='blue', linewidth=3)\n",
      "plt.show()"
     ],
     "language": "python",
     "metadata": {},
     "outputs": [
      {
       "metadata": {},
       "output_type": "display_data",
       "png": "[encoded data removed]",
       "text": [
        "<matplotlib.figure.Figure at 0x11377e350>"
       ]
      }
     ],
     "prompt_number": 41
    },
    {
     "cell_type": "heading",
     "level": 3,
     "metadata": {},
     "source": [
      "Statsmodels"
     ]
    },
    {
     "cell_type": "markdown",
     "metadata": {},
     "source": [
      "While the above can be considered an \"intro to how all sk-learn algorithms work,\" keep in mind the power that comes from statsmodels as well, as reviewed last class:"
     ]
    },
    {
     "cell_type": "code",
     "collapsed": false,
     "input": [
      "from statsmodels.formula import api as smf\n",
      "\n",
      "lmfit = smf.ols('log(brain) ~ log(body)', data=mammals)\n",
      "print regr.intercept_\n",
      "print regr.coef_\n",
      "print lmfit.fit().summary()"
     ],
     "language": "python",
     "metadata": {},
     "outputs": [
      {
       "output_type": "stream",
       "stream": "stdout",
       "text": [
        "2.13478867676\n",
        "[ 0.75168594]\n",
        "                            OLS Regression Results                            \n",
        "==============================================================================\n",
        "Dep. Variable:             log(brain)   R-squared:                       0.921\n",
        "Model:                            OLS   Adj. R-squared:                  0.919\n",
        "Method:                 Least Squares   F-statistic:                     697.4\n",
        "Date:                Mon, 06 Oct 2014   Prob (F-statistic):           9.84e-35\n",
        "Time:                        19:54:10   Log-Likelihood:                -64.336\n",
        "No. Observations:                  62   AIC:                             132.7\n",
        "Df Residuals:                      60   BIC:                             136.9\n",
        "Df Model:                           1                                         \n",
        "==============================================================================\n",
        "                 coef    std err          t      P>|t|      [95.0% Conf. Int.]\n",
        "------------------------------------------------------------------------------\n",
        "Intercept      2.1348      0.096     22.227      0.000         1.943     2.327\n",
        "log(body)      0.7517      0.028     26.409      0.000         0.695     0.809\n",
        "==============================================================================\n",
        "Omnibus:                        2.698   Durbin-Watson:                   1.980\n",
        "Prob(Omnibus):                  0.260   Jarque-Bera (JB):                1.933\n",
        "Skew:                           0.405   Prob(JB):                        0.380\n",
        "Kurtosis:                       3.301   Cond. No.                         3.73\n",
        "==============================================================================\n"
       ]
      }
     ],
     "prompt_number": 42
    },
    {
     "cell_type": "heading",
     "level": 2,
     "metadata": {},
     "source": [
      "Resources"
     ]
    },
    {
     "cell_type": "heading",
     "level": 4,
     "metadata": {},
     "source": [
      "Handbooks"
     ]
    },
    {
     "cell_type": "markdown",
     "metadata": {},
     "source": [
      "* [Regression Analysis by Example](http://type.hk:2551/calibre/browse/book/294) (**Chapter 1 - 2**) - Samprit Chatterjee\n",
      "* [Matrix Algebra as a Tool](http://book.type.hk/calibre/browse/book/464) - Ali S. Hadi"
     ]
    }
   ],
   "metadata": {}
  }
 ]
}